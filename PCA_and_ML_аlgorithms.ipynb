{
  "nbformat": 4,
  "nbformat_minor": 0,
  "metadata": {
    "colab": {
      "name": "PCA and ML аlgorithms",
      "provenance": [],
      "collapsed_sections": []
    },
    "kernelspec": {
      "name": "python3",
      "display_name": "Python 3"
    },
    "language_info": {
      "name": "python"
    }
  },
  "cells": [
    {
      "cell_type": "code",
      "source": [
        "import pandas as pd\n",
        "import numpy as np\n",
        "import seaborn as sns\n",
        "from matplotlib import pyplot as plt\n",
        "from sklearn import preprocessing\n",
        "from sklearn.decomposition import PCA\n",
        "from sklearn.model_selection import train_test_split\n",
        "from sklearn.preprocessing import StandardScaler\n",
        "from sklearn.cluster import KMeans\n",
        "from sklearn.cluster import DBSCAN\n"
      ],
      "metadata": {
        "id": "MAjStV4RGiM7"
      },
      "execution_count": 3,
      "outputs": []
    },
    {
      "cell_type": "markdown",
      "source": [
        "##data 2-2"
      ],
      "metadata": {
        "id": "LFjQPGjDb5Fu"
      }
    },
    {
      "cell_type": "code",
      "source": [
        "file_url = \"https://raw.githubusercontent.com/tesla150600/tesla150600/main/MN07-Davydenko-_3_.csv\"\n",
        "df3 = pd.read_csv(file_url, header=None)\n",
        "df3"
      ],
      "metadata": {
        "colab": {
          "base_uri": "https://localhost:8080/",
          "height": 423
        },
        "id": "O4rJUgmpcESx",
        "outputId": "faef6328-9895-4d35-ed4b-7c8376222ca0"
      },
      "execution_count": 4,
      "outputs": [
        {
          "output_type": "execute_result",
          "data": {
            "text/plain": [
              "         0      1      2       3       4       5       6  7\n",
              "0    0.475  0.360  0.120  0.5915  0.3245  0.1100  0.1270  6\n",
              "1    0.480  0.375  0.115  0.6765  0.3205  0.1065  0.1700  6\n",
              "2    0.480  0.385  0.145  0.6400  0.2925  0.1405  0.1575  6\n",
              "3    0.480  0.360  0.100  0.4390  0.1940  0.0990  0.1150  8\n",
              "4    0.480  0.365  0.120  0.6015  0.3120  0.1170  0.1400  7\n",
              "..     ...    ...    ...     ...     ...     ...     ... ..\n",
              "295  0.385  0.280  0.085  0.2175  0.0970  0.0380  0.0670  8\n",
              "296  0.385  0.300  0.095  0.3020  0.1520  0.0615  0.0735  7\n",
              "297  0.385  0.280  0.090  0.2280  0.1025  0.0420  0.0655  5\n",
              "298  0.390  0.300  0.095  0.3265  0.1665  0.0575  0.0890  7\n",
              "299  0.395  0.305  0.105  0.2840  0.1135  0.0595  0.0945  8\n",
              "\n",
              "[300 rows x 8 columns]"
            ],
            "text/html": [
              "\n",
              "  <div id=\"df-709597de-b764-404f-94d9-301b16aad75c\">\n",
              "    <div class=\"colab-df-container\">\n",
              "      <div>\n",
              "<style scoped>\n",
              "    .dataframe tbody tr th:only-of-type {\n",
              "        vertical-align: middle;\n",
              "    }\n",
              "\n",
              "    .dataframe tbody tr th {\n",
              "        vertical-align: top;\n",
              "    }\n",
              "\n",
              "    .dataframe thead th {\n",
              "        text-align: right;\n",
              "    }\n",
              "</style>\n",
              "<table border=\"1\" class=\"dataframe\">\n",
              "  <thead>\n",
              "    <tr style=\"text-align: right;\">\n",
              "      <th></th>\n",
              "      <th>0</th>\n",
              "      <th>1</th>\n",
              "      <th>2</th>\n",
              "      <th>3</th>\n",
              "      <th>4</th>\n",
              "      <th>5</th>\n",
              "      <th>6</th>\n",
              "      <th>7</th>\n",
              "    </tr>\n",
              "  </thead>\n",
              "  <tbody>\n",
              "    <tr>\n",
              "      <th>0</th>\n",
              "      <td>0.475</td>\n",
              "      <td>0.360</td>\n",
              "      <td>0.120</td>\n",
              "      <td>0.5915</td>\n",
              "      <td>0.3245</td>\n",
              "      <td>0.1100</td>\n",
              "      <td>0.1270</td>\n",
              "      <td>6</td>\n",
              "    </tr>\n",
              "    <tr>\n",
              "      <th>1</th>\n",
              "      <td>0.480</td>\n",
              "      <td>0.375</td>\n",
              "      <td>0.115</td>\n",
              "      <td>0.6765</td>\n",
              "      <td>0.3205</td>\n",
              "      <td>0.1065</td>\n",
              "      <td>0.1700</td>\n",
              "      <td>6</td>\n",
              "    </tr>\n",
              "    <tr>\n",
              "      <th>2</th>\n",
              "      <td>0.480</td>\n",
              "      <td>0.385</td>\n",
              "      <td>0.145</td>\n",
              "      <td>0.6400</td>\n",
              "      <td>0.2925</td>\n",
              "      <td>0.1405</td>\n",
              "      <td>0.1575</td>\n",
              "      <td>6</td>\n",
              "    </tr>\n",
              "    <tr>\n",
              "      <th>3</th>\n",
              "      <td>0.480</td>\n",
              "      <td>0.360</td>\n",
              "      <td>0.100</td>\n",
              "      <td>0.4390</td>\n",
              "      <td>0.1940</td>\n",
              "      <td>0.0990</td>\n",
              "      <td>0.1150</td>\n",
              "      <td>8</td>\n",
              "    </tr>\n",
              "    <tr>\n",
              "      <th>4</th>\n",
              "      <td>0.480</td>\n",
              "      <td>0.365</td>\n",
              "      <td>0.120</td>\n",
              "      <td>0.6015</td>\n",
              "      <td>0.3120</td>\n",
              "      <td>0.1170</td>\n",
              "      <td>0.1400</td>\n",
              "      <td>7</td>\n",
              "    </tr>\n",
              "    <tr>\n",
              "      <th>...</th>\n",
              "      <td>...</td>\n",
              "      <td>...</td>\n",
              "      <td>...</td>\n",
              "      <td>...</td>\n",
              "      <td>...</td>\n",
              "      <td>...</td>\n",
              "      <td>...</td>\n",
              "      <td>...</td>\n",
              "    </tr>\n",
              "    <tr>\n",
              "      <th>295</th>\n",
              "      <td>0.385</td>\n",
              "      <td>0.280</td>\n",
              "      <td>0.085</td>\n",
              "      <td>0.2175</td>\n",
              "      <td>0.0970</td>\n",
              "      <td>0.0380</td>\n",
              "      <td>0.0670</td>\n",
              "      <td>8</td>\n",
              "    </tr>\n",
              "    <tr>\n",
              "      <th>296</th>\n",
              "      <td>0.385</td>\n",
              "      <td>0.300</td>\n",
              "      <td>0.095</td>\n",
              "      <td>0.3020</td>\n",
              "      <td>0.1520</td>\n",
              "      <td>0.0615</td>\n",
              "      <td>0.0735</td>\n",
              "      <td>7</td>\n",
              "    </tr>\n",
              "    <tr>\n",
              "      <th>297</th>\n",
              "      <td>0.385</td>\n",
              "      <td>0.280</td>\n",
              "      <td>0.090</td>\n",
              "      <td>0.2280</td>\n",
              "      <td>0.1025</td>\n",
              "      <td>0.0420</td>\n",
              "      <td>0.0655</td>\n",
              "      <td>5</td>\n",
              "    </tr>\n",
              "    <tr>\n",
              "      <th>298</th>\n",
              "      <td>0.390</td>\n",
              "      <td>0.300</td>\n",
              "      <td>0.095</td>\n",
              "      <td>0.3265</td>\n",
              "      <td>0.1665</td>\n",
              "      <td>0.0575</td>\n",
              "      <td>0.0890</td>\n",
              "      <td>7</td>\n",
              "    </tr>\n",
              "    <tr>\n",
              "      <th>299</th>\n",
              "      <td>0.395</td>\n",
              "      <td>0.305</td>\n",
              "      <td>0.105</td>\n",
              "      <td>0.2840</td>\n",
              "      <td>0.1135</td>\n",
              "      <td>0.0595</td>\n",
              "      <td>0.0945</td>\n",
              "      <td>8</td>\n",
              "    </tr>\n",
              "  </tbody>\n",
              "</table>\n",
              "<p>300 rows × 8 columns</p>\n",
              "</div>\n",
              "      <button class=\"colab-df-convert\" onclick=\"convertToInteractive('df-709597de-b764-404f-94d9-301b16aad75c')\"\n",
              "              title=\"Convert this dataframe to an interactive table.\"\n",
              "              style=\"display:none;\">\n",
              "        \n",
              "  <svg xmlns=\"http://www.w3.org/2000/svg\" height=\"24px\"viewBox=\"0 0 24 24\"\n",
              "       width=\"24px\">\n",
              "    <path d=\"M0 0h24v24H0V0z\" fill=\"none\"/>\n",
              "    <path d=\"M18.56 5.44l.94 2.06.94-2.06 2.06-.94-2.06-.94-.94-2.06-.94 2.06-2.06.94zm-11 1L8.5 8.5l.94-2.06 2.06-.94-2.06-.94L8.5 2.5l-.94 2.06-2.06.94zm10 10l.94 2.06.94-2.06 2.06-.94-2.06-.94-.94-2.06-.94 2.06-2.06.94z\"/><path d=\"M17.41 7.96l-1.37-1.37c-.4-.4-.92-.59-1.43-.59-.52 0-1.04.2-1.43.59L10.3 9.45l-7.72 7.72c-.78.78-.78 2.05 0 2.83L4 21.41c.39.39.9.59 1.41.59.51 0 1.02-.2 1.41-.59l7.78-7.78 2.81-2.81c.8-.78.8-2.07 0-2.86zM5.41 20L4 18.59l7.72-7.72 1.47 1.35L5.41 20z\"/>\n",
              "  </svg>\n",
              "      </button>\n",
              "      \n",
              "  <style>\n",
              "    .colab-df-container {\n",
              "      display:flex;\n",
              "      flex-wrap:wrap;\n",
              "      gap: 12px;\n",
              "    }\n",
              "\n",
              "    .colab-df-convert {\n",
              "      background-color: #E8F0FE;\n",
              "      border: none;\n",
              "      border-radius: 50%;\n",
              "      cursor: pointer;\n",
              "      display: none;\n",
              "      fill: #1967D2;\n",
              "      height: 32px;\n",
              "      padding: 0 0 0 0;\n",
              "      width: 32px;\n",
              "    }\n",
              "\n",
              "    .colab-df-convert:hover {\n",
              "      background-color: #E2EBFA;\n",
              "      box-shadow: 0px 1px 2px rgba(60, 64, 67, 0.3), 0px 1px 3px 1px rgba(60, 64, 67, 0.15);\n",
              "      fill: #174EA6;\n",
              "    }\n",
              "\n",
              "    [theme=dark] .colab-df-convert {\n",
              "      background-color: #3B4455;\n",
              "      fill: #D2E3FC;\n",
              "    }\n",
              "\n",
              "    [theme=dark] .colab-df-convert:hover {\n",
              "      background-color: #434B5C;\n",
              "      box-shadow: 0px 1px 3px 1px rgba(0, 0, 0, 0.15);\n",
              "      filter: drop-shadow(0px 1px 2px rgba(0, 0, 0, 0.3));\n",
              "      fill: #FFFFFF;\n",
              "    }\n",
              "  </style>\n",
              "\n",
              "      <script>\n",
              "        const buttonEl =\n",
              "          document.querySelector('#df-709597de-b764-404f-94d9-301b16aad75c button.colab-df-convert');\n",
              "        buttonEl.style.display =\n",
              "          google.colab.kernel.accessAllowed ? 'block' : 'none';\n",
              "\n",
              "        async function convertToInteractive(key) {\n",
              "          const element = document.querySelector('#df-709597de-b764-404f-94d9-301b16aad75c');\n",
              "          const dataTable =\n",
              "            await google.colab.kernel.invokeFunction('convertToInteractive',\n",
              "                                                     [key], {});\n",
              "          if (!dataTable) return;\n",
              "\n",
              "          const docLinkHtml = 'Like what you see? Visit the ' +\n",
              "            '<a target=\"_blank\" href=https://colab.research.google.com/notebooks/data_table.ipynb>data table notebook</a>'\n",
              "            + ' to learn more about interactive tables.';\n",
              "          element.innerHTML = '';\n",
              "          dataTable['output_type'] = 'display_data';\n",
              "          await google.colab.output.renderOutput(dataTable, element);\n",
              "          const docLink = document.createElement('div');\n",
              "          docLink.innerHTML = docLinkHtml;\n",
              "          element.appendChild(docLink);\n",
              "        }\n",
              "      </script>\n",
              "    </div>\n",
              "  </div>\n",
              "  "
            ]
          },
          "metadata": {},
          "execution_count": 4
        }
      ]
    },
    {
      "cell_type": "code",
      "source": [
        "y22=df3.iloc[:,-1:]\n",
        "X22=df3.iloc[:,:-1]\n",
        "X_train22, X_test22, y_train22, y_test22 = train_test_split(X22, y22, test_size=0.25, random_state=0)"
      ],
      "metadata": {
        "id": "UEDPbuiLcENu"
      },
      "execution_count": 5,
      "outputs": []
    },
    {
      "cell_type": "code",
      "source": [
        "X_trai22 = X_train22.reset_index(drop=True)\n",
        "X_test22 = X_test22.reset_index(drop=True)\n",
        "y_train22 = y_train22.reset_index(drop=True)\n",
        "y_test22 = y_test22.reset_index(drop=True)"
      ],
      "metadata": {
        "id": "cSEdW6vccTQB"
      },
      "execution_count": 6,
      "outputs": []
    },
    {
      "cell_type": "code",
      "source": [
        "sc = StandardScaler()\n",
        "X_train22 = sc.fit_transform(X_train22)\n",
        "X_test22 = sc.transform(X_test22)"
      ],
      "metadata": {
        "id": "BPRMBlzjcbze"
      },
      "execution_count": 8,
      "outputs": []
    },
    {
      "cell_type": "code",
      "source": [
        "pca = PCA()\n",
        "X_train1_22 = pca.fit_transform(X_train22)\n",
        "X_test1_22 = pca.transform(X_test22)\n",
        "pca.n_components_"
      ],
      "metadata": {
        "colab": {
          "base_uri": "https://localhost:8080/"
        },
        "id": "WrTiA-A7chl_",
        "outputId": "b7118bda-8754-4116-9ed7-8dfa8e562264"
      },
      "execution_count": 9,
      "outputs": [
        {
          "output_type": "execute_result",
          "data": {
            "text/plain": [
              "7"
            ]
          },
          "metadata": {},
          "execution_count": 9
        }
      ]
    },
    {
      "cell_type": "code",
      "source": [
        "explained_variance = pca.explained_variance_ratio_\n",
        "explained_variance\n",
        "j = 0 \n",
        "for i in explained_variance:\n",
        "  j = j +1 \n",
        "  print(\"Colums num : \", j , \" value of dispersia : \", round(i, 4))"
      ],
      "metadata": {
        "colab": {
          "base_uri": "https://localhost:8080/"
        },
        "id": "vZiU39kyczmp",
        "outputId": "61f830f8-982e-4b2f-b75d-9e949c26fc8b"
      },
      "execution_count": 10,
      "outputs": [
        {
          "output_type": "stream",
          "name": "stdout",
          "text": [
            "Colums num :  1  value of dispersia :  0.9383\n",
            "Colums num :  2  value of dispersia :  0.0289\n",
            "Colums num :  3  value of dispersia :  0.0157\n",
            "Colums num :  4  value of dispersia :  0.0078\n",
            "Colums num :  5  value of dispersia :  0.0058\n",
            "Colums num :  6  value of dispersia :  0.0028\n",
            "Colums num :  7  value of dispersia :  0.0008\n"
          ]
        }
      ]
    },
    {
      "cell_type": "code",
      "source": [
        "for i in (0.6, 0.8 , 0.98):\n",
        "  pca = PCA(i)\n",
        "  X_train1_22 = pca.fit_transform(X_train22)\n",
        "  X_test1_22 = pca.transform(X_test22)\n",
        "  print(\"for\",i*100,'% need ', pca.n_components_ , 'components ')"
      ],
      "metadata": {
        "colab": {
          "base_uri": "https://localhost:8080/"
        },
        "id": "mhz_9Zbic8T_",
        "outputId": "20b97dc5-d9d8-42bd-bd49-fa4e7ab1ddca"
      },
      "execution_count": 11,
      "outputs": [
        {
          "output_type": "stream",
          "name": "stdout",
          "text": [
            "for 60.0 % need  1 components \n",
            "for 80.0 % need  1 components \n",
            "for 98.0 % need  3 components \n"
          ]
        }
      ]
    },
    {
      "cell_type": "code",
      "source": [
        "pca = PCA(.9)\n",
        "X_train1_22 = pca.fit_transform(X_train22)\n",
        "X_test1_22 = pca.transform(X_test22)\n",
        "print(\"minimum for 90 % need  \", pca.n_components_,  'components ')"
      ],
      "metadata": {
        "colab": {
          "base_uri": "https://localhost:8080/"
        },
        "id": "WdJt2_vSdDwo",
        "outputId": "f8d1b577-2cb0-4e7e-cb23-405cbb0d228d"
      },
      "execution_count": 12,
      "outputs": [
        {
          "output_type": "stream",
          "name": "stdout",
          "text": [
            "minimum for 90 % need   1 components \n"
          ]
        }
      ]
    },
    {
      "cell_type": "markdown",
      "source": [
        "##data 3-1"
      ],
      "metadata": {
        "id": "RNQ5aakqdUSJ"
      }
    },
    {
      "cell_type": "code",
      "source": [
        "file_url = \"https://raw.githubusercontent.com/tesla150600/tesla150600/main/MN07-Davydenko-_5_.csv\"\n",
        "data = pd.read_csv(file_url, sep=',', decimal=',',header=None)\n",
        "data_6 = data.drop(columns=6)"
      ],
      "metadata": {
        "id": "j10qUFBZdXXn"
      },
      "execution_count": 13,
      "outputs": []
    },
    {
      "cell_type": "code",
      "source": [
        "y3=data_6.iloc[:,-1:]\n",
        "X3=data_6.iloc[:,:-1]\n",
        "X_train3, X_test3, y_train3, y_test3 = train_test_split(X3, y3, test_size=0.25, random_state=0)\n",
        "X_trai3 = X_train3.reset_index(drop=True)\n",
        "X_test3 = X_test3.reset_index(drop=True)\n",
        "y_train3 = y_train3.reset_index(drop=True)\n",
        "y_test3 = y_test3.reset_index(drop=True)\n",
        "X_train3 = sc.fit_transform(X_train3)\n",
        "X_test3 = sc.transform(X_test3)"
      ],
      "metadata": {
        "id": "csw_DgCVdpr3"
      },
      "execution_count": 14,
      "outputs": []
    },
    {
      "cell_type": "code",
      "source": [
        "pca = PCA()\n",
        "X_train1_3 = pca.fit_transform(X_train3)\n",
        "X_test1_3 = pca.transform(X_test3)\n",
        "pca.n_components_"
      ],
      "metadata": {
        "colab": {
          "base_uri": "https://localhost:8080/"
        },
        "id": "7KeoIjN5eZCn",
        "outputId": "7f385b47-a725-4a0e-d8c1-71a994f18cf2"
      },
      "execution_count": 15,
      "outputs": [
        {
          "output_type": "execute_result",
          "data": {
            "text/plain": [
              "5"
            ]
          },
          "metadata": {},
          "execution_count": 15
        }
      ]
    },
    {
      "cell_type": "code",
      "source": [
        "explained_variance = pca.explained_variance_ratio_\n",
        "explained_variance\n",
        "j = 0 \n",
        "for i in explained_variance:\n",
        "  j = j +1 \n",
        "  print(\"Colums num : \", j , \" value of dispersia : \", round(i, 4))"
      ],
      "metadata": {
        "colab": {
          "base_uri": "https://localhost:8080/"
        },
        "id": "lqKtuhnzejVR",
        "outputId": "1731908c-28cd-4a81-c3d3-36ed51dc1edc"
      },
      "execution_count": 16,
      "outputs": [
        {
          "output_type": "stream",
          "name": "stdout",
          "text": [
            "Colums num :  1  value of dispersia :  0.8256\n",
            "Colums num :  2  value of dispersia :  0.1285\n",
            "Colums num :  3  value of dispersia :  0.0395\n",
            "Colums num :  4  value of dispersia :  0.0056\n",
            "Colums num :  5  value of dispersia :  0.0008\n"
          ]
        }
      ]
    },
    {
      "cell_type": "code",
      "source": [
        "for i in (0.6, 0.8 , 0.98):\n",
        "  pca = PCA(i)\n",
        "  X_train1_22 = pca.fit_transform(X_train22)\n",
        "  X_test1_22 = pca.transform(X_test22)\n",
        "  print(\"for\",i*100,'% need ', pca.n_components_ , 'components ')"
      ],
      "metadata": {
        "colab": {
          "base_uri": "https://localhost:8080/"
        },
        "id": "klqEH3DremeQ",
        "outputId": "2307ce7b-5c69-451e-cc67-586b971134fb"
      },
      "execution_count": 17,
      "outputs": [
        {
          "output_type": "stream",
          "name": "stdout",
          "text": [
            "for 60.0 % need  1 components \n",
            "for 80.0 % need  1 components \n",
            "for 98.0 % need  3 components \n"
          ]
        }
      ]
    },
    {
      "cell_type": "code",
      "source": [
        "pca = PCA(.9)\n",
        "X_train1_3 = pca.fit_transform(X_train3)\n",
        "X_test1_3 = pca.transform(X_test3)\n",
        "print(\"minimum for 90 % need  \", pca.n_components_,  'components ')"
      ],
      "metadata": {
        "colab": {
          "base_uri": "https://localhost:8080/"
        },
        "id": "d_OBkAJJe2EH",
        "outputId": "b8d7e4f7-0bf0-42a2-cd4e-d4f321b65af1"
      },
      "execution_count": 18,
      "outputs": [
        {
          "output_type": "stream",
          "name": "stdout",
          "text": [
            "minimum for 90 % need   2 components \n"
          ]
        }
      ]
    },
    {
      "cell_type": "markdown",
      "metadata": {
        "id": "xzQ778tcFLXa"
      },
      "source": [
        "# Аналіз головних компонент і метод k-найближчих сусідів"
      ]
    },
    {
      "cell_type": "code",
      "source": [
        "from scipy.stats import mode\n",
        "from sklearn.metrics import accuracy_score\n",
        "from sklearn.metrics import precision_score\n",
        "from sklearn.metrics import recall_score\n",
        "from sklearn.metrics import f1_score\n",
        "from sklearn.metrics import matthews_corrcoef\n",
        "from sklearn.metrics import cohen_kappa_score\n",
        "from sklearn.metrics import confusion_matrix"
      ],
      "metadata": {
        "id": "SDs8G8EUlcYW"
      },
      "execution_count": 19,
      "outputs": []
    },
    {
      "cell_type": "code",
      "source": [
        "def eucledian(p1,p2):\n",
        "    dist = np.sqrt(np.sum((p1-p2)**2))\n",
        "    return dist\n",
        "def L1(p1,p2):\n",
        "    dist = np.sum(np.abs(p1 - p2))\n",
        "    return dist\n",
        "def chebushev(p1,p2):\n",
        "    dist = abs(max(p1 - p2)) \n",
        "    return dist\n",
        "\n",
        "def metric(Y_test, y_pred):\n",
        "  print('accuracy', accuracy_score(Y_test, y_pred))\n",
        "  print('precision', precision_score( Y_test, y_pred, average = 'macro'))\n",
        "  print('recall', recall_score(Y_test, y_pred, average = 'macro'))\n",
        "  print('F1', f1_score(Y_test, y_pred, average='macro'))\n",
        "  print('MCC', matthews_corrcoef(Y_test, y_pred))\n",
        "  print('Kappa Cohen', cohen_kappa_score(Y_test, y_pred))\n",
        "  print('Confusion Matrix\\n', confusion_matrix(Y_test, y_pred))\n",
        "\n",
        "def predict(x_train, y , x_input, k,metod):\n",
        "    op_labels = []\n",
        "    for item in x_input:       \n",
        "        point_dist = []\n",
        "        for j in range(len(x_train)): \n",
        "            distances = metod(np.array(x_train[j,:]) , item) \n",
        "            point_dist.append(distances) \n",
        "        point_dist = np.array(point_dist) \n",
        "        dist = np.argsort(point_dist)[:k] \n",
        "        labels = y[dist]\n",
        "        lab = mode(labels) \n",
        "        lab = lab.mode[0]\n",
        "        op_labels.append(lab)\n",
        " \n",
        "    return op_labels"
      ],
      "metadata": {
        "id": "12kA0hQLnqPV"
      },
      "execution_count": 20,
      "outputs": []
    },
    {
      "cell_type": "code",
      "source": [
        "Kv0=(df3[:60]).reset_index(drop=True)\n",
        "Kv1=(df3[60:120]).reset_index(drop=True)\n",
        "Kv2=(df3[120:180]).reset_index(drop=True)\n",
        "Kv3=(df3[180:240]).reset_index(drop=True)\n",
        "Kv4=(df3[-60:]).reset_index(drop=True)\n",
        "\n",
        "KV_0=pd.concat([Kv4,Kv3,Kv1,Kv2], ignore_index=True)\n",
        "KV_1=pd.concat([Kv2,Kv0,Kv4,Kv3], ignore_index=True)\n",
        "KV_2=pd.concat([Kv1,Kv4,Kv0,Kv3], ignore_index=True)\n",
        "KV_3=pd.concat([Kv0,Kv2,Kv4,Kv1], ignore_index=True)\n",
        "KV_4=pd.concat([Kv3,Kv2,Kv1,Kv0], ignore_index=True)\n",
        "\n",
        "def k_fold3( KFV_train, KFV_test,method):\n",
        "  \n",
        "    XV_train = KFV_train.iloc[:,:-1].to_numpy()\n",
        "    YV_train = KFV_train.iloc[:,-1:].to_numpy()\n",
        "\n",
        "    XV_test = KFV_test.iloc[:,:-1].to_numpy()\n",
        "    YV_test = KFV_test.iloc[:,-1:].to_numpy()\n",
        "\n",
        "\n",
        "    pca = PCA(n_components=1)\n",
        "    XV_train = pca.fit_transform(XV_train)\n",
        "    XV_test = pca.transform(XV_test)    \n",
        "\n",
        "    Yv_predict = predict(XV_train, YV_train, XV_test, 3 , method)\n",
        "\n",
        "    print('accuracy :', accuracy_score(YV_test, Yv_predict))"
      ],
      "metadata": {
        "id": "-Mdl02V-oPkN"
      },
      "execution_count": 21,
      "outputs": []
    },
    {
      "cell_type": "code",
      "source": [
        "k_fold3(KV_0,Kv0, eucledian)\n",
        "k_fold3(KV_1,Kv1, eucledian)\n",
        "k_fold3(KV_2,Kv2, eucledian)\n",
        "k_fold3(KV_3,Kv3, eucledian)\n",
        "k_fold3(KV_4,Kv4, eucledian)"
      ],
      "metadata": {
        "colab": {
          "base_uri": "https://localhost:8080/"
        },
        "id": "g3dQR-zBoqMd",
        "outputId": "f915a103-40ad-464e-fb6a-35f67528d48f"
      },
      "execution_count": 22,
      "outputs": [
        {
          "output_type": "stream",
          "name": "stdout",
          "text": [
            "accuracy : 0.21666666666666667\n",
            "accuracy : 0.26666666666666666\n",
            "accuracy : 0.26666666666666666\n",
            "accuracy : 0.31666666666666665\n",
            "accuracy : 0.35\n"
          ]
        }
      ]
    },
    {
      "cell_type": "code",
      "source": [
        "#PCA  | OLD\n",
        "#0.21 | 0.26\n",
        "#0.26 | 0.26\n",
        "#0.26 | 0.33\n",
        "#0.31 | 0.28\n",
        "#0.35 | 0.35"
      ],
      "metadata": {
        "id": "oGzYdG75pm2A"
      },
      "execution_count": null,
      "outputs": []
    },
    {
      "cell_type": "markdown",
      "metadata": {
        "id": "Z2QB_VqqGAFh"
      },
      "source": [
        "# Аналіз головних компонент і кластеризація"
      ]
    },
    {
      "cell_type": "markdown",
      "source": [
        "##K-means"
      ],
      "metadata": {
        "id": "9jxS2AwMw0-F"
      }
    },
    {
      "cell_type": "code",
      "metadata": {
        "id": "UVYw5Z_BdJM4",
        "colab": {
          "base_uri": "https://localhost:8080/"
        },
        "outputId": "a4d48add-ca96-4a23-e56e-95f3974d7426"
      },
      "source": [
        "kmeans = KMeans(n_clusters=2)\n",
        "kmeans.fit(data_6)"
      ],
      "execution_count": 33,
      "outputs": [
        {
          "output_type": "execute_result",
          "data": {
            "text/plain": [
              "KMeans(n_clusters=2)"
            ]
          },
          "metadata": {},
          "execution_count": 33
        }
      ]
    },
    {
      "cell_type": "code",
      "source": [
        "OLD = kmeans.labels_"
      ],
      "metadata": {
        "id": "f5zrBBeBsCl1"
      },
      "execution_count": 34,
      "outputs": []
    },
    {
      "cell_type": "code",
      "source": [
        "dfk = sc.fit_transform(data_6)\n",
        "pca = PCA(n_components=1)\n",
        "PCA_DFK = pca.fit_transform(dfk)"
      ],
      "metadata": {
        "id": "EC3MCf_ksC4l"
      },
      "execution_count": 35,
      "outputs": []
    },
    {
      "cell_type": "code",
      "source": [
        "kmeans = KMeans(n_clusters=2)\n",
        "kmeans.fit(PCA_DFK)"
      ],
      "metadata": {
        "colab": {
          "base_uri": "https://localhost:8080/"
        },
        "id": "zYHdm3JQsrgd",
        "outputId": "71e467c2-ee34-4859-bf07-a372142f5460"
      },
      "execution_count": 36,
      "outputs": [
        {
          "output_type": "execute_result",
          "data": {
            "text/plain": [
              "KMeans(n_clusters=2)"
            ]
          },
          "metadata": {},
          "execution_count": 36
        }
      ]
    },
    {
      "cell_type": "code",
      "source": [
        "PCA_k = kmeans.labels_"
      ],
      "metadata": {
        "id": "LUcv2HystLxX"
      },
      "execution_count": 37,
      "outputs": []
    },
    {
      "cell_type": "code",
      "source": [
        "K_Meanz =pd.DataFrame()\n",
        "K_Meanz[\"old\"] = OLD"
      ],
      "metadata": {
        "id": "I01PFlcEvuwO"
      },
      "execution_count": 38,
      "outputs": []
    },
    {
      "cell_type": "code",
      "source": [
        "PCA_best = []\n",
        "for i in PCA_k:\n",
        "  if i == 0:\n",
        "    PCA_best.append(1)\n",
        "  else:\n",
        "    PCA_best.append(0)\n",
        "K_Meanz[\"PCA_best\"]= PCA_best"
      ],
      "metadata": {
        "id": "COz_BHzuvxa9"
      },
      "execution_count": 39,
      "outputs": []
    },
    {
      "cell_type": "code",
      "source": [
        "accuracy_score(K_Meanz[\"old\"], K_Meanz[\"PCA_best\"])"
      ],
      "metadata": {
        "colab": {
          "base_uri": "https://localhost:8080/"
        },
        "id": "t7TP_diBvohg",
        "outputId": "1a87fc23-82e6-4731-f839-c236914ab211"
      },
      "execution_count": 40,
      "outputs": [
        {
          "output_type": "execute_result",
          "data": {
            "text/plain": [
              "0.964"
            ]
          },
          "metadata": {},
          "execution_count": 40
        }
      ]
    },
    {
      "cell_type": "code",
      "source": [
        "K_Meanz"
      ],
      "metadata": {
        "colab": {
          "base_uri": "https://localhost:8080/",
          "height": 423
        },
        "id": "YxPnl-pBuxPY",
        "outputId": "471f4085-731d-4c7b-f57d-59521d40f60d"
      },
      "execution_count": 41,
      "outputs": [
        {
          "output_type": "execute_result",
          "data": {
            "text/plain": [
              "     old  PCA_best\n",
              "0      0         0\n",
              "1      1         1\n",
              "2      1         1\n",
              "3      1         1\n",
              "4      1         1\n",
              "..   ...       ...\n",
              "245    0         0\n",
              "246    0         0\n",
              "247    1         1\n",
              "248    1         1\n",
              "249    1         1\n",
              "\n",
              "[250 rows x 2 columns]"
            ],
            "text/html": [
              "\n",
              "  <div id=\"df-be892303-de56-4727-a54a-8640510fb028\">\n",
              "    <div class=\"colab-df-container\">\n",
              "      <div>\n",
              "<style scoped>\n",
              "    .dataframe tbody tr th:only-of-type {\n",
              "        vertical-align: middle;\n",
              "    }\n",
              "\n",
              "    .dataframe tbody tr th {\n",
              "        vertical-align: top;\n",
              "    }\n",
              "\n",
              "    .dataframe thead th {\n",
              "        text-align: right;\n",
              "    }\n",
              "</style>\n",
              "<table border=\"1\" class=\"dataframe\">\n",
              "  <thead>\n",
              "    <tr style=\"text-align: right;\">\n",
              "      <th></th>\n",
              "      <th>old</th>\n",
              "      <th>PCA_best</th>\n",
              "    </tr>\n",
              "  </thead>\n",
              "  <tbody>\n",
              "    <tr>\n",
              "      <th>0</th>\n",
              "      <td>0</td>\n",
              "      <td>0</td>\n",
              "    </tr>\n",
              "    <tr>\n",
              "      <th>1</th>\n",
              "      <td>1</td>\n",
              "      <td>1</td>\n",
              "    </tr>\n",
              "    <tr>\n",
              "      <th>2</th>\n",
              "      <td>1</td>\n",
              "      <td>1</td>\n",
              "    </tr>\n",
              "    <tr>\n",
              "      <th>3</th>\n",
              "      <td>1</td>\n",
              "      <td>1</td>\n",
              "    </tr>\n",
              "    <tr>\n",
              "      <th>4</th>\n",
              "      <td>1</td>\n",
              "      <td>1</td>\n",
              "    </tr>\n",
              "    <tr>\n",
              "      <th>...</th>\n",
              "      <td>...</td>\n",
              "      <td>...</td>\n",
              "    </tr>\n",
              "    <tr>\n",
              "      <th>245</th>\n",
              "      <td>0</td>\n",
              "      <td>0</td>\n",
              "    </tr>\n",
              "    <tr>\n",
              "      <th>246</th>\n",
              "      <td>0</td>\n",
              "      <td>0</td>\n",
              "    </tr>\n",
              "    <tr>\n",
              "      <th>247</th>\n",
              "      <td>1</td>\n",
              "      <td>1</td>\n",
              "    </tr>\n",
              "    <tr>\n",
              "      <th>248</th>\n",
              "      <td>1</td>\n",
              "      <td>1</td>\n",
              "    </tr>\n",
              "    <tr>\n",
              "      <th>249</th>\n",
              "      <td>1</td>\n",
              "      <td>1</td>\n",
              "    </tr>\n",
              "  </tbody>\n",
              "</table>\n",
              "<p>250 rows × 2 columns</p>\n",
              "</div>\n",
              "      <button class=\"colab-df-convert\" onclick=\"convertToInteractive('df-be892303-de56-4727-a54a-8640510fb028')\"\n",
              "              title=\"Convert this dataframe to an interactive table.\"\n",
              "              style=\"display:none;\">\n",
              "        \n",
              "  <svg xmlns=\"http://www.w3.org/2000/svg\" height=\"24px\"viewBox=\"0 0 24 24\"\n",
              "       width=\"24px\">\n",
              "    <path d=\"M0 0h24v24H0V0z\" fill=\"none\"/>\n",
              "    <path d=\"M18.56 5.44l.94 2.06.94-2.06 2.06-.94-2.06-.94-.94-2.06-.94 2.06-2.06.94zm-11 1L8.5 8.5l.94-2.06 2.06-.94-2.06-.94L8.5 2.5l-.94 2.06-2.06.94zm10 10l.94 2.06.94-2.06 2.06-.94-2.06-.94-.94-2.06-.94 2.06-2.06.94z\"/><path d=\"M17.41 7.96l-1.37-1.37c-.4-.4-.92-.59-1.43-.59-.52 0-1.04.2-1.43.59L10.3 9.45l-7.72 7.72c-.78.78-.78 2.05 0 2.83L4 21.41c.39.39.9.59 1.41.59.51 0 1.02-.2 1.41-.59l7.78-7.78 2.81-2.81c.8-.78.8-2.07 0-2.86zM5.41 20L4 18.59l7.72-7.72 1.47 1.35L5.41 20z\"/>\n",
              "  </svg>\n",
              "      </button>\n",
              "      \n",
              "  <style>\n",
              "    .colab-df-container {\n",
              "      display:flex;\n",
              "      flex-wrap:wrap;\n",
              "      gap: 12px;\n",
              "    }\n",
              "\n",
              "    .colab-df-convert {\n",
              "      background-color: #E8F0FE;\n",
              "      border: none;\n",
              "      border-radius: 50%;\n",
              "      cursor: pointer;\n",
              "      display: none;\n",
              "      fill: #1967D2;\n",
              "      height: 32px;\n",
              "      padding: 0 0 0 0;\n",
              "      width: 32px;\n",
              "    }\n",
              "\n",
              "    .colab-df-convert:hover {\n",
              "      background-color: #E2EBFA;\n",
              "      box-shadow: 0px 1px 2px rgba(60, 64, 67, 0.3), 0px 1px 3px 1px rgba(60, 64, 67, 0.15);\n",
              "      fill: #174EA6;\n",
              "    }\n",
              "\n",
              "    [theme=dark] .colab-df-convert {\n",
              "      background-color: #3B4455;\n",
              "      fill: #D2E3FC;\n",
              "    }\n",
              "\n",
              "    [theme=dark] .colab-df-convert:hover {\n",
              "      background-color: #434B5C;\n",
              "      box-shadow: 0px 1px 3px 1px rgba(0, 0, 0, 0.15);\n",
              "      filter: drop-shadow(0px 1px 2px rgba(0, 0, 0, 0.3));\n",
              "      fill: #FFFFFF;\n",
              "    }\n",
              "  </style>\n",
              "\n",
              "      <script>\n",
              "        const buttonEl =\n",
              "          document.querySelector('#df-be892303-de56-4727-a54a-8640510fb028 button.colab-df-convert');\n",
              "        buttonEl.style.display =\n",
              "          google.colab.kernel.accessAllowed ? 'block' : 'none';\n",
              "\n",
              "        async function convertToInteractive(key) {\n",
              "          const element = document.querySelector('#df-be892303-de56-4727-a54a-8640510fb028');\n",
              "          const dataTable =\n",
              "            await google.colab.kernel.invokeFunction('convertToInteractive',\n",
              "                                                     [key], {});\n",
              "          if (!dataTable) return;\n",
              "\n",
              "          const docLinkHtml = 'Like what you see? Visit the ' +\n",
              "            '<a target=\"_blank\" href=https://colab.research.google.com/notebooks/data_table.ipynb>data table notebook</a>'\n",
              "            + ' to learn more about interactive tables.';\n",
              "          element.innerHTML = '';\n",
              "          dataTable['output_type'] = 'display_data';\n",
              "          await google.colab.output.renderOutput(dataTable, element);\n",
              "          const docLink = document.createElement('div');\n",
              "          docLink.innerHTML = docLinkHtml;\n",
              "          element.appendChild(docLink);\n",
              "        }\n",
              "      </script>\n",
              "    </div>\n",
              "  </div>\n",
              "  "
            ]
          },
          "metadata": {},
          "execution_count": 41
        }
      ]
    },
    {
      "cell_type": "markdown",
      "source": [
        "##DBSCAN"
      ],
      "metadata": {
        "id": "bjzQXJQIw7B9"
      }
    },
    {
      "cell_type": "code",
      "source": [
        "scaler = preprocessing.MinMaxScaler()\n",
        "\n",
        "names = data_6.columns\n",
        "d = scaler.fit_transform(data_6)\n",
        "\n",
        "scaled_df = pd.DataFrame(d, columns=names)\n",
        "\n",
        "DBS = DBSCAN(eps=0.2, min_samples=5)\n",
        "DBS.fit(scaled_df)\n",
        "OLD = DBS.labels_\n",
        "plt.scatter(data.iloc[:,1],data.iloc[:,2], c=DBS.labels_, cmap='rainbow')\n"
      ],
      "metadata": {
        "colab": {
          "base_uri": "https://localhost:8080/",
          "height": 282
        },
        "id": "VfnalMwJxEIA",
        "outputId": "1b82c951-3d46-499d-8123-3754df85c6a4"
      },
      "execution_count": 42,
      "outputs": [
        {
          "output_type": "execute_result",
          "data": {
            "text/plain": [
              "<matplotlib.collections.PathCollection at 0x7f562b6ac650>"
            ]
          },
          "metadata": {},
          "execution_count": 42
        },
        {
          "output_type": "display_data",
          "data": {
            "text/plain": [
              "<Figure size 432x288 with 1 Axes>"
            ],
            "image/png": "[encoded data removed]"
          },
          "metadata": {
            "needs_background": "light"
          }
        }
      ]
    },
    {
      "cell_type": "code",
      "source": [
        "pca = PCA(n_components=2)\n",
        "PCA_DFK = pca.fit_transform(scaled_df)\n",
        "VV=pd.DataFrame(data = PCA_DFK)"
      ],
      "metadata": {
        "id": "MCzWxexa-zmf"
      },
      "execution_count": 43,
      "outputs": []
    },
    {
      "cell_type": "code",
      "source": [
        "names = VV.columns\n",
        "d = scaler.fit_transform(VV)\n",
        "\n",
        "sc_df = pd.DataFrame(d, columns=names)"
      ],
      "metadata": {
        "id": "5XV5rdIKDRGu"
      },
      "execution_count": 44,
      "outputs": []
    },
    {
      "cell_type": "code",
      "source": [
        "sc_df"
      ],
      "metadata": {
        "colab": {
          "base_uri": "https://localhost:8080/",
          "height": 423
        },
        "id": "XNa09xh-FxTm",
        "outputId": "4dd99762-4916-42eb-fcd4-6848a5b69f19"
      },
      "execution_count": 45,
      "outputs": [
        {
          "output_type": "execute_result",
          "data": {
            "text/plain": [
              "            0         1\n",
              "0    0.445752  0.394537\n",
              "1    0.371417  0.426000\n",
              "2    0.369808  0.379472\n",
              "3    0.380920  0.337700\n",
              "4    0.315277  0.389527\n",
              "..        ...       ...\n",
              "245  0.435111  0.508170\n",
              "246  0.474175  0.477615\n",
              "247  0.390076  0.506306\n",
              "248  0.359121  0.546491\n",
              "249  0.269597  0.461671\n",
              "\n",
              "[250 rows x 2 columns]"
            ],
            "text/html": [
              "\n",
              "  <div id=\"df-e597c1f7-1f47-472a-a93d-ea231aed5c2d\">\n",
              "    <div class=\"colab-df-container\">\n",
              "      <div>\n",
              "<style scoped>\n",
              "    .dataframe tbody tr th:only-of-type {\n",
              "        vertical-align: middle;\n",
              "    }\n",
              "\n",
              "    .dataframe tbody tr th {\n",
              "        vertical-align: top;\n",
              "    }\n",
              "\n",
              "    .dataframe thead th {\n",
              "        text-align: right;\n",
              "    }\n",
              "</style>\n",
              "<table border=\"1\" class=\"dataframe\">\n",
              "  <thead>\n",
              "    <tr style=\"text-align: right;\">\n",
              "      <th></th>\n",
              "      <th>0</th>\n",
              "      <th>1</th>\n",
              "    </tr>\n",
              "  </thead>\n",
              "  <tbody>\n",
              "    <tr>\n",
              "      <th>0</th>\n",
              "      <td>0.445752</td>\n",
              "      <td>0.394537</td>\n",
              "    </tr>\n",
              "    <tr>\n",
              "      <th>1</th>\n",
              "      <td>0.371417</td>\n",
              "      <td>0.426000</td>\n",
              "    </tr>\n",
              "    <tr>\n",
              "      <th>2</th>\n",
              "      <td>0.369808</td>\n",
              "      <td>0.379472</td>\n",
              "    </tr>\n",
              "    <tr>\n",
              "      <th>3</th>\n",
              "      <td>0.380920</td>\n",
              "      <td>0.337700</td>\n",
              "    </tr>\n",
              "    <tr>\n",
              "      <th>4</th>\n",
              "      <td>0.315277</td>\n",
              "      <td>0.389527</td>\n",
              "    </tr>\n",
              "    <tr>\n",
              "      <th>...</th>\n",
              "      <td>...</td>\n",
              "      <td>...</td>\n",
              "    </tr>\n",
              "    <tr>\n",
              "      <th>245</th>\n",
              "      <td>0.435111</td>\n",
              "      <td>0.508170</td>\n",
              "    </tr>\n",
              "    <tr>\n",
              "      <th>246</th>\n",
              "      <td>0.474175</td>\n",
              "      <td>0.477615</td>\n",
              "    </tr>\n",
              "    <tr>\n",
              "      <th>247</th>\n",
              "      <td>0.390076</td>\n",
              "      <td>0.506306</td>\n",
              "    </tr>\n",
              "    <tr>\n",
              "      <th>248</th>\n",
              "      <td>0.359121</td>\n",
              "      <td>0.546491</td>\n",
              "    </tr>\n",
              "    <tr>\n",
              "      <th>249</th>\n",
              "      <td>0.269597</td>\n",
              "      <td>0.461671</td>\n",
              "    </tr>\n",
              "  </tbody>\n",
              "</table>\n",
              "<p>250 rows × 2 columns</p>\n",
              "</div>\n",
              "      <button class=\"colab-df-convert\" onclick=\"convertToInteractive('df-e597c1f7-1f47-472a-a93d-ea231aed5c2d')\"\n",
              "              title=\"Convert this dataframe to an interactive table.\"\n",
              "              style=\"display:none;\">\n",
              "        \n",
              "  <svg xmlns=\"http://www.w3.org/2000/svg\" height=\"24px\"viewBox=\"0 0 24 24\"\n",
              "       width=\"24px\">\n",
              "    <path d=\"M0 0h24v24H0V0z\" fill=\"none\"/>\n",
              "    <path d=\"M18.56 5.44l.94 2.06.94-2.06 2.06-.94-2.06-.94-.94-2.06-.94 2.06-2.06.94zm-11 1L8.5 8.5l.94-2.06 2.06-.94-2.06-.94L8.5 2.5l-.94 2.06-2.06.94zm10 10l.94 2.06.94-2.06 2.06-.94-2.06-.94-.94-2.06-.94 2.06-2.06.94z\"/><path d=\"M17.41 7.96l-1.37-1.37c-.4-.4-.92-.59-1.43-.59-.52 0-1.04.2-1.43.59L10.3 9.45l-7.72 7.72c-.78.78-.78 2.05 0 2.83L4 21.41c.39.39.9.59 1.41.59.51 0 1.02-.2 1.41-.59l7.78-7.78 2.81-2.81c.8-.78.8-2.07 0-2.86zM5.41 20L4 18.59l7.72-7.72 1.47 1.35L5.41 20z\"/>\n",
              "  </svg>\n",
              "      </button>\n",
              "      \n",
              "  <style>\n",
              "    .colab-df-container {\n",
              "      display:flex;\n",
              "      flex-wrap:wrap;\n",
              "      gap: 12px;\n",
              "    }\n",
              "\n",
              "    .colab-df-convert {\n",
              "      background-color: #E8F0FE;\n",
              "      border: none;\n",
              "      border-radius: 50%;\n",
              "      cursor: pointer;\n",
              "      display: none;\n",
              "      fill: #1967D2;\n",
              "      height: 32px;\n",
              "      padding: 0 0 0 0;\n",
              "      width: 32px;\n",
              "    }\n",
              "\n",
              "    .colab-df-convert:hover {\n",
              "      background-color: #E2EBFA;\n",
              "      box-shadow: 0px 1px 2px rgba(60, 64, 67, 0.3), 0px 1px 3px 1px rgba(60, 64, 67, 0.15);\n",
              "      fill: #174EA6;\n",
              "    }\n",
              "\n",
              "    [theme=dark] .colab-df-convert {\n",
              "      background-color: #3B4455;\n",
              "      fill: #D2E3FC;\n",
              "    }\n",
              "\n",
              "    [theme=dark] .colab-df-convert:hover {\n",
              "      background-color: #434B5C;\n",
              "      box-shadow: 0px 1px 3px 1px rgba(0, 0, 0, 0.15);\n",
              "      filter: drop-shadow(0px 1px 2px rgba(0, 0, 0, 0.3));\n",
              "      fill: #FFFFFF;\n",
              "    }\n",
              "  </style>\n",
              "\n",
              "      <script>\n",
              "        const buttonEl =\n",
              "          document.querySelector('#df-e597c1f7-1f47-472a-a93d-ea231aed5c2d button.colab-df-convert');\n",
              "        buttonEl.style.display =\n",
              "          google.colab.kernel.accessAllowed ? 'block' : 'none';\n",
              "\n",
              "        async function convertToInteractive(key) {\n",
              "          const element = document.querySelector('#df-e597c1f7-1f47-472a-a93d-ea231aed5c2d');\n",
              "          const dataTable =\n",
              "            await google.colab.kernel.invokeFunction('convertToInteractive',\n",
              "                                                     [key], {});\n",
              "          if (!dataTable) return;\n",
              "\n",
              "          const docLinkHtml = 'Like what you see? Visit the ' +\n",
              "            '<a target=\"_blank\" href=https://colab.research.google.com/notebooks/data_table.ipynb>data table notebook</a>'\n",
              "            + ' to learn more about interactive tables.';\n",
              "          element.innerHTML = '';\n",
              "          dataTable['output_type'] = 'display_data';\n",
              "          await google.colab.output.renderOutput(dataTable, element);\n",
              "          const docLink = document.createElement('div');\n",
              "          docLink.innerHTML = docLinkHtml;\n",
              "          element.appendChild(docLink);\n",
              "        }\n",
              "      </script>\n",
              "    </div>\n",
              "  </div>\n",
              "  "
            ]
          },
          "metadata": {},
          "execution_count": 45
        }
      ]
    },
    {
      "cell_type": "code",
      "source": [
        "\n",
        "DBS = DBSCAN(eps=0.05, min_samples=5)\n",
        "DBS.fit(sc_df)\n",
        "PCA_po = DBS.labels_\n",
        "plt.scatter(sc_df.iloc[:,0],sc_df.iloc[:,1], c=DBS.labels_, cmap='rainbow')"
      ],
      "metadata": {
        "colab": {
          "base_uri": "https://localhost:8080/",
          "height": 282
        },
        "id": "zA2DbGZ4yRxe",
        "outputId": "9e8311cf-ee3d-4661-e19f-10af2dbf81b9"
      },
      "execution_count": 46,
      "outputs": [
        {
          "output_type": "execute_result",
          "data": {
            "text/plain": [
              "<matplotlib.collections.PathCollection at 0x7f562b16c490>"
            ]
          },
          "metadata": {},
          "execution_count": 46
        },
        {
          "output_type": "display_data",
          "data": {
            "text/plain": [
              "<Figure size 432x288 with 1 Axes>"
            ],
            "image/png": "[encoded data removed]"
          },
          "metadata": {
            "needs_background": "light"
          }
        }
      ]
    }
  ]
}