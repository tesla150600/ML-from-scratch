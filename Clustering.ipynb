{
  "nbformat": 4,
  "nbformat_minor": 0,
  "metadata": {
    "colab": {
      "name": "Clustering",
      "provenance": [],
      "collapsed_sections": []
    },
    "kernelspec": {
      "name": "python3",
      "display_name": "Python 3"
    },
    "language_info": {
      "name": "python"
    }
  },
  "cells": [
    {
      "cell_type": "code",
      "source": [
        "import pandas as pd\n",
        "import numpy as np\n",
        "import seaborn as sns\n",
        "from matplotlib import pyplot as plt\n",
        "import plotly.graph_objects as go\n",
        "from plotly.subplots import make_subplots\n",
        "import math\n",
        "from sklearn.preprocessing import StandardScaler\n",
        "from sklearn.cluster import KMeans\n",
        "from sklearn.cluster import AgglomerativeClustering\n",
        "from sklearn.cluster import AffinityPropagation\n",
        "import plotly.figure_factory as ff\n",
        "from sklearn.cluster import DBSCAN\n",
        "from sklearn import preprocessing\n",
        "from sklearn.metrics.pairwise import euclidean_distances\n",
        "from scipy.spatial.distance import cdist"
      ],
      "metadata": {
        "id": "qCJ2iUqVU5kE"
      },
      "execution_count": null,
      "outputs": []
    },
    {
      "cell_type": "code",
      "source": [
        "file_url = \"https://raw.githubusercontent.com/tesla150600/tesla150600/main/MN07-Davydenko-_5_.csv\"\n",
        "data = pd.read_csv(file_url, sep=',', decimal=',',header=None)\n",
        "data"
      ],
      "metadata": {
        "colab": {
          "base_uri": "https://localhost:8080/",
          "height": 417
        },
        "id": "CdCXQE7UU21b",
        "outputId": "6718eff2-b74a-4317-eeb8-badb0b96d5e3"
      },
      "execution_count": null,
      "outputs": [
        {
          "output_type": "execute_result",
          "data": {
            "text/html": [
              "\n",
              "  <div id=\"df-ad9a44ae-85de-43df-84ab-67a75b4c0ec8\">\n",
              "    <div class=\"colab-df-container\">\n",
              "      <div>\n",
              "<style scoped>\n",
              "    .dataframe tbody tr th:only-of-type {\n",
              "        vertical-align: middle;\n",
              "    }\n",
              "\n",
              "    .dataframe tbody tr th {\n",
              "        vertical-align: top;\n",
              "    }\n",
              "\n",
              "    .dataframe thead th {\n",
              "        text-align: right;\n",
              "    }\n",
              "</style>\n",
              "<table border=\"1\" class=\"dataframe\">\n",
              "  <thead>\n",
              "    <tr style=\"text-align: right;\">\n",
              "      <th></th>\n",
              "      <th>0</th>\n",
              "      <th>1</th>\n",
              "      <th>2</th>\n",
              "      <th>3</th>\n",
              "      <th>4</th>\n",
              "      <th>5</th>\n",
              "      <th>6</th>\n",
              "    </tr>\n",
              "  </thead>\n",
              "  <tbody>\n",
              "    <tr>\n",
              "      <th>0</th>\n",
              "      <td>11.9</td>\n",
              "      <td>1046</td>\n",
              "      <td>1056</td>\n",
              "      <td>113</td>\n",
              "      <td>1692</td>\n",
              "      <td>13.6</td>\n",
              "      <td>0.7578</td>\n",
              "    </tr>\n",
              "    <tr>\n",
              "      <th>1</th>\n",
              "      <td>9.4</td>\n",
              "      <td>955</td>\n",
              "      <td>1174</td>\n",
              "      <td>92</td>\n",
              "      <td>1559</td>\n",
              "      <td>13.3</td>\n",
              "      <td>0.7255</td>\n",
              "    </tr>\n",
              "    <tr>\n",
              "      <th>2</th>\n",
              "      <td>9.0</td>\n",
              "      <td>939</td>\n",
              "      <td>1140</td>\n",
              "      <td>114</td>\n",
              "      <td>1554</td>\n",
              "      <td>11.9</td>\n",
              "      <td>0.7502</td>\n",
              "    </tr>\n",
              "    <tr>\n",
              "      <th>3</th>\n",
              "      <td>9.2</td>\n",
              "      <td>948</td>\n",
              "      <td>1092</td>\n",
              "      <td>122</td>\n",
              "      <td>1584</td>\n",
              "      <td>11.0</td>\n",
              "      <td>0.7867</td>\n",
              "    </tr>\n",
              "    <tr>\n",
              "      <th>4</th>\n",
              "      <td>6.5</td>\n",
              "      <td>836</td>\n",
              "      <td>1205</td>\n",
              "      <td>116</td>\n",
              "      <td>1490</td>\n",
              "      <td>11.2</td>\n",
              "      <td>0.7888</td>\n",
              "    </tr>\n",
              "    <tr>\n",
              "      <th>...</th>\n",
              "      <td>...</td>\n",
              "      <td>...</td>\n",
              "      <td>...</td>\n",
              "      <td>...</td>\n",
              "      <td>...</td>\n",
              "      <td>...</td>\n",
              "      <td>...</td>\n",
              "    </tr>\n",
              "    <tr>\n",
              "      <th>245</th>\n",
              "      <td>8.9</td>\n",
              "      <td>937</td>\n",
              "      <td>905</td>\n",
              "      <td>97</td>\n",
              "      <td>1672</td>\n",
              "      <td>15.9</td>\n",
              "      <td>1.0356</td>\n",
              "    </tr>\n",
              "    <tr>\n",
              "      <th>246</th>\n",
              "      <td>10.6</td>\n",
              "      <td>999</td>\n",
              "      <td>835</td>\n",
              "      <td>107</td>\n",
              "      <td>1714</td>\n",
              "      <td>15.7</td>\n",
              "      <td>1.0396</td>\n",
              "    </tr>\n",
              "    <tr>\n",
              "      <th>247</th>\n",
              "      <td>7.4</td>\n",
              "      <td>872</td>\n",
              "      <td>940</td>\n",
              "      <td>90</td>\n",
              "      <td>1577</td>\n",
              "      <td>15.1</td>\n",
              "      <td>1.0398</td>\n",
              "    </tr>\n",
              "    <tr>\n",
              "      <th>248</th>\n",
              "      <td>6.2</td>\n",
              "      <td>823</td>\n",
              "      <td>1004</td>\n",
              "      <td>84</td>\n",
              "      <td>1526</td>\n",
              "      <td>15.6</td>\n",
              "      <td>0.9951</td>\n",
              "    </tr>\n",
              "    <tr>\n",
              "      <th>249</th>\n",
              "      <td>6.5</td>\n",
              "      <td>836</td>\n",
              "      <td>987</td>\n",
              "      <td>-200</td>\n",
              "      <td>1554</td>\n",
              "      <td>15.2</td>\n",
              "      <td>0.9941</td>\n",
              "    </tr>\n",
              "  </tbody>\n",
              "</table>\n",
              "<p>250 rows × 7 columns</p>\n",
              "</div>\n",
              "      <button class=\"colab-df-convert\" onclick=\"convertToInteractive('df-ad9a44ae-85de-43df-84ab-67a75b4c0ec8')\"\n",
              "              title=\"Convert this dataframe to an interactive table.\"\n",
              "              style=\"display:none;\">\n",
              "        \n",
              "  <svg xmlns=\"http://www.w3.org/2000/svg\" height=\"24px\"viewBox=\"0 0 24 24\"\n",
              "       width=\"24px\">\n",
              "    <path d=\"M0 0h24v24H0V0z\" fill=\"none\"/>\n",
              "    <path d=\"M18.56 5.44l.94 2.06.94-2.06 2.06-.94-2.06-.94-.94-2.06-.94 2.06-2.06.94zm-11 1L8.5 8.5l.94-2.06 2.06-.94-2.06-.94L8.5 2.5l-.94 2.06-2.06.94zm10 10l.94 2.06.94-2.06 2.06-.94-2.06-.94-.94-2.06-.94 2.06-2.06.94z\"/><path d=\"M17.41 7.96l-1.37-1.37c-.4-.4-.92-.59-1.43-.59-.52 0-1.04.2-1.43.59L10.3 9.45l-7.72 7.72c-.78.78-.78 2.05 0 2.83L4 21.41c.39.39.9.59 1.41.59.51 0 1.02-.2 1.41-.59l7.78-7.78 2.81-2.81c.8-.78.8-2.07 0-2.86zM5.41 20L4 18.59l7.72-7.72 1.47 1.35L5.41 20z\"/>\n",
              "  </svg>\n",
              "      </button>\n",
              "      \n",
              "  <style>\n",
              "    .colab-df-container {\n",
              "      display:flex;\n",
              "      flex-wrap:wrap;\n",
              "      gap: 12px;\n",
              "    }\n",
              "\n",
              "    .colab-df-convert {\n",
              "      background-color: #E8F0FE;\n",
              "      border: none;\n",
              "      border-radius: 50%;\n",
              "      cursor: pointer;\n",
              "      display: none;\n",
              "      fill: #1967D2;\n",
              "      height: 32px;\n",
              "      padding: 0 0 0 0;\n",
              "      width: 32px;\n",
              "    }\n",
              "\n",
              "    .colab-df-convert:hover {\n",
              "      background-color: #E2EBFA;\n",
              "      box-shadow: 0px 1px 2px rgba(60, 64, 67, 0.3), 0px 1px 3px 1px rgba(60, 64, 67, 0.15);\n",
              "      fill: #174EA6;\n",
              "    }\n",
              "\n",
              "    [theme=dark] .colab-df-convert {\n",
              "      background-color: #3B4455;\n",
              "      fill: #D2E3FC;\n",
              "    }\n",
              "\n",
              "    [theme=dark] .colab-df-convert:hover {\n",
              "      background-color: #434B5C;\n",
              "      box-shadow: 0px 1px 3px 1px rgba(0, 0, 0, 0.15);\n",
              "      filter: drop-shadow(0px 1px 2px rgba(0, 0, 0, 0.3));\n",
              "      fill: #FFFFFF;\n",
              "    }\n",
              "  </style>\n",
              "\n",
              "      <script>\n",
              "        const buttonEl =\n",
              "          document.querySelector('#df-ad9a44ae-85de-43df-84ab-67a75b4c0ec8 button.colab-df-convert');\n",
              "        buttonEl.style.display =\n",
              "          google.colab.kernel.accessAllowed ? 'block' : 'none';\n",
              "\n",
              "        async function convertToInteractive(key) {\n",
              "          const element = document.querySelector('#df-ad9a44ae-85de-43df-84ab-67a75b4c0ec8');\n",
              "          const dataTable =\n",
              "            await google.colab.kernel.invokeFunction('convertToInteractive',\n",
              "                                                     [key], {});\n",
              "          if (!dataTable) return;\n",
              "\n",
              "          const docLinkHtml = 'Like what you see? Visit the ' +\n",
              "            '<a target=\"_blank\" href=https://colab.research.google.com/notebooks/data_table.ipynb>data table notebook</a>'\n",
              "            + ' to learn more about interactive tables.';\n",
              "          element.innerHTML = '';\n",
              "          dataTable['output_type'] = 'display_data';\n",
              "          await google.colab.output.renderOutput(dataTable, element);\n",
              "          const docLink = document.createElement('div');\n",
              "          docLink.innerHTML = docLinkHtml;\n",
              "          element.appendChild(docLink);\n",
              "        }\n",
              "      </script>\n",
              "    </div>\n",
              "  </div>\n",
              "  "
            ],
            "text/plain": [
              "        0     1     2    3     4     5       6\n",
              "0    11.9  1046  1056  113  1692  13.6  0.7578\n",
              "1     9.4   955  1174   92  1559  13.3  0.7255\n",
              "2     9.0   939  1140  114  1554  11.9  0.7502\n",
              "3     9.2   948  1092  122  1584  11.0  0.7867\n",
              "4     6.5   836  1205  116  1490  11.2  0.7888\n",
              "..    ...   ...   ...  ...   ...   ...     ...\n",
              "245   8.9   937   905   97  1672  15.9  1.0356\n",
              "246  10.6   999   835  107  1714  15.7  1.0396\n",
              "247   7.4   872   940   90  1577  15.1  1.0398\n",
              "248   6.2   823  1004   84  1526  15.6  0.9951\n",
              "249   6.5   836   987 -200  1554  15.2  0.9941\n",
              "\n",
              "[250 rows x 7 columns]"
            ]
          },
          "metadata": {},
          "execution_count": 65
        }
      ]
    },
    {
      "cell_type": "code",
      "source": [
        "data_6 = data.drop(columns=6)"
      ],
      "metadata": {
        "id": "3UStBKoNXw1G"
      },
      "execution_count": null,
      "outputs": []
    },
    {
      "cell_type": "code",
      "source": [
        "Data_w = StandardScaler().fit_transform(data_6)\n",
        "Data_w = pd.DataFrame(data = Data_w)"
      ],
      "metadata": {
        "id": "EhFzv1Uk9wQo"
      },
      "execution_count": null,
      "outputs": []
    },
    {
      "cell_type": "code",
      "source": [
        "Data_w"
      ],
      "metadata": {
        "colab": {
          "base_uri": "https://localhost:8080/",
          "height": 417
        },
        "id": "dpc17-5s9qa6",
        "outputId": "e0c9d57e-c510-4a3f-bbce-277062cd23f0"
      },
      "execution_count": null,
      "outputs": [
        {
          "output_type": "execute_result",
          "data": {
            "text/html": [
              "\n",
              "  <div id=\"df-f535a6d9-6d66-41b6-8ba6-3f7aa8e4fd24\">\n",
              "    <div class=\"colab-df-container\">\n",
              "      <div>\n",
              "<style scoped>\n",
              "    .dataframe tbody tr th:only-of-type {\n",
              "        vertical-align: middle;\n",
              "    }\n",
              "\n",
              "    .dataframe tbody tr th {\n",
              "        vertical-align: top;\n",
              "    }\n",
              "\n",
              "    .dataframe thead th {\n",
              "        text-align: right;\n",
              "    }\n",
              "</style>\n",
              "<table border=\"1\" class=\"dataframe\">\n",
              "  <thead>\n",
              "    <tr style=\"text-align: right;\">\n",
              "      <th></th>\n",
              "      <th>0</th>\n",
              "      <th>1</th>\n",
              "      <th>2</th>\n",
              "      <th>3</th>\n",
              "      <th>4</th>\n",
              "      <th>5</th>\n",
              "    </tr>\n",
              "  </thead>\n",
              "  <tbody>\n",
              "    <tr>\n",
              "      <th>0</th>\n",
              "      <td>-0.011969</td>\n",
              "      <td>0.133368</td>\n",
              "      <td>0.240665</td>\n",
              "      <td>0.189441</td>\n",
              "      <td>0.068998</td>\n",
              "      <td>-0.313950</td>\n",
              "    </tr>\n",
              "    <tr>\n",
              "      <th>1</th>\n",
              "      <td>-0.324963</td>\n",
              "      <td>-0.197362</td>\n",
              "      <td>0.675396</td>\n",
              "      <td>-0.090876</td>\n",
              "      <td>-0.380840</td>\n",
              "      <td>-0.373426</td>\n",
              "    </tr>\n",
              "    <tr>\n",
              "      <th>2</th>\n",
              "      <td>-0.375042</td>\n",
              "      <td>-0.255512</td>\n",
              "      <td>0.550135</td>\n",
              "      <td>0.202789</td>\n",
              "      <td>-0.397752</td>\n",
              "      <td>-0.650977</td>\n",
              "    </tr>\n",
              "    <tr>\n",
              "      <th>3</th>\n",
              "      <td>-0.350003</td>\n",
              "      <td>-0.222803</td>\n",
              "      <td>0.373295</td>\n",
              "      <td>0.309576</td>\n",
              "      <td>-0.296284</td>\n",
              "      <td>-0.829403</td>\n",
              "    </tr>\n",
              "    <tr>\n",
              "      <th>4</th>\n",
              "      <td>-0.688036</td>\n",
              "      <td>-0.629855</td>\n",
              "      <td>0.789606</td>\n",
              "      <td>0.229486</td>\n",
              "      <td>-0.614215</td>\n",
              "      <td>-0.789753</td>\n",
              "    </tr>\n",
              "    <tr>\n",
              "      <th>...</th>\n",
              "      <td>...</td>\n",
              "      <td>...</td>\n",
              "      <td>...</td>\n",
              "      <td>...</td>\n",
              "      <td>...</td>\n",
              "      <td>...</td>\n",
              "    </tr>\n",
              "    <tr>\n",
              "      <th>245</th>\n",
              "      <td>-0.387562</td>\n",
              "      <td>-0.262781</td>\n",
              "      <td>-0.315645</td>\n",
              "      <td>-0.024134</td>\n",
              "      <td>0.001353</td>\n",
              "      <td>0.142027</td>\n",
              "    </tr>\n",
              "    <tr>\n",
              "      <th>246</th>\n",
              "      <td>-0.174726</td>\n",
              "      <td>-0.037449</td>\n",
              "      <td>-0.573537</td>\n",
              "      <td>0.109350</td>\n",
              "      <td>0.143407</td>\n",
              "      <td>0.102377</td>\n",
              "    </tr>\n",
              "    <tr>\n",
              "      <th>247</th>\n",
              "      <td>-0.575358</td>\n",
              "      <td>-0.499017</td>\n",
              "      <td>-0.186699</td>\n",
              "      <td>-0.117573</td>\n",
              "      <td>-0.319960</td>\n",
              "      <td>-0.016574</td>\n",
              "    </tr>\n",
              "    <tr>\n",
              "      <th>248</th>\n",
              "      <td>-0.725595</td>\n",
              "      <td>-0.677102</td>\n",
              "      <td>0.049088</td>\n",
              "      <td>-0.197663</td>\n",
              "      <td>-0.492454</td>\n",
              "      <td>0.082552</td>\n",
              "    </tr>\n",
              "    <tr>\n",
              "      <th>249</th>\n",
              "      <td>-0.688036</td>\n",
              "      <td>-0.629855</td>\n",
              "      <td>-0.013543</td>\n",
              "      <td>-3.988612</td>\n",
              "      <td>-0.397752</td>\n",
              "      <td>0.003251</td>\n",
              "    </tr>\n",
              "  </tbody>\n",
              "</table>\n",
              "<p>250 rows × 6 columns</p>\n",
              "</div>\n",
              "      <button class=\"colab-df-convert\" onclick=\"convertToInteractive('df-f535a6d9-6d66-41b6-8ba6-3f7aa8e4fd24')\"\n",
              "              title=\"Convert this dataframe to an interactive table.\"\n",
              "              style=\"display:none;\">\n",
              "        \n",
              "  <svg xmlns=\"http://www.w3.org/2000/svg\" height=\"24px\"viewBox=\"0 0 24 24\"\n",
              "       width=\"24px\">\n",
              "    <path d=\"M0 0h24v24H0V0z\" fill=\"none\"/>\n",
              "    <path d=\"M18.56 5.44l.94 2.06.94-2.06 2.06-.94-2.06-.94-.94-2.06-.94 2.06-2.06.94zm-11 1L8.5 8.5l.94-2.06 2.06-.94-2.06-.94L8.5 2.5l-.94 2.06-2.06.94zm10 10l.94 2.06.94-2.06 2.06-.94-2.06-.94-.94-2.06-.94 2.06-2.06.94z\"/><path d=\"M17.41 7.96l-1.37-1.37c-.4-.4-.92-.59-1.43-.59-.52 0-1.04.2-1.43.59L10.3 9.45l-7.72 7.72c-.78.78-.78 2.05 0 2.83L4 21.41c.39.39.9.59 1.41.59.51 0 1.02-.2 1.41-.59l7.78-7.78 2.81-2.81c.8-.78.8-2.07 0-2.86zM5.41 20L4 18.59l7.72-7.72 1.47 1.35L5.41 20z\"/>\n",
              "  </svg>\n",
              "      </button>\n",
              "      \n",
              "  <style>\n",
              "    .colab-df-container {\n",
              "      display:flex;\n",
              "      flex-wrap:wrap;\n",
              "      gap: 12px;\n",
              "    }\n",
              "\n",
              "    .colab-df-convert {\n",
              "      background-color: #E8F0FE;\n",
              "      border: none;\n",
              "      border-radius: 50%;\n",
              "      cursor: pointer;\n",
              "      display: none;\n",
              "      fill: #1967D2;\n",
              "      height: 32px;\n",
              "      padding: 0 0 0 0;\n",
              "      width: 32px;\n",
              "    }\n",
              "\n",
              "    .colab-df-convert:hover {\n",
              "      background-color: #E2EBFA;\n",
              "      box-shadow: 0px 1px 2px rgba(60, 64, 67, 0.3), 0px 1px 3px 1px rgba(60, 64, 67, 0.15);\n",
              "      fill: #174EA6;\n",
              "    }\n",
              "\n",
              "    [theme=dark] .colab-df-convert {\n",
              "      background-color: #3B4455;\n",
              "      fill: #D2E3FC;\n",
              "    }\n",
              "\n",
              "    [theme=dark] .colab-df-convert:hover {\n",
              "      background-color: #434B5C;\n",
              "      box-shadow: 0px 1px 3px 1px rgba(0, 0, 0, 0.15);\n",
              "      filter: drop-shadow(0px 1px 2px rgba(0, 0, 0, 0.3));\n",
              "      fill: #FFFFFF;\n",
              "    }\n",
              "  </style>\n",
              "\n",
              "      <script>\n",
              "        const buttonEl =\n",
              "          document.querySelector('#df-f535a6d9-6d66-41b6-8ba6-3f7aa8e4fd24 button.colab-df-convert');\n",
              "        buttonEl.style.display =\n",
              "          google.colab.kernel.accessAllowed ? 'block' : 'none';\n",
              "\n",
              "        async function convertToInteractive(key) {\n",
              "          const element = document.querySelector('#df-f535a6d9-6d66-41b6-8ba6-3f7aa8e4fd24');\n",
              "          const dataTable =\n",
              "            await google.colab.kernel.invokeFunction('convertToInteractive',\n",
              "                                                     [key], {});\n",
              "          if (!dataTable) return;\n",
              "\n",
              "          const docLinkHtml = 'Like what you see? Visit the ' +\n",
              "            '<a target=\"_blank\" href=https://colab.research.google.com/notebooks/data_table.ipynb>data table notebook</a>'\n",
              "            + ' to learn more about interactive tables.';\n",
              "          element.innerHTML = '';\n",
              "          dataTable['output_type'] = 'display_data';\n",
              "          await google.colab.output.renderOutput(dataTable, element);\n",
              "          const docLink = document.createElement('div');\n",
              "          docLink.innerHTML = docLinkHtml;\n",
              "          element.appendChild(docLink);\n",
              "        }\n",
              "      </script>\n",
              "    </div>\n",
              "  </div>\n",
              "  "
            ],
            "text/plain": [
              "            0         1         2         3         4         5\n",
              "0   -0.011969  0.133368  0.240665  0.189441  0.068998 -0.313950\n",
              "1   -0.324963 -0.197362  0.675396 -0.090876 -0.380840 -0.373426\n",
              "2   -0.375042 -0.255512  0.550135  0.202789 -0.397752 -0.650977\n",
              "3   -0.350003 -0.222803  0.373295  0.309576 -0.296284 -0.829403\n",
              "4   -0.688036 -0.629855  0.789606  0.229486 -0.614215 -0.789753\n",
              "..        ...       ...       ...       ...       ...       ...\n",
              "245 -0.387562 -0.262781 -0.315645 -0.024134  0.001353  0.142027\n",
              "246 -0.174726 -0.037449 -0.573537  0.109350  0.143407  0.102377\n",
              "247 -0.575358 -0.499017 -0.186699 -0.117573 -0.319960 -0.016574\n",
              "248 -0.725595 -0.677102  0.049088 -0.197663 -0.492454  0.082552\n",
              "249 -0.688036 -0.629855 -0.013543 -3.988612 -0.397752  0.003251\n",
              "\n",
              "[250 rows x 6 columns]"
            ]
          },
          "metadata": {},
          "execution_count": 68
        }
      ]
    },
    {
      "cell_type": "markdown",
      "source": [
        "##2 Кластери"
      ],
      "metadata": {
        "id": "p7Ln4ZBQgm4N"
      }
    },
    {
      "cell_type": "markdown",
      "source": [
        "створюємо кластер K-середніх із двох кластерів\n"
      ],
      "metadata": {
        "id": "ghntftpucjBz"
      }
    },
    {
      "cell_type": "code",
      "source": [
        "kmeans = KMeans(n_clusters=2)\n",
        "kmeans.fit(Data_w)"
      ],
      "metadata": {
        "colab": {
          "base_uri": "https://localhost:8080/"
        },
        "id": "SmBZZE1kZrAz",
        "outputId": "af8175cf-3537-4925-ab95-e132625d9d21"
      },
      "execution_count": null,
      "outputs": [
        {
          "output_type": "execute_result",
          "data": {
            "text/plain": [
              "KMeans(n_clusters=2)"
            ]
          },
          "metadata": {},
          "execution_count": 69
        }
      ]
    },
    {
      "cell_type": "markdown",
      "source": [
        "отримуємо значення центроїдів алгоритм згенерованих для кінцевих кластерів\n"
      ],
      "metadata": {
        "id": "Y8bE0rmdcuiF"
      }
    },
    {
      "cell_type": "code",
      "source": [
        "print(kmeans.cluster_centers_)"
      ],
      "metadata": {
        "colab": {
          "base_uri": "https://localhost:8080/"
        },
        "id": "j1NpGgYfcOdE",
        "outputId": "d03eb123-d8dc-454b-b500-1443d2785c73"
      },
      "execution_count": null,
      "outputs": [
        {
          "output_type": "stream",
          "name": "stdout",
          "text": [
            "[[-0.80863248 -0.85509369  0.79499026 -0.53707802 -0.78303791 -0.60590456]\n",
            " [ 0.71135338  0.75222528 -0.69935233  0.47246713  0.68883786  0.53301379]]\n"
          ]
        }
      ]
    },
    {
      "cell_type": "markdown",
      "source": [
        "мітки для точок даних\n"
      ],
      "metadata": {
        "id": "jiiCdswFc3z7"
      }
    },
    {
      "cell_type": "code",
      "source": [
        "print(kmeans.labels_)"
      ],
      "metadata": {
        "colab": {
          "base_uri": "https://localhost:8080/"
        },
        "id": "9xR4VxLYcWHl",
        "outputId": "8f0fc8c1-67b6-4d21-97fa-e716aab42b1f"
      },
      "execution_count": null,
      "outputs": [
        {
          "output_type": "stream",
          "name": "stdout",
          "text": [
            "[1 0 0 0 0 0 0 0 0 0 0 0 0 0 0 0 0 0 0 0 0 0 0 0 1 1 1 1 0 0 0 0 0 0 0 0 0\n",
            " 0 1 1 1 1 0 1 1 1 1 1 1 1 1 1 1 1 0 0 0 0 0 0 0 0 0 1 1 1 1 1 0 0 1 1 1 1\n",
            " 1 1 1 1 1 1 0 0 0 0 0 0 0 0 0 1 1 0 0 0 1 1 1 1 1 1 0 0 0 0 0 0 0 0 0 0 1\n",
            " 1 1 1 1 1 1 1 1 1 1 1 1 1 1 0 1 0 0 0 0 0 0 0 1 1 1 1 1 1 1 1 1 1 1 1 1 1\n",
            " 1 0 0 0 0 0 0 0 0 0 1 1 1 1 1 1 1 1 1 1 1 1 1 1 1 1 1 0 0 0 0 0 0 0 1 1 1\n",
            " 1 1 1 1 1 1 1 1 1 1 1 1 0 0 0 0 0 0 0 0 0 1 1 1 1 1 1 1 1 1 1 1 1 1 1 0 0\n",
            " 0 0 0 0 0 0 0 0 0 1 1 1 1 1 1 0 0 1 1 1 1 1 1 0 1 0 0 0]\n"
          ]
        }
      ]
    },
    {
      "cell_type": "code",
      "source": [
        "plt.scatter(Data_w.iloc[:,1],Data_w.iloc[:,2], label='True Position')\n"
      ],
      "metadata": {
        "colab": {
          "base_uri": "https://localhost:8080/",
          "height": 282
        },
        "id": "NUCreLWfdbNa",
        "outputId": "69f6a8e3-74eb-4596-f391-354e685e2f78"
      },
      "execution_count": null,
      "outputs": [
        {
          "output_type": "execute_result",
          "data": {
            "text/plain": [
              "<matplotlib.collections.PathCollection at 0x7f7924091dd0>"
            ]
          },
          "metadata": {},
          "execution_count": 72
        },
        {
          "output_type": "display_data",
          "data": {
            "image/png": "[encoded data removed]",
            "text/plain": [
              "<Figure size 432x288 with 1 Axes>"
            ]
          },
          "metadata": {
            "needs_background": "light"
          }
        }
      ]
    },
    {
      "cell_type": "code",
      "source": [
        "plt.scatter(Data_w.iloc[:,1],Data_w.iloc[:,2], c=kmeans.labels_, cmap='rainbow')"
      ],
      "metadata": {
        "colab": {
          "base_uri": "https://localhost:8080/",
          "height": 282
        },
        "id": "cse_FiUHd3sE",
        "outputId": "6576e0fa-830c-4da5-d5ca-10000bc874df"
      },
      "execution_count": null,
      "outputs": [
        {
          "output_type": "execute_result",
          "data": {
            "text/plain": [
              "<matplotlib.collections.PathCollection at 0x7f7924091c90>"
            ]
          },
          "metadata": {},
          "execution_count": 73
        },
        {
          "output_type": "display_data",
          "data": {
            "image/png": "[encoded data removed]",
            "text/plain": [
              "<Figure size 432x288 with 1 Axes>"
            ]
          },
          "metadata": {
            "needs_background": "light"
          }
        }
      ]
    },
    {
      "cell_type": "markdown",
      "source": [
        "##3 Кластери"
      ],
      "metadata": {
        "id": "T1oVAUU5giUM"
      }
    },
    {
      "cell_type": "code",
      "source": [
        "kmeans = KMeans(n_clusters=3)\n",
        "kmeans.fit(Data_w)"
      ],
      "metadata": {
        "colab": {
          "base_uri": "https://localhost:8080/"
        },
        "id": "vtwfbMRhflNd",
        "outputId": "f1f6872e-c7ae-46bf-8b7a-4555454f07af"
      },
      "execution_count": null,
      "outputs": [
        {
          "output_type": "execute_result",
          "data": {
            "text/plain": [
              "KMeans(n_clusters=3)"
            ]
          },
          "metadata": {},
          "execution_count": 74
        }
      ]
    },
    {
      "cell_type": "code",
      "source": [
        "print(kmeans.labels_)"
      ],
      "metadata": {
        "colab": {
          "base_uri": "https://localhost:8080/"
        },
        "id": "1nDYPhGTggl9",
        "outputId": "cb4bf526-401c-4ba7-eee3-c42bb2bfa29f"
      },
      "execution_count": null,
      "outputs": [
        {
          "output_type": "stream",
          "name": "stdout",
          "text": [
            "[0 0 0 0 1 1 1 1 1 1 1 1 1 1 1 0 1 1 1 1 0 0 0 0 2 2 2 0 1 1 1 1 1 1 1 1 1\n",
            " 1 2 2 0 0 0 0 0 0 0 0 2 0 2 2 0 2 0 1 1 1 1 1 1 1 0 0 0 0 0 0 0 0 0 0 0 2\n",
            " 2 2 0 0 0 0 0 1 1 1 1 1 1 1 0 0 0 0 0 0 0 0 0 2 2 0 0 0 0 0 0 1 1 1 1 0 2\n",
            " 2 2 2 0 0 0 0 0 0 2 2 2 2 0 0 0 1 1 1 1 1 1 1 0 2 2 2 0 2 2 0 0 0 0 2 0 2\n",
            " 0 0 0 1 1 1 1 1 1 1 2 2 2 0 0 0 0 0 0 0 2 2 2 2 0 0 0 0 1 1 1 1 1 1 2 2 2\n",
            " 0 0 0 0 0 0 0 2 2 2 0 0 0 0 1 1 1 1 1 1 1 2 2 2 0 0 0 0 2 2 2 2 2 2 0 0 0\n",
            " 1 1 1 1 1 1 1 1 0 0 0 0 0 0 0 0 0 0 0 0 0 0 0 0 0 0 0 1]\n"
          ]
        }
      ]
    },
    {
      "cell_type": "code",
      "source": [
        "print(kmeans.cluster_centers_)"
      ],
      "metadata": {
        "colab": {
          "base_uri": "https://localhost:8080/"
        },
        "id": "lo1LFVozf5kr",
        "outputId": "534e274d-535b-43d1-9f5f-03506e8f1799"
      },
      "execution_count": null,
      "outputs": [
        {
          "output_type": "stream",
          "name": "stdout",
          "text": [
            "[[-0.00529169  0.12113185 -0.29900465  0.28243459  0.01338804  0.42569117]\n",
            " [-0.99580044 -1.11746114  1.16343221 -0.84058362 -1.00736834 -0.80706831]\n",
            " [ 1.55496543  1.4459531  -1.09863895  0.63752852  1.52893204  0.24853835]]\n"
          ]
        }
      ]
    },
    {
      "cell_type": "code",
      "source": [
        "plt.scatter(Data_w.iloc[:,1],Data_w.iloc[:,2], c=kmeans.labels_, cmap='rainbow')\n"
      ],
      "metadata": {
        "colab": {
          "base_uri": "https://localhost:8080/",
          "height": 282
        },
        "id": "dqy6q63cgFbN",
        "outputId": "2d9f653d-dffd-4ad8-dadd-9ca0896c7b63"
      },
      "execution_count": null,
      "outputs": [
        {
          "output_type": "execute_result",
          "data": {
            "text/plain": [
              "<matplotlib.collections.PathCollection at 0x7f7924071d50>"
            ]
          },
          "metadata": {},
          "execution_count": 77
        },
        {
          "output_type": "display_data",
          "data": {
            "image/png": "[encoded data removed]",
            "text/plain": [
              "<Figure size 432x288 with 1 Axes>"
            ]
          },
          "metadata": {
            "needs_background": "light"
          }
        }
      ]
    },
    {
      "cell_type": "markdown",
      "source": [
        "Позначаємо центроіди\n"
      ],
      "metadata": {
        "id": "xLh0JWhWhNyQ"
      }
    },
    {
      "cell_type": "code",
      "source": [
        "plt.scatter(Data_w.iloc[:,1], Data_w.iloc[:,2], c=kmeans.labels_, cmap='rainbow')\n",
        "plt.scatter(kmeans.cluster_centers_[:,1] ,kmeans.cluster_centers_[:,2], color='black')\n"
      ],
      "metadata": {
        "colab": {
          "base_uri": "https://localhost:8080/",
          "height": 282
        },
        "id": "NjVpdB3qgPDj",
        "outputId": "eecd4bbe-00a2-41cd-c0c4-72a076954236"
      },
      "execution_count": null,
      "outputs": [
        {
          "output_type": "execute_result",
          "data": {
            "text/plain": [
              "<matplotlib.collections.PathCollection at 0x7f7923ff3890>"
            ]
          },
          "metadata": {},
          "execution_count": 78
        },
        {
          "output_type": "display_data",
          "data": {
            "image/png": "[encoded data removed]",
            "text/plain": [
              "<Figure size 432x288 with 1 Axes>"
            ]
          },
          "metadata": {
            "needs_background": "light"
          }
        }
      ]
    },
    {
      "cell_type": "code",
      "source": [
        "ANSwe = kmeans.labels_\n",
        "O = kmeans.cluster_centers_\n",
        "data_rew = Data_w\n",
        "data_rew[6]= pd.DataFrame(data = ANSwe)\n",
        "Data_w = Data_w.drop(columns=6)"
      ],
      "metadata": {
        "id": "Ta9xVudS5QQi"
      },
      "execution_count": null,
      "outputs": []
    },
    {
      "cell_type": "markdown",
      "source": [
        "Знаходимо радіуси та діаметри\n"
      ],
      "metadata": {
        "id": "eMzVT---hWop"
      }
    },
    {
      "cell_type": "code",
      "source": [
        "prom0 = data_rew[data_rew[6] == 0].reset_index(drop=True).drop(columns = 6)\n",
        "prom1 = data_rew[data_rew[6] == 1].reset_index(drop=True).drop(columns = 6)\n",
        "prom2 = data_rew[data_rew[6] == 2].reset_index(drop=True).drop(columns = 6)\n",
        "\n",
        "DIametr0 = euclidean_distances(prom0).max()\n",
        "DIametr1 = euclidean_distances(prom1).max()\n",
        "DIametr2 = euclidean_distances(prom2).max()\n",
        "print(\"DIAMETR : \",DIametr0, DIametr1, DIametr2)\n",
        "\n",
        "rad0 = np.linalg.norm(prom0 - O[0], axis=1).reshape(-1,1).max()\n",
        "rad1 = np.linalg.norm(prom1 - O[1], axis=1).reshape(-1,1).max()\n",
        "rad2 = np.linalg.norm(prom2 - O[2], axis=1).reshape(-1,1).max()\n",
        "print(\"RADIUS : \",rad0, rad1, rad2)"
      ],
      "metadata": {
        "id": "qZeth3hU7ekv",
        "colab": {
          "base_uri": "https://localhost:8080/"
        },
        "outputId": "28746ba9-24a3-4f51-d9d4-abbe276a92f4"
      },
      "execution_count": null,
      "outputs": [
        {
          "output_type": "stream",
          "name": "stdout",
          "text": [
            "DIAMETR :  4.579282871537212 5.579358956493989 6.589547319813946\n",
            "RADIUS :  2.446817606927316 3.752050291995733 4.869013836311686\n"
          ]
        }
      ]
    },
    {
      "cell_type": "markdown",
      "source": [
        "# Ієрархічна кластеризація\n",
        "\n",
        "\n",
        "\n"
      ],
      "metadata": {
        "id": "z9pVfP9qlEOU"
      }
    },
    {
      "cell_type": "code",
      "source": [
        "cluster = AgglomerativeClustering(n_clusters=2, affinity='euclidean', linkage='ward')\n",
        "cluster.fit_predict(data_6)"
      ],
      "metadata": {
        "colab": {
          "base_uri": "https://localhost:8080/"
        },
        "id": "CO61arPCmw9w",
        "outputId": "0b99bb4f-d962-4ae5-aee9-611a62cccbcf"
      },
      "execution_count": null,
      "outputs": [
        {
          "output_type": "execute_result",
          "data": {
            "text/plain": [
              "array([0, 0, 0, 0, 1, 1, 1, 1, 1, 1, 1, 1, 1, 1, 0, 0, 1, 1, 1, 0, 0, 0,\n",
              "       0, 0, 0, 0, 0, 0, 1, 1, 1, 1, 1, 1, 1, 1, 1, 1, 0, 0, 0, 0, 0, 0,\n",
              "       0, 0, 0, 0, 0, 0, 0, 0, 0, 0, 0, 0, 1, 1, 1, 1, 1, 1, 0, 0, 0, 0,\n",
              "       0, 0, 0, 0, 0, 0, 0, 0, 0, 0, 0, 0, 0, 0, 0, 0, 1, 1, 1, 1, 1, 0,\n",
              "       0, 0, 0, 0, 0, 0, 0, 0, 0, 0, 0, 0, 0, 0, 0, 0, 0, 1, 1, 1, 0, 0,\n",
              "       0, 0, 0, 0, 0, 0, 0, 0, 0, 0, 0, 0, 0, 0, 0, 0, 0, 1, 1, 1, 1, 1,\n",
              "       1, 1, 0, 0, 0, 0, 0, 0, 0, 0, 0, 0, 0, 0, 0, 0, 0, 0, 0, 1, 1, 1,\n",
              "       1, 1, 1, 0, 0, 0, 0, 0, 0, 0, 0, 0, 0, 0, 0, 0, 0, 0, 0, 0, 0, 0,\n",
              "       1, 1, 1, 1, 1, 0, 0, 0, 0, 0, 0, 0, 0, 0, 0, 0, 0, 0, 0, 0, 0, 0,\n",
              "       0, 0, 1, 1, 1, 1, 1, 0, 0, 0, 0, 0, 0, 0, 0, 0, 0, 0, 0, 0, 0, 0,\n",
              "       0, 0, 1, 1, 1, 1, 1, 1, 1, 1, 0, 0, 0, 0, 0, 0, 0, 0, 0, 0, 0, 0,\n",
              "       0, 0, 0, 0, 0, 0, 0, 0])"
            ]
          },
          "metadata": {},
          "execution_count": 81
        }
      ]
    },
    {
      "cell_type": "code",
      "source": [
        "plt.scatter(data_6.iloc[:,1],data_6.iloc[:,2], c=cluster.labels_, cmap='rainbow')"
      ],
      "metadata": {
        "colab": {
          "base_uri": "https://localhost:8080/",
          "height": 282
        },
        "id": "9_sWn8b3lKcM",
        "outputId": "1101b922-f5d2-424e-a9b1-ba168d091919"
      },
      "execution_count": null,
      "outputs": [
        {
          "output_type": "execute_result",
          "data": {
            "text/plain": [
              "<matplotlib.collections.PathCollection at 0x7f7923f21e10>"
            ]
          },
          "metadata": {},
          "execution_count": 82
        },
        {
          "output_type": "display_data",
          "data": {
            "image/png": "[encoded data removed]",
            "text/plain": [
              "<Figure size 432x288 with 1 Axes>"
            ]
          },
          "metadata": {
            "needs_background": "light"
          }
        }
      ]
    },
    {
      "cell_type": "code",
      "source": [
        "Agglo = AgglomerativeClustering(n_clusters=3, affinity='euclidean', linkage='ward')\n",
        "Agglo.fit_predict(data_6)"
      ],
      "metadata": {
        "colab": {
          "base_uri": "https://localhost:8080/"
        },
        "id": "jRN5PC5QmOPm",
        "outputId": "1719c961-57f0-44c2-a08a-c8e6f02eb087"
      },
      "execution_count": null,
      "outputs": [
        {
          "output_type": "execute_result",
          "data": {
            "text/plain": [
              "array([0, 0, 0, 0, 1, 1, 1, 1, 1, 1, 1, 1, 1, 1, 0, 0, 1, 1, 1, 0, 0, 0,\n",
              "       0, 0, 2, 2, 2, 0, 1, 1, 1, 1, 1, 1, 1, 1, 1, 1, 0, 2, 0, 0, 0, 0,\n",
              "       0, 0, 0, 0, 0, 0, 2, 2, 0, 2, 0, 0, 1, 1, 1, 1, 1, 1, 0, 0, 0, 0,\n",
              "       0, 0, 0, 0, 0, 0, 0, 2, 2, 0, 0, 0, 0, 0, 0, 0, 1, 1, 1, 1, 1, 0,\n",
              "       0, 0, 0, 0, 0, 0, 0, 0, 0, 2, 2, 0, 0, 0, 0, 0, 0, 1, 1, 1, 0, 0,\n",
              "       2, 2, 2, 2, 0, 0, 0, 0, 0, 0, 2, 2, 2, 2, 0, 0, 0, 1, 1, 1, 1, 1,\n",
              "       1, 1, 0, 2, 2, 2, 0, 2, 2, 0, 0, 0, 0, 0, 0, 2, 0, 0, 0, 1, 1, 1,\n",
              "       1, 1, 1, 0, 2, 2, 2, 0, 0, 0, 0, 0, 0, 0, 2, 2, 2, 2, 0, 0, 0, 0,\n",
              "       1, 1, 1, 1, 1, 0, 2, 2, 2, 0, 0, 0, 0, 0, 0, 0, 2, 2, 2, 0, 0, 0,\n",
              "       0, 0, 1, 1, 1, 1, 1, 0, 2, 2, 2, 0, 0, 0, 0, 2, 2, 2, 2, 2, 2, 0,\n",
              "       0, 0, 1, 1, 1, 1, 1, 1, 1, 1, 0, 0, 0, 0, 0, 0, 0, 0, 0, 0, 0, 0,\n",
              "       0, 0, 0, 0, 0, 0, 0, 0])"
            ]
          },
          "metadata": {},
          "execution_count": 83
        }
      ]
    },
    {
      "cell_type": "code",
      "source": [
        "plt.scatter(data_6.iloc[:,1],data_6.iloc[:,2], c=Agglo.labels_, cmap='rainbow')"
      ],
      "metadata": {
        "colab": {
          "base_uri": "https://localhost:8080/",
          "height": 282
        },
        "id": "h39tGXTqmZ69",
        "outputId": "fda7112e-a4b0-4a86-c75e-0c04b35e3518"
      },
      "execution_count": null,
      "outputs": [
        {
          "output_type": "execute_result",
          "data": {
            "text/plain": [
              "<matplotlib.collections.PathCollection at 0x7f7923e92690>"
            ]
          },
          "metadata": {},
          "execution_count": 84
        },
        {
          "output_type": "display_data",
          "data": {
            "image/png": "[encoded data removed]",
            "text/plain": [
              "<Figure size 432x288 with 1 Axes>"
            ]
          },
          "metadata": {
            "needs_background": "light"
          }
        }
      ]
    },
    {
      "cell_type": "markdown",
      "source": [
        "\n",
        "#Affini"
      ],
      "metadata": {
        "id": "FfsTRDYWy0TG"
      }
    },
    {
      "cell_type": "code",
      "source": [
        "affini = AffinityPropagation(damping=0.9)\n",
        "affini.fit(data_6)"
      ],
      "metadata": {
        "colab": {
          "base_uri": "https://localhost:8080/"
        },
        "id": "FhQpo8UYsf74",
        "outputId": "21bb403f-1106-4bc2-ba86-e1dcece74a8e"
      },
      "execution_count": null,
      "outputs": [
        {
          "output_type": "execute_result",
          "data": {
            "text/plain": [
              "AffinityPropagation(damping=0.9)"
            ]
          },
          "metadata": {},
          "execution_count": 85
        }
      ]
    },
    {
      "cell_type": "code",
      "source": [
        "affini.fit_predict(data_6)"
      ],
      "metadata": {
        "colab": {
          "base_uri": "https://localhost:8080/"
        },
        "id": "WXZwYUgbv7aI",
        "outputId": "a4d6c1ee-764c-49b9-de2a-ba0065dbda2d"
      },
      "execution_count": null,
      "outputs": [
        {
          "output_type": "execute_result",
          "data": {
            "text/plain": [
              "array([ 4,  7,  7,  7,  2,  3,  1,  1,  1,  0,  0,  0,  0,  1,  7,  7,  2,\n",
              "        3,  3,  2,  4,  7,  7,  4,  5,  6,  6,  4,  3,  1,  3,  3,  1,  0,\n",
              "        0,  0,  0,  3,  9,  5,  4,  4,  7,  4,  4,  4,  4,  4,  5,  9,  8,\n",
              "        5,  9,  5,  7,  7,  2, 10,  2,  1,  1,  3,  4,  9,  4,  9,  4,  4,\n",
              "        7,  7,  7,  4,  9,  5,  5,  9,  9,  4,  4,  4,  7,  7,  2,  3,  1,\n",
              "        1,  3,  7,  7,  4,  4,  7,  2,  7,  4,  4,  4,  5,  6,  9,  7,  7,\n",
              "        7,  7,  7, 10,  2,  2,  7,  4,  6,  8,  6,  5,  9,  9,  9,  4,  4,\n",
              "        9,  8,  8,  8,  5,  9,  7,  4,  2,  3, 10,  3,  1,  3,  2,  9,  5,\n",
              "        6,  5,  9,  5,  5,  4,  9,  9,  9,  5,  9,  6,  9,  7,  7,  2,  2,\n",
              "       10,  1,  1,  1,  7,  5,  8,  5,  9,  4,  9,  4,  7,  4,  4,  5,  8,\n",
              "        8,  6,  9,  9,  4,  7,  2, 10,  3,  3,  3,  7,  6,  8,  5,  9,  4,\n",
              "        4,  4,  4,  9,  4,  5,  6,  5,  9,  4,  7,  7,  7,  3, 10,  1,  0,\n",
              "        1,  7,  6,  8,  5,  9,  9,  9,  9,  5,  5,  5,  5,  5,  5,  9,  4,\n",
              "        7,  2,  2,  3, 10,  3,  3,  3,  2,  4,  4,  9,  9,  9,  9,  4,  7,\n",
              "        7,  4,  9,  5,  9,  9,  4,  4,  4,  7,  7,  7])"
            ]
          },
          "metadata": {},
          "execution_count": 86
        }
      ]
    },
    {
      "cell_type": "code",
      "source": [
        "plt.scatter(data_6.iloc[:,1],data_6.iloc[:,2], c=affini.labels_, cmap='rainbow')"
      ],
      "metadata": {
        "colab": {
          "base_uri": "https://localhost:8080/",
          "height": 282
        },
        "id": "q_xixi3RwD4X",
        "outputId": "b4ae49ae-7243-4134-e744-90ba2acec4b9"
      },
      "execution_count": null,
      "outputs": [
        {
          "output_type": "execute_result",
          "data": {
            "text/plain": [
              "<matplotlib.collections.PathCollection at 0x7f7923e06310>"
            ]
          },
          "metadata": {},
          "execution_count": 87
        },
        {
          "output_type": "display_data",
          "data": {
            "image/png": "[encoded data removed]",
            "text/plain": [
              "<Figure size 432x288 with 1 Axes>"
            ]
          },
          "metadata": {
            "needs_background": "light"
          }
        }
      ]
    },
    {
      "cell_type": "markdown",
      "source": [
        "Будуемо дендрограму"
      ],
      "metadata": {
        "id": "5FJhuErVh6xh"
      }
    },
    {
      "cell_type": "code",
      "source": [
        "fig = ff.create_dendrogram(data_6.values[:100])\n",
        "fig.update_layout(width=1200, height=600)\n",
        "fig.show()"
      ],
      "metadata": {
        "colab": {
          "base_uri": "https://localhost:8080/",
          "height": 617
        },
        "id": "NMjx6FIyxkBX",
        "outputId": "868829fe-e178-4ba9-9c2f-5a4f1c4c82d9"
      },
      "execution_count": null,
      "outputs": [
        {
          "output_type": "display_data",
          "data": {
            "text/html": [
              "<html>\n",
              "<head><meta charset=\"utf-8\" /></head>\n",
              "<body>\n",
              "    <div>\n",
              "            <script src=\"https://cdnjs.cloudflare.com/ajax/libs/mathjax/2.7.5/MathJax.js?config=TeX-AMS-MML_SVG\"></script><script type=\"text/javascript\">if (window.MathJax) {MathJax.Hub.Config({SVG: {font: \"STIX-Web\"}});}</script>\n",
              "                <script type=\"text/javascript\">window.PlotlyConfig = {MathJaxConfig: 'local'};</script>\n",
              "        <script src=\"https://cdn.plot.ly/plotly-latest.min.js\"></script>    \n",
              "            <div id=\"29570768-ec8c-4c5b-bbd8-a5838550f203\" class=\"plotly-graph-div\" style=\"height:600px; width:1200px;\"></div>\n",
              "            <script type=\"text/javascript\">\n",
              "                \n",
              "                    window.PLOTLYENV=window.PLOTLYENV || {};\n",
              "                    \n",
              "                if (document.getElementById(\"29570768-ec8c-4c5b-bbd8-a5838550f203\")) {\n",
              "                    Plotly.newPlot(\n",
              "                        '29570768-ec8c-4c5b-bbd8-a5838550f203',\n",
              "                        [{\"hoverinfo\": \"text\", \"marker\": {\"color\": \"rgb(61,153,112)\"}, \"mode\": \"lines\", \"type\": \"scatter\", \"x\": [25.0, 25.0, 35.0, 35.0], \"xaxis\": \"x\", \"y\": [0.0, 24.719425559668654, 24.719425559668654, 0.0], \"yaxis\": \"y\"}, {\"hoverinfo\": \"text\", \"marker\": {\"color\": \"rgb(61,153,112)\"}, \"mode\": \"lines\", \"type\": \"scatter\", \"x\": [15.0, 15.0, 30.0, 30.0], \"xaxis\": \"x\", \"y\": [0.0, 54.8179715057024, 54.8179715057024, 24.719425559668654], \"yaxis\": \"y\"}, {\"hoverinfo\": \"text\", \"marker\": {\"color\": \"rgb(61,153,112)\"}, \"mode\": \"lines\", \"type\": \"scatter\", \"x\": [5.0, 5.0, 22.5, 22.5], \"xaxis\": \"x\", \"y\": [0.0, 102.40532212731915, 102.40532212731915, 54.8179715057024], \"yaxis\": \"y\"}, {\"hoverinfo\": \"text\", \"marker\": {\"color\": \"rgb(61,153,112)\"}, \"mode\": \"lines\", \"type\": \"scatter\", \"x\": [45.0, 45.0, 55.0, 55.0], \"xaxis\": \"x\", \"y\": [0.0, 55.75777972624089, 55.75777972624089, 0.0], \"yaxis\": \"y\"}, {\"hoverinfo\": \"text\", \"marker\": {\"color\": \"rgb(61,153,112)\"}, \"mode\": \"lines\", \"type\": \"scatter\", \"x\": [65.0, 65.0, 75.0, 75.0], \"xaxis\": \"x\", \"y\": [0.0, 36.01860630285409, 36.01860630285409, 0.0], \"yaxis\": \"y\"}, {\"hoverinfo\": \"text\", \"marker\": {\"color\": \"rgb(61,153,112)\"}, \"mode\": \"lines\", \"type\": \"scatter\", \"x\": [85.0, 85.0, 95.0, 95.0], \"xaxis\": \"x\", \"y\": [0.0, 60.66077810249387, 60.66077810249387, 0.0], \"yaxis\": \"y\"}, {\"hoverinfo\": \"text\", \"marker\": {\"color\": \"rgb(61,153,112)\"}, \"mode\": \"lines\", \"type\": \"scatter\", \"x\": [70.0, 70.0, 90.0, 90.0], \"xaxis\": \"x\", \"y\": [36.01860630285409, 192.46893255795857, 192.46893255795857, 60.66077810249387], \"yaxis\": \"y\"}, {\"hoverinfo\": \"text\", \"marker\": {\"color\": \"rgb(61,153,112)\"}, \"mode\": \"lines\", \"type\": \"scatter\", \"x\": [50.0, 50.0, 80.0, 80.0], \"xaxis\": \"x\", \"y\": [55.75777972624089, 298.0070804527973, 298.0070804527973, 192.46893255795857], \"yaxis\": \"y\"}, {\"hoverinfo\": \"text\", \"marker\": {\"color\": \"rgb(61,153,112)\"}, \"mode\": \"lines\", \"type\": \"scatter\", \"x\": [13.75, 13.75, 65.0, 65.0], \"xaxis\": \"x\", \"y\": [102.40532212731915, 380.1842842622509, 380.1842842622509, 298.0070804527973], \"yaxis\": \"y\"}, {\"hoverinfo\": \"text\", \"marker\": {\"color\": \"rgb(61,153,112)\"}, \"mode\": \"lines\", \"type\": \"scatter\", \"x\": [105.0, 105.0, 115.0, 115.0], \"xaxis\": \"x\", \"y\": [0.0, 60.36207418570041, 60.36207418570041, 0.0], \"yaxis\": \"y\"}, {\"hoverinfo\": \"text\", \"marker\": {\"color\": \"rgb(61,153,112)\"}, \"mode\": \"lines\", \"type\": \"scatter\", \"x\": [135.0, 135.0, 145.0, 145.0], \"xaxis\": \"x\", \"y\": [0.0, 20.16060514964767, 20.16060514964767, 0.0], \"yaxis\": \"y\"}, {\"hoverinfo\": \"text\", \"marker\": {\"color\": \"rgb(61,153,112)\"}, \"mode\": \"lines\", \"type\": \"scatter\", \"x\": [125.0, 125.0, 140.0, 140.0], \"xaxis\": \"x\", \"y\": [0.0, 38.29177457366007, 38.29177457366007, 20.16060514964767], \"yaxis\": \"y\"}, {\"hoverinfo\": \"text\", \"marker\": {\"color\": \"rgb(61,153,112)\"}, \"mode\": \"lines\", \"type\": \"scatter\", \"x\": [155.0, 155.0, 165.0, 165.0], \"xaxis\": \"x\", \"y\": [0.0, 14.016062214473793, 14.016062214473793, 0.0], \"yaxis\": \"y\"}, {\"hoverinfo\": \"text\", \"marker\": {\"color\": \"rgb(61,153,112)\"}, \"mode\": \"lines\", \"type\": \"scatter\", \"x\": [175.0, 175.0, 185.0, 185.0], \"xaxis\": \"x\", \"y\": [0.0, 26.444281045246814, 26.444281045246814, 0.0], \"yaxis\": \"y\"}, {\"hoverinfo\": \"text\", \"marker\": {\"color\": \"rgb(61,153,112)\"}, \"mode\": \"lines\", \"type\": \"scatter\", \"x\": [160.0, 160.0, 180.0, 180.0], \"xaxis\": \"x\", \"y\": [14.016062214473793, 81.7831889815994, 81.7831889815994, 26.444281045246814], \"yaxis\": \"y\"}, {\"hoverinfo\": \"text\", \"marker\": {\"color\": \"rgb(61,153,112)\"}, \"mode\": \"lines\", \"type\": \"scatter\", \"x\": [132.5, 132.5, 170.0, 170.0], \"xaxis\": \"x\", \"y\": [38.29177457366007, 119.02386315357101, 119.02386315357101, 81.7831889815994], \"yaxis\": \"y\"}, {\"hoverinfo\": \"text\", \"marker\": {\"color\": \"rgb(61,153,112)\"}, \"mode\": \"lines\", \"type\": \"scatter\", \"x\": [110.0, 110.0, 151.25, 151.25], \"xaxis\": \"x\", \"y\": [60.36207418570041, 145.63945207257544, 145.63945207257544, 119.02386315357101], \"yaxis\": \"y\"}, {\"hoverinfo\": \"text\", \"marker\": {\"color\": \"rgb(61,153,112)\"}, \"mode\": \"lines\", \"type\": \"scatter\", \"x\": [215.0, 215.0, 225.0, 225.0], \"xaxis\": \"x\", \"y\": [0.0, 34.04966960192125, 34.04966960192125, 0.0], \"yaxis\": \"y\"}, {\"hoverinfo\": \"text\", \"marker\": {\"color\": \"rgb(61,153,112)\"}, \"mode\": \"lines\", \"type\": \"scatter\", \"x\": [235.0, 235.0, 245.0, 245.0], \"xaxis\": \"x\", \"y\": [0.0, 43.233551785621316, 43.233551785621316, 0.0], \"yaxis\": \"y\"}, {\"hoverinfo\": \"text\", \"marker\": {\"color\": \"rgb(61,153,112)\"}, \"mode\": \"lines\", \"type\": \"scatter\", \"x\": [220.0, 220.0, 240.0, 240.0], \"xaxis\": \"x\", \"y\": [34.04966960192125, 78.19808181790651, 78.19808181790651, 43.233551785621316], \"yaxis\": \"y\"}, {\"hoverinfo\": \"text\", \"marker\": {\"color\": \"rgb(61,153,112)\"}, \"mode\": \"lines\", \"type\": \"scatter\", \"x\": [205.0, 205.0, 230.0, 230.0], \"xaxis\": \"x\", \"y\": [0.0, 94.53702978198542, 94.53702978198542, 78.19808181790651], \"yaxis\": \"y\"}, {\"hoverinfo\": \"text\", \"marker\": {\"color\": \"rgb(61,153,112)\"}, \"mode\": \"lines\", \"type\": \"scatter\", \"x\": [255.0, 255.0, 265.0, 265.0], \"xaxis\": \"x\", \"y\": [0.0, 50.101896171701924, 50.101896171701924, 0.0], \"yaxis\": \"y\"}, {\"hoverinfo\": \"text\", \"marker\": {\"color\": \"rgb(61,153,112)\"}, \"mode\": \"lines\", \"type\": \"scatter\", \"x\": [275.0, 275.0, 285.0, 285.0], \"xaxis\": \"x\", \"y\": [0.0, 62.737628262471, 62.737628262471, 0.0], \"yaxis\": \"y\"}, {\"hoverinfo\": \"text\", \"marker\": {\"color\": \"rgb(61,153,112)\"}, \"mode\": \"lines\", \"type\": \"scatter\", \"x\": [260.0, 260.0, 280.0, 280.0], \"xaxis\": \"x\", \"y\": [50.101896171701924, 112.89255954224795, 112.89255954224795, 62.737628262471], \"yaxis\": \"y\"}, {\"hoverinfo\": \"text\", \"marker\": {\"color\": \"rgb(61,153,112)\"}, \"mode\": \"lines\", \"type\": \"scatter\", \"x\": [295.0, 295.0, 305.0, 305.0], \"xaxis\": \"x\", \"y\": [0.0, 49.26357680883515, 49.26357680883515, 0.0], \"yaxis\": \"y\"}, {\"hoverinfo\": \"text\", \"marker\": {\"color\": \"rgb(61,153,112)\"}, \"mode\": \"lines\", \"type\": \"scatter\", \"x\": [325.0, 325.0, 335.0, 335.0], \"xaxis\": \"x\", \"y\": [0.0, 28.34801580357962, 28.34801580357962, 0.0], \"yaxis\": \"y\"}, {\"hoverinfo\": \"text\", \"marker\": {\"color\": \"rgb(61,153,112)\"}, \"mode\": \"lines\", \"type\": \"scatter\", \"x\": [315.0, 315.0, 330.0, 330.0], \"xaxis\": \"x\", \"y\": [0.0, 90.73152704545427, 90.73152704545427, 28.34801580357962], \"yaxis\": \"y\"}, {\"hoverinfo\": \"text\", \"marker\": {\"color\": \"rgb(61,153,112)\"}, \"mode\": \"lines\", \"type\": \"scatter\", \"x\": [300.0, 300.0, 322.5, 322.5], \"xaxis\": \"x\", \"y\": [49.26357680883515, 118.00444906866859, 118.00444906866859, 90.73152704545427], \"yaxis\": \"y\"}, {\"hoverinfo\": \"text\", \"marker\": {\"color\": \"rgb(61,153,112)\"}, \"mode\": \"lines\", \"type\": \"scatter\", \"x\": [270.0, 270.0, 311.25, 311.25], \"xaxis\": \"x\", \"y\": [112.89255954224795, 152.00592093731086, 152.00592093731086, 118.00444906866859], \"yaxis\": \"y\"}, {\"hoverinfo\": \"text\", \"marker\": {\"color\": \"rgb(61,153,112)\"}, \"mode\": \"lines\", \"type\": \"scatter\", \"x\": [217.5, 217.5, 290.625, 290.625], \"xaxis\": \"x\", \"y\": [94.53702978198542, 230.3789486910642, 230.3789486910642, 152.00592093731086], \"yaxis\": \"y\"}, {\"hoverinfo\": \"text\", \"marker\": {\"color\": \"rgb(61,153,112)\"}, \"mode\": \"lines\", \"type\": \"scatter\", \"x\": [195.0, 195.0, 254.0625, 254.0625], \"xaxis\": \"x\", \"y\": [0.0, 339.86286940470563, 339.86286940470563, 230.3789486910642], \"yaxis\": \"y\"}, {\"hoverinfo\": \"text\", \"marker\": {\"color\": \"rgb(61,153,112)\"}, \"mode\": \"lines\", \"type\": \"scatter\", \"x\": [130.625, 130.625, 224.53125, 224.53125], \"xaxis\": \"x\", \"y\": [145.63945207257544, 438.195846625684, 438.195846625684, 339.86286940470563], \"yaxis\": \"y\"}, {\"hoverinfo\": \"text\", \"marker\": {\"color\": \"rgb(61,153,112)\"}, \"mode\": \"lines\", \"type\": \"scatter\", \"x\": [39.375, 39.375, 177.578125, 177.578125], \"xaxis\": \"x\", \"y\": [380.1842842622509, 877.06556767439, 877.06556767439, 438.195846625684], \"yaxis\": \"y\"}, {\"hoverinfo\": \"text\", \"marker\": {\"color\": \"rgb(255,65,54)\"}, \"mode\": \"lines\", \"type\": \"scatter\", \"x\": [355.0, 355.0, 365.0, 365.0], \"xaxis\": \"x\", \"y\": [0.0, 36.30096417452297, 36.30096417452297, 0.0], \"yaxis\": \"y\"}, {\"hoverinfo\": \"text\", \"marker\": {\"color\": \"rgb(255,65,54)\"}, \"mode\": \"lines\", \"type\": \"scatter\", \"x\": [345.0, 345.0, 360.0, 360.0], \"xaxis\": \"x\", \"y\": [0.0, 64.61145409290833, 64.61145409290833, 36.30096417452297], \"yaxis\": \"y\"}, {\"hoverinfo\": \"text\", \"marker\": {\"color\": \"rgb(255,65,54)\"}, \"mode\": \"lines\", \"type\": \"scatter\", \"x\": [385.0, 385.0, 395.0, 395.0], \"xaxis\": \"x\", \"y\": [0.0, 42.33202097703345, 42.33202097703345, 0.0], \"yaxis\": \"y\"}, {\"hoverinfo\": \"text\", \"marker\": {\"color\": \"rgb(255,65,54)\"}, \"mode\": \"lines\", \"type\": \"scatter\", \"x\": [375.0, 375.0, 390.0, 390.0], \"xaxis\": \"x\", \"y\": [0.0, 83.2586331859946, 83.2586331859946, 42.33202097703345], \"yaxis\": \"y\"}, {\"hoverinfo\": \"text\", \"marker\": {\"color\": \"rgb(255,65,54)\"}, \"mode\": \"lines\", \"type\": \"scatter\", \"x\": [352.5, 352.5, 382.5, 382.5], \"xaxis\": \"x\", \"y\": [64.61145409290833, 130.57017270418234, 130.57017270418234, 83.2586331859946], \"yaxis\": \"y\"}, {\"hoverinfo\": \"text\", \"marker\": {\"color\": \"rgb(255,65,54)\"}, \"mode\": \"lines\", \"type\": \"scatter\", \"x\": [445.0, 445.0, 455.0, 455.0], \"xaxis\": \"x\", \"y\": [0.0, 29.84928809871351, 29.84928809871351, 0.0], \"yaxis\": \"y\"}, {\"hoverinfo\": \"text\", \"marker\": {\"color\": \"rgb(255,65,54)\"}, \"mode\": \"lines\", \"type\": \"scatter\", \"x\": [435.0, 435.0, 450.0, 450.0], \"xaxis\": \"x\", \"y\": [0.0, 42.186964811420125, 42.186964811420125, 29.84928809871351], \"yaxis\": \"y\"}, {\"hoverinfo\": \"text\", \"marker\": {\"color\": \"rgb(255,65,54)\"}, \"mode\": \"lines\", \"type\": \"scatter\", \"x\": [425.0, 425.0, 442.5, 442.5], \"xaxis\": \"x\", \"y\": [0.0, 57.76201173781952, 57.76201173781952, 42.186964811420125], \"yaxis\": \"y\"}, {\"hoverinfo\": \"text\", \"marker\": {\"color\": \"rgb(255,65,54)\"}, \"mode\": \"lines\", \"type\": \"scatter\", \"x\": [415.0, 415.0, 433.75, 433.75], \"xaxis\": \"x\", \"y\": [0.0, 65.24890803683998, 65.24890803683998, 57.76201173781952], \"yaxis\": \"y\"}, {\"hoverinfo\": \"text\", \"marker\": {\"color\": \"rgb(255,65,54)\"}, \"mode\": \"lines\", \"type\": \"scatter\", \"x\": [405.0, 405.0, 424.375, 424.375], \"xaxis\": \"x\", \"y\": [0.0, 110.55858175646068, 110.55858175646068, 65.24890803683998], \"yaxis\": \"y\"}, {\"hoverinfo\": \"text\", \"marker\": {\"color\": \"rgb(255,65,54)\"}, \"mode\": \"lines\", \"type\": \"scatter\", \"x\": [485.0, 485.0, 495.0, 495.0], \"xaxis\": \"x\", \"y\": [0.0, 27.483449565147385, 27.483449565147385, 0.0], \"yaxis\": \"y\"}, {\"hoverinfo\": \"text\", \"marker\": {\"color\": \"rgb(255,65,54)\"}, \"mode\": \"lines\", \"type\": \"scatter\", \"x\": [475.0, 475.0, 490.0, 490.0], \"xaxis\": \"x\", \"y\": [0.0, 61.636677392604476, 61.636677392604476, 27.483449565147385], \"yaxis\": \"y\"}, {\"hoverinfo\": \"text\", \"marker\": {\"color\": \"rgb(255,65,54)\"}, \"mode\": \"lines\", \"type\": \"scatter\", \"x\": [465.0, 465.0, 482.5, 482.5], \"xaxis\": \"x\", \"y\": [0.0, 73.43248599904541, 73.43248599904541, 61.636677392604476], \"yaxis\": \"y\"}, {\"hoverinfo\": \"text\", \"marker\": {\"color\": \"rgb(255,65,54)\"}, \"mode\": \"lines\", \"type\": \"scatter\", \"x\": [505.0, 505.0, 515.0, 515.0], \"xaxis\": \"x\", \"y\": [0.0, 43.85339211509185, 43.85339211509185, 0.0], \"yaxis\": \"y\"}, {\"hoverinfo\": \"text\", \"marker\": {\"color\": \"rgb(255,65,54)\"}, \"mode\": \"lines\", \"type\": \"scatter\", \"x\": [525.0, 525.0, 535.0, 535.0], \"xaxis\": \"x\", \"y\": [0.0, 45.89923746643292, 45.89923746643292, 0.0], \"yaxis\": \"y\"}, {\"hoverinfo\": \"text\", \"marker\": {\"color\": \"rgb(255,65,54)\"}, \"mode\": \"lines\", \"type\": \"scatter\", \"x\": [510.0, 510.0, 530.0, 530.0], \"xaxis\": \"x\", \"y\": [43.85339211509185, 92.8784689796295, 92.8784689796295, 45.89923746643292], \"yaxis\": \"y\"}, {\"hoverinfo\": \"text\", \"marker\": {\"color\": \"rgb(255,65,54)\"}, \"mode\": \"lines\", \"type\": \"scatter\", \"x\": [473.75, 473.75, 520.0, 520.0], \"xaxis\": \"x\", \"y\": [73.43248599904541, 150.25062395877097, 150.25062395877097, 92.8784689796295], \"yaxis\": \"y\"}, {\"hoverinfo\": \"text\", \"marker\": {\"color\": \"rgb(255,65,54)\"}, \"mode\": \"lines\", \"type\": \"scatter\", \"x\": [414.6875, 414.6875, 496.875, 496.875], \"xaxis\": \"x\", \"y\": [110.55858175646068, 194.7680671978854, 194.7680671978854, 150.25062395877097], \"yaxis\": \"y\"}, {\"hoverinfo\": \"text\", \"marker\": {\"color\": \"rgb(255,65,54)\"}, \"mode\": \"lines\", \"type\": \"scatter\", \"x\": [367.5, 367.5, 455.78125, 455.78125], \"xaxis\": \"x\", \"y\": [130.57017270418234, 231.02181715154092, 231.02181715154092, 194.7680671978854], \"yaxis\": \"y\"}, {\"hoverinfo\": \"text\", \"marker\": {\"color\": \"rgb(255,65,54)\"}, \"mode\": \"lines\", \"type\": \"scatter\", \"x\": [565.0, 565.0, 575.0, 575.0], \"xaxis\": \"x\", \"y\": [0.0, 29.650126475278313, 29.650126475278313, 0.0], \"yaxis\": \"y\"}, {\"hoverinfo\": \"text\", \"marker\": {\"color\": \"rgb(255,65,54)\"}, \"mode\": \"lines\", \"type\": \"scatter\", \"x\": [555.0, 555.0, 570.0, 570.0], \"xaxis\": \"x\", \"y\": [0.0, 51.00245092149984, 51.00245092149984, 29.650126475278313], \"yaxis\": \"y\"}, {\"hoverinfo\": \"text\", \"marker\": {\"color\": \"rgb(255,65,54)\"}, \"mode\": \"lines\", \"type\": \"scatter\", \"x\": [595.0, 595.0, 605.0, 605.0], \"xaxis\": \"x\", \"y\": [0.0, 34.12477106150311, 34.12477106150311, 0.0], \"yaxis\": \"y\"}, {\"hoverinfo\": \"text\", \"marker\": {\"color\": \"rgb(255,65,54)\"}, \"mode\": \"lines\", \"type\": \"scatter\", \"x\": [585.0, 585.0, 600.0, 600.0], \"xaxis\": \"x\", \"y\": [0.0, 51.492717931761966, 51.492717931761966, 34.12477106150311], \"yaxis\": \"y\"}, {\"hoverinfo\": \"text\", \"marker\": {\"color\": \"rgb(255,65,54)\"}, \"mode\": \"lines\", \"type\": \"scatter\", \"x\": [562.5, 562.5, 592.5, 592.5], \"xaxis\": \"x\", \"y\": [51.00245092149984, 70.80268356496101, 70.80268356496101, 51.492717931761966], \"yaxis\": \"y\"}, {\"hoverinfo\": \"text\", \"marker\": {\"color\": \"rgb(255,65,54)\"}, \"mode\": \"lines\", \"type\": \"scatter\", \"x\": [635.0, 635.0, 645.0, 645.0], \"xaxis\": \"x\", \"y\": [0.0, 8.256512580987206, 8.256512580987206, 0.0], \"yaxis\": \"y\"}, {\"hoverinfo\": \"text\", \"marker\": {\"color\": \"rgb(255,65,54)\"}, \"mode\": \"lines\", \"type\": \"scatter\", \"x\": [655.0, 655.0, 665.0, 665.0], \"xaxis\": \"x\", \"y\": [0.0, 15.671630419327785, 15.671630419327785, 0.0], \"yaxis\": \"y\"}, {\"hoverinfo\": \"text\", \"marker\": {\"color\": \"rgb(255,65,54)\"}, \"mode\": \"lines\", \"type\": \"scatter\", \"x\": [640.0, 640.0, 660.0, 660.0], \"xaxis\": \"x\", \"y\": [8.256512580987206, 34.06890077475351, 34.06890077475351, 15.671630419327785], \"yaxis\": \"y\"}, {\"hoverinfo\": \"text\", \"marker\": {\"color\": \"rgb(255,65,54)\"}, \"mode\": \"lines\", \"type\": \"scatter\", \"x\": [625.0, 625.0, 650.0, 650.0], \"xaxis\": \"x\", \"y\": [0.0, 50.705423773004796, 50.705423773004796, 34.06890077475351], \"yaxis\": \"y\"}, {\"hoverinfo\": \"text\", \"marker\": {\"color\": \"rgb(255,65,54)\"}, \"mode\": \"lines\", \"type\": \"scatter\", \"x\": [615.0, 615.0, 637.5, 637.5], \"xaxis\": \"x\", \"y\": [0.0, 62.966340214435206, 62.966340214435206, 50.705423773004796], \"yaxis\": \"y\"}, {\"hoverinfo\": \"text\", \"marker\": {\"color\": \"rgb(255,65,54)\"}, \"mode\": \"lines\", \"type\": \"scatter\", \"x\": [685.0, 685.0, 695.0, 695.0], \"xaxis\": \"x\", \"y\": [0.0, 31.53299858877998, 31.53299858877998, 0.0], \"yaxis\": \"y\"}, {\"hoverinfo\": \"text\", \"marker\": {\"color\": \"rgb(255,65,54)\"}, \"mode\": \"lines\", \"type\": \"scatter\", \"x\": [675.0, 675.0, 690.0, 690.0], \"xaxis\": \"x\", \"y\": [0.0, 84.69663511616031, 84.69663511616031, 31.53299858877998], \"yaxis\": \"y\"}, {\"hoverinfo\": \"text\", \"marker\": {\"color\": \"rgb(255,65,54)\"}, \"mode\": \"lines\", \"type\": \"scatter\", \"x\": [626.25, 626.25, 682.5, 682.5], \"xaxis\": \"x\", \"y\": [62.966340214435206, 129.43067642564495, 129.43067642564495, 84.69663511616031], \"yaxis\": \"y\"}, {\"hoverinfo\": \"text\", \"marker\": {\"color\": \"rgb(255,65,54)\"}, \"mode\": \"lines\", \"type\": \"scatter\", \"x\": [577.5, 577.5, 654.375, 654.375], \"xaxis\": \"x\", \"y\": [70.80268356496101, 141.16607241118527, 141.16607241118527, 129.43067642564495], \"yaxis\": \"y\"}, {\"hoverinfo\": \"text\", \"marker\": {\"color\": \"rgb(255,65,54)\"}, \"mode\": \"lines\", \"type\": \"scatter\", \"x\": [705.0, 705.0, 715.0, 715.0], \"xaxis\": \"x\", \"y\": [0.0, 36.342812219199544, 36.342812219199544, 0.0], \"yaxis\": \"y\"}, {\"hoverinfo\": \"text\", \"marker\": {\"color\": \"rgb(255,65,54)\"}, \"mode\": \"lines\", \"type\": \"scatter\", \"x\": [735.0, 735.0, 745.0, 745.0], \"xaxis\": \"x\", \"y\": [0.0, 9.521029356114811, 9.521029356114811, 0.0], \"yaxis\": \"y\"}, {\"hoverinfo\": \"text\", \"marker\": {\"color\": \"rgb(255,65,54)\"}, \"mode\": \"lines\", \"type\": \"scatter\", \"x\": [725.0, 725.0, 740.0, 740.0], \"xaxis\": \"x\", \"y\": [0.0, 43.954635705463424, 43.954635705463424, 9.521029356114811], \"yaxis\": \"y\"}, {\"hoverinfo\": \"text\", \"marker\": {\"color\": \"rgb(255,65,54)\"}, \"mode\": \"lines\", \"type\": \"scatter\", \"x\": [710.0, 710.0, 732.5, 732.5], \"xaxis\": \"x\", \"y\": [36.342812219199544, 95.42976474874074, 95.42976474874074, 43.954635705463424], \"yaxis\": \"y\"}, {\"hoverinfo\": \"text\", \"marker\": {\"color\": \"rgb(255,65,54)\"}, \"mode\": \"lines\", \"type\": \"scatter\", \"x\": [755.0, 755.0, 765.0, 765.0], \"xaxis\": \"x\", \"y\": [0.0, 30.377623343507306, 30.377623343507306, 0.0], \"yaxis\": \"y\"}, {\"hoverinfo\": \"text\", \"marker\": {\"color\": \"rgb(255,65,54)\"}, \"mode\": \"lines\", \"type\": \"scatter\", \"x\": [775.0, 775.0, 785.0, 785.0], \"xaxis\": \"x\", \"y\": [0.0, 46.91907927485364, 46.91907927485364, 0.0], \"yaxis\": \"y\"}, {\"hoverinfo\": \"text\", \"marker\": {\"color\": \"rgb(255,65,54)\"}, \"mode\": \"lines\", \"type\": \"scatter\", \"x\": [795.0, 795.0, 805.0, 805.0], \"xaxis\": \"x\", \"y\": [0.0, 52.451978037057856, 52.451978037057856, 0.0], \"yaxis\": \"y\"}, {\"hoverinfo\": \"text\", \"marker\": {\"color\": \"rgb(255,65,54)\"}, \"mode\": \"lines\", \"type\": \"scatter\", \"x\": [780.0, 780.0, 800.0, 800.0], \"xaxis\": \"x\", \"y\": [46.91907927485364, 86.48629949304109, 86.48629949304109, 52.451978037057856], \"yaxis\": \"y\"}, {\"hoverinfo\": \"text\", \"marker\": {\"color\": \"rgb(255,65,54)\"}, \"mode\": \"lines\", \"type\": \"scatter\", \"x\": [760.0, 760.0, 790.0, 790.0], \"xaxis\": \"x\", \"y\": [30.377623343507306, 99.69578727308391, 99.69578727308391, 86.48629949304109], \"yaxis\": \"y\"}, {\"hoverinfo\": \"text\", \"marker\": {\"color\": \"rgb(255,65,54)\"}, \"mode\": \"lines\", \"type\": \"scatter\", \"x\": [721.25, 721.25, 775.0, 775.0], \"xaxis\": \"x\", \"y\": [95.42976474874074, 179.55806860177572, 179.55806860177572, 99.69578727308391], \"yaxis\": \"y\"}, {\"hoverinfo\": \"text\", \"marker\": {\"color\": \"rgb(255,65,54)\"}, \"mode\": \"lines\", \"type\": \"scatter\", \"x\": [615.9375, 615.9375, 748.125, 748.125], \"xaxis\": \"x\", \"y\": [141.16607241118527, 241.55309975241468, 241.55309975241468, 179.55806860177572], \"yaxis\": \"y\"}, {\"hoverinfo\": \"text\", \"marker\": {\"color\": \"rgb(255,65,54)\"}, \"mode\": \"lines\", \"type\": \"scatter\", \"x\": [545.0, 545.0, 682.03125, 682.03125], \"xaxis\": \"x\", \"y\": [0.0, 397.6087649939322, 397.6087649939322, 241.55309975241468], \"yaxis\": \"y\"}, {\"hoverinfo\": \"text\", \"marker\": {\"color\": \"rgb(255,65,54)\"}, \"mode\": \"lines\", \"type\": \"scatter\", \"x\": [411.640625, 411.640625, 613.515625, 613.515625], \"xaxis\": \"x\", \"y\": [231.02181715154092, 454.7431033011935, 454.7431033011935, 397.6087649939322], \"yaxis\": \"y\"}, {\"hoverinfo\": \"text\", \"marker\": {\"color\": \"rgb(255,65,54)\"}, \"mode\": \"lines\", \"type\": \"scatter\", \"x\": [815.0, 815.0, 825.0, 825.0], \"xaxis\": \"x\", \"y\": [0.0, 156.11944145429166, 156.11944145429166, 0.0], \"yaxis\": \"y\"}, {\"hoverinfo\": \"text\", \"marker\": {\"color\": \"rgb(255,65,54)\"}, \"mode\": \"lines\", \"type\": \"scatter\", \"x\": [855.0, 855.0, 865.0, 865.0], \"xaxis\": \"x\", \"y\": [0.0, 31.423080689200415, 31.423080689200415, 0.0], \"yaxis\": \"y\"}, {\"hoverinfo\": \"text\", \"marker\": {\"color\": \"rgb(255,65,54)\"}, \"mode\": \"lines\", \"type\": \"scatter\", \"x\": [845.0, 845.0, 860.0, 860.0], \"xaxis\": \"x\", \"y\": [0.0, 54.881690936048976, 54.881690936048976, 31.423080689200415], \"yaxis\": \"y\"}, {\"hoverinfo\": \"text\", \"marker\": {\"color\": \"rgb(255,65,54)\"}, \"mode\": \"lines\", \"type\": \"scatter\", \"x\": [835.0, 835.0, 852.5, 852.5], \"xaxis\": \"x\", \"y\": [0.0, 68.8880976657071, 68.8880976657071, 54.881690936048976], \"yaxis\": \"y\"}, {\"hoverinfo\": \"text\", \"marker\": {\"color\": \"rgb(255,65,54)\"}, \"mode\": \"lines\", \"type\": \"scatter\", \"x\": [885.0, 885.0, 895.0, 895.0], \"xaxis\": \"x\", \"y\": [0.0, 62.0307988018855, 62.0307988018855, 0.0], \"yaxis\": \"y\"}, {\"hoverinfo\": \"text\", \"marker\": {\"color\": \"rgb(255,65,54)\"}, \"mode\": \"lines\", \"type\": \"scatter\", \"x\": [925.0, 925.0, 935.0, 935.0], \"xaxis\": \"x\", \"y\": [0.0, 15.005665596700467, 15.005665596700467, 0.0], \"yaxis\": \"y\"}, {\"hoverinfo\": \"text\", \"marker\": {\"color\": \"rgb(255,65,54)\"}, \"mode\": \"lines\", \"type\": \"scatter\", \"x\": [915.0, 915.0, 930.0, 930.0], \"xaxis\": \"x\", \"y\": [0.0, 37.57352791527567, 37.57352791527567, 15.005665596700467], \"yaxis\": \"y\"}, {\"hoverinfo\": \"text\", \"marker\": {\"color\": \"rgb(255,65,54)\"}, \"mode\": \"lines\", \"type\": \"scatter\", \"x\": [905.0, 905.0, 922.5, 922.5], \"xaxis\": \"x\", \"y\": [0.0, 70.98337833605837, 70.98337833605837, 37.57352791527567], \"yaxis\": \"y\"}, {\"hoverinfo\": \"text\", \"marker\": {\"color\": \"rgb(255,65,54)\"}, \"mode\": \"lines\", \"type\": \"scatter\", \"x\": [890.0, 890.0, 913.75, 913.75], \"xaxis\": \"x\", \"y\": [62.0307988018855, 127.45155942553234, 127.45155942553234, 70.98337833605837], \"yaxis\": \"y\"}, {\"hoverinfo\": \"text\", \"marker\": {\"color\": \"rgb(255,65,54)\"}, \"mode\": \"lines\", \"type\": \"scatter\", \"x\": [875.0, 875.0, 901.875, 901.875], \"xaxis\": \"x\", \"y\": [0.0, 162.47116667273613, 162.47116667273613, 127.45155942553234], \"yaxis\": \"y\"}, {\"hoverinfo\": \"text\", \"marker\": {\"color\": \"rgb(255,65,54)\"}, \"mode\": \"lines\", \"type\": \"scatter\", \"x\": [843.75, 843.75, 888.4375, 888.4375], \"xaxis\": \"x\", \"y\": [68.8880976657071, 234.30802376359202, 234.30802376359202, 162.47116667273613], \"yaxis\": \"y\"}, {\"hoverinfo\": \"text\", \"marker\": {\"color\": \"rgb(255,65,54)\"}, \"mode\": \"lines\", \"type\": \"scatter\", \"x\": [965.0, 965.0, 975.0, 975.0], \"xaxis\": \"x\", \"y\": [0.0, 69.85241584941784, 69.85241584941784, 0.0], \"yaxis\": \"y\"}, {\"hoverinfo\": \"text\", \"marker\": {\"color\": \"rgb(255,65,54)\"}, \"mode\": \"lines\", \"type\": \"scatter\", \"x\": [955.0, 955.0, 970.0, 970.0], \"xaxis\": \"x\", \"y\": [0.0, 101.3047382899734, 101.3047382899734, 69.85241584941784], \"yaxis\": \"y\"}, {\"hoverinfo\": \"text\", \"marker\": {\"color\": \"rgb(255,65,54)\"}, \"mode\": \"lines\", \"type\": \"scatter\", \"x\": [985.0, 985.0, 995.0, 995.0], \"xaxis\": \"x\", \"y\": [0.0, 111.22414306255634, 111.22414306255634, 0.0], \"yaxis\": \"y\"}, {\"hoverinfo\": \"text\", \"marker\": {\"color\": \"rgb(255,65,54)\"}, \"mode\": \"lines\", \"type\": \"scatter\", \"x\": [962.5, 962.5, 990.0, 990.0], \"xaxis\": \"x\", \"y\": [101.3047382899734, 218.908656749796, 218.908656749796, 111.22414306255634], \"yaxis\": \"y\"}, {\"hoverinfo\": \"text\", \"marker\": {\"color\": \"rgb(255,65,54)\"}, \"mode\": \"lines\", \"type\": \"scatter\", \"x\": [945.0, 945.0, 976.25, 976.25], \"xaxis\": \"x\", \"y\": [0.0, 392.5490669967259, 392.5490669967259, 218.908656749796], \"yaxis\": \"y\"}, {\"hoverinfo\": \"text\", \"marker\": {\"color\": \"rgb(255,65,54)\"}, \"mode\": \"lines\", \"type\": \"scatter\", \"x\": [866.09375, 866.09375, 960.625, 960.625], \"xaxis\": \"x\", \"y\": [234.30802376359202, 494.1267145176427, 494.1267145176427, 392.5490669967259], \"yaxis\": \"y\"}, {\"hoverinfo\": \"text\", \"marker\": {\"color\": \"rgb(255,65,54)\"}, \"mode\": \"lines\", \"type\": \"scatter\", \"x\": [820.0, 820.0, 913.359375, 913.359375], \"xaxis\": \"x\", \"y\": [156.11944145429166, 793.7078429749828, 793.7078429749828, 494.1267145176427], \"yaxis\": \"y\"}, {\"hoverinfo\": \"text\", \"marker\": {\"color\": \"rgb(255,65,54)\"}, \"mode\": \"lines\", \"type\": \"scatter\", \"x\": [512.578125, 512.578125, 866.6796875, 866.6796875], \"xaxis\": \"x\", \"y\": [454.7431033011935, 1268.181958553267, 1268.181958553267, 793.7078429749828], \"yaxis\": \"y\"}, {\"hoverinfo\": \"text\", \"marker\": {\"color\": \"rgb(0,116,217)\"}, \"mode\": \"lines\", \"type\": \"scatter\", \"x\": [108.4765625, 108.4765625, 689.62890625, 689.62890625], \"xaxis\": \"x\", \"y\": [877.06556767439, 2103.995125944925, 2103.995125944925, 1268.181958553267], \"yaxis\": \"y\"}],\n",
              "                        {\"autosize\": false, \"height\": 600, \"hovermode\": \"closest\", \"showlegend\": false, \"template\": {\"data\": {\"bar\": [{\"error_x\": {\"color\": \"#2a3f5f\"}, \"error_y\": {\"color\": \"#2a3f5f\"}, \"marker\": {\"line\": {\"color\": \"#E5ECF6\", \"width\": 0.5}}, \"type\": \"bar\"}], \"barpolar\": [{\"marker\": {\"line\": {\"color\": \"#E5ECF6\", \"width\": 0.5}}, \"type\": \"barpolar\"}], \"carpet\": [{\"aaxis\": {\"endlinecolor\": \"#2a3f5f\", \"gridcolor\": \"white\", \"linecolor\": \"white\", \"minorgridcolor\": \"white\", \"startlinecolor\": \"#2a3f5f\"}, \"baxis\": {\"endlinecolor\": \"#2a3f5f\", \"gridcolor\": \"white\", \"linecolor\": \"white\", \"minorgridcolor\": \"white\", \"startlinecolor\": \"#2a3f5f\"}, \"type\": \"carpet\"}], \"choropleth\": [{\"colorbar\": {\"outlinewidth\": 0, \"ticks\": \"\"}, \"type\": \"choropleth\"}], \"contour\": [{\"colorbar\": {\"outlinewidth\": 0, \"ticks\": \"\"}, \"colorscale\": [[0.0, \"#0d0887\"], [0.1111111111111111, \"#46039f\"], [0.2222222222222222, \"#7201a8\"], [0.3333333333333333, \"#9c179e\"], [0.4444444444444444, \"#bd3786\"], [0.5555555555555556, \"#d8576b\"], [0.6666666666666666, \"#ed7953\"], [0.7777777777777778, \"#fb9f3a\"], [0.8888888888888888, \"#fdca26\"], [1.0, \"#f0f921\"]], \"type\": \"contour\"}], \"contourcarpet\": [{\"colorbar\": {\"outlinewidth\": 0, \"ticks\": \"\"}, \"type\": \"contourcarpet\"}], \"heatmap\": [{\"colorbar\": {\"outlinewidth\": 0, \"ticks\": \"\"}, \"colorscale\": [[0.0, \"#0d0887\"], [0.1111111111111111, \"#46039f\"], [0.2222222222222222, \"#7201a8\"], [0.3333333333333333, \"#9c179e\"], [0.4444444444444444, \"#bd3786\"], [0.5555555555555556, \"#d8576b\"], [0.6666666666666666, \"#ed7953\"], [0.7777777777777778, \"#fb9f3a\"], [0.8888888888888888, \"#fdca26\"], [1.0, \"#f0f921\"]], \"type\": \"heatmap\"}], \"heatmapgl\": [{\"colorbar\": {\"outlinewidth\": 0, \"ticks\": \"\"}, \"colorscale\": [[0.0, \"#0d0887\"], [0.1111111111111111, \"#46039f\"], [0.2222222222222222, \"#7201a8\"], [0.3333333333333333, \"#9c179e\"], [0.4444444444444444, \"#bd3786\"], [0.5555555555555556, \"#d8576b\"], [0.6666666666666666, \"#ed7953\"], [0.7777777777777778, \"#fb9f3a\"], [0.8888888888888888, \"#fdca26\"], [1.0, \"#f0f921\"]], \"type\": \"heatmapgl\"}], \"histogram\": [{\"marker\": {\"colorbar\": {\"outlinewidth\": 0, \"ticks\": \"\"}}, \"type\": \"histogram\"}], \"histogram2d\": [{\"colorbar\": {\"outlinewidth\": 0, \"ticks\": \"\"}, \"colorscale\": [[0.0, \"#0d0887\"], [0.1111111111111111, \"#46039f\"], [0.2222222222222222, \"#7201a8\"], [0.3333333333333333, \"#9c179e\"], [0.4444444444444444, \"#bd3786\"], [0.5555555555555556, \"#d8576b\"], [0.6666666666666666, \"#ed7953\"], [0.7777777777777778, \"#fb9f3a\"], [0.8888888888888888, \"#fdca26\"], [1.0, \"#f0f921\"]], \"type\": \"histogram2d\"}], \"histogram2dcontour\": [{\"colorbar\": {\"outlinewidth\": 0, \"ticks\": \"\"}, \"colorscale\": [[0.0, \"#0d0887\"], [0.1111111111111111, \"#46039f\"], [0.2222222222222222, \"#7201a8\"], [0.3333333333333333, \"#9c179e\"], [0.4444444444444444, \"#bd3786\"], [0.5555555555555556, \"#d8576b\"], [0.6666666666666666, \"#ed7953\"], [0.7777777777777778, \"#fb9f3a\"], [0.8888888888888888, \"#fdca26\"], [1.0, \"#f0f921\"]], \"type\": \"histogram2dcontour\"}], \"mesh3d\": [{\"colorbar\": {\"outlinewidth\": 0, \"ticks\": \"\"}, \"type\": \"mesh3d\"}], \"parcoords\": [{\"line\": {\"colorbar\": {\"outlinewidth\": 0, \"ticks\": \"\"}}, \"type\": \"parcoords\"}], \"pie\": [{\"automargin\": true, \"type\": \"pie\"}], \"scatter\": [{\"marker\": {\"colorbar\": {\"outlinewidth\": 0, \"ticks\": \"\"}}, \"type\": \"scatter\"}], \"scatter3d\": [{\"line\": {\"colorbar\": {\"outlinewidth\": 0, \"ticks\": \"\"}}, \"marker\": {\"colorbar\": {\"outlinewidth\": 0, \"ticks\": \"\"}}, \"type\": \"scatter3d\"}], \"scattercarpet\": [{\"marker\": {\"colorbar\": {\"outlinewidth\": 0, \"ticks\": \"\"}}, \"type\": \"scattercarpet\"}], \"scattergeo\": [{\"marker\": {\"colorbar\": {\"outlinewidth\": 0, \"ticks\": \"\"}}, \"type\": \"scattergeo\"}], \"scattergl\": [{\"marker\": {\"colorbar\": {\"outlinewidth\": 0, \"ticks\": \"\"}}, \"type\": \"scattergl\"}], \"scattermapbox\": [{\"marker\": {\"colorbar\": {\"outlinewidth\": 0, \"ticks\": \"\"}}, \"type\": \"scattermapbox\"}], \"scatterpolar\": [{\"marker\": {\"colorbar\": {\"outlinewidth\": 0, \"ticks\": \"\"}}, \"type\": \"scatterpolar\"}], \"scatterpolargl\": [{\"marker\": {\"colorbar\": {\"outlinewidth\": 0, \"ticks\": \"\"}}, \"type\": \"scatterpolargl\"}], \"scatterternary\": [{\"marker\": {\"colorbar\": {\"outlinewidth\": 0, \"ticks\": \"\"}}, \"type\": \"scatterternary\"}], \"surface\": [{\"colorbar\": {\"outlinewidth\": 0, \"ticks\": \"\"}, \"colorscale\": [[0.0, \"#0d0887\"], [0.1111111111111111, \"#46039f\"], [0.2222222222222222, \"#7201a8\"], [0.3333333333333333, \"#9c179e\"], [0.4444444444444444, \"#bd3786\"], [0.5555555555555556, \"#d8576b\"], [0.6666666666666666, \"#ed7953\"], [0.7777777777777778, \"#fb9f3a\"], [0.8888888888888888, \"#fdca26\"], [1.0, \"#f0f921\"]], \"type\": \"surface\"}], \"table\": [{\"cells\": {\"fill\": {\"color\": \"#EBF0F8\"}, \"line\": {\"color\": \"white\"}}, \"header\": {\"fill\": {\"color\": \"#C8D4E3\"}, \"line\": {\"color\": \"white\"}}, \"type\": \"table\"}]}, \"layout\": {\"annotationdefaults\": {\"arrowcolor\": \"#2a3f5f\", \"arrowhead\": 0, \"arrowwidth\": 1}, \"coloraxis\": {\"colorbar\": {\"outlinewidth\": 0, \"ticks\": \"\"}}, \"colorscale\": {\"diverging\": [[0, \"#8e0152\"], [0.1, \"#c51b7d\"], [0.2, \"#de77ae\"], [0.3, \"#f1b6da\"], [0.4, \"#fde0ef\"], [0.5, \"#f7f7f7\"], [0.6, \"#e6f5d0\"], [0.7, \"#b8e186\"], [0.8, \"#7fbc41\"], [0.9, \"#4d9221\"], [1, \"#276419\"]], \"sequential\": [[0.0, \"#0d0887\"], [0.1111111111111111, \"#46039f\"], [0.2222222222222222, \"#7201a8\"], [0.3333333333333333, \"#9c179e\"], [0.4444444444444444, \"#bd3786\"], [0.5555555555555556, \"#d8576b\"], [0.6666666666666666, \"#ed7953\"], [0.7777777777777778, \"#fb9f3a\"], [0.8888888888888888, \"#fdca26\"], [1.0, \"#f0f921\"]], \"sequentialminus\": [[0.0, \"#0d0887\"], [0.1111111111111111, \"#46039f\"], [0.2222222222222222, \"#7201a8\"], [0.3333333333333333, \"#9c179e\"], [0.4444444444444444, \"#bd3786\"], [0.5555555555555556, \"#d8576b\"], [0.6666666666666666, \"#ed7953\"], [0.7777777777777778, \"#fb9f3a\"], [0.8888888888888888, \"#fdca26\"], [1.0, \"#f0f921\"]]}, \"colorway\": [\"#636efa\", \"#EF553B\", \"#00cc96\", \"#ab63fa\", \"#FFA15A\", \"#19d3f3\", \"#FF6692\", \"#B6E880\", \"#FF97FF\", \"#FECB52\"], \"font\": {\"color\": \"#2a3f5f\"}, \"geo\": {\"bgcolor\": \"white\", \"lakecolor\": \"white\", \"landcolor\": \"#E5ECF6\", \"showlakes\": true, \"showland\": true, \"subunitcolor\": \"white\"}, \"hoverlabel\": {\"align\": \"left\"}, \"hovermode\": \"closest\", \"mapbox\": {\"style\": \"light\"}, \"paper_bgcolor\": \"white\", \"plot_bgcolor\": \"#E5ECF6\", \"polar\": {\"angularaxis\": {\"gridcolor\": \"white\", \"linecolor\": \"white\", \"ticks\": \"\"}, \"bgcolor\": \"#E5ECF6\", \"radialaxis\": {\"gridcolor\": \"white\", \"linecolor\": \"white\", \"ticks\": \"\"}}, \"scene\": {\"xaxis\": {\"backgroundcolor\": \"#E5ECF6\", \"gridcolor\": \"white\", \"gridwidth\": 2, \"linecolor\": \"white\", \"showbackground\": true, \"ticks\": \"\", \"zerolinecolor\": \"white\"}, \"yaxis\": {\"backgroundcolor\": \"#E5ECF6\", \"gridcolor\": \"white\", \"gridwidth\": 2, \"linecolor\": \"white\", \"showbackground\": true, \"ticks\": \"\", \"zerolinecolor\": \"white\"}, \"zaxis\": {\"backgroundcolor\": \"#E5ECF6\", \"gridcolor\": \"white\", \"gridwidth\": 2, \"linecolor\": \"white\", \"showbackground\": true, \"ticks\": \"\", \"zerolinecolor\": \"white\"}}, \"shapedefaults\": {\"line\": {\"color\": \"#2a3f5f\"}}, \"ternary\": {\"aaxis\": {\"gridcolor\": \"white\", \"linecolor\": \"white\", \"ticks\": \"\"}, \"baxis\": {\"gridcolor\": \"white\", \"linecolor\": \"white\", \"ticks\": \"\"}, \"bgcolor\": \"#E5ECF6\", \"caxis\": {\"gridcolor\": \"white\", \"linecolor\": \"white\", \"ticks\": \"\"}}, \"title\": {\"x\": 0.05}, \"xaxis\": {\"automargin\": true, \"gridcolor\": \"white\", \"linecolor\": \"white\", \"ticks\": \"\", \"title\": {\"standoff\": 15}, \"zerolinecolor\": \"white\", \"zerolinewidth\": 2}, \"yaxis\": {\"automargin\": true, \"gridcolor\": \"white\", \"linecolor\": \"white\", \"ticks\": \"\", \"title\": {\"standoff\": 15}, \"zerolinecolor\": \"white\", \"zerolinewidth\": 2}}}, \"width\": 1200, \"xaxis\": {\"mirror\": \"allticks\", \"rangemode\": \"tozero\", \"showgrid\": false, \"showline\": true, \"showticklabels\": true, \"tickmode\": \"array\", \"ticks\": \"outside\", \"ticktext\": [\"10\", \"11\", \"34\", \"35\", \"9\", \"33\", \"8\", \"29\", \"12\", \"36\", \"32\", \"37\", \"13\", \"6\", \"7\", \"84\", \"85\", \"59\", \"60\", \"57\", \"83\", \"17\", \"28\", \"5\", \"18\", \"4\", \"16\", \"58\", \"82\", \"61\", \"86\", \"56\", \"30\", \"31\", \"69\", \"42\", \"70\", \"88\", \"54\", \"80\", \"87\", \"55\", \"68\", \"92\", \"91\", \"93\", \"21\", \"22\", \"3\", \"15\", \"1\", \"2\", \"14\", \"19\", \"81\", \"71\", \"43\", \"47\", \"94\", \"41\", \"67\", \"27\", \"62\", \"44\", \"46\", \"95\", \"96\", \"0\", \"20\", \"23\", \"89\", \"90\", \"79\", \"77\", \"78\", \"40\", \"45\", \"52\", \"76\", \"64\", \"66\", \"25\", \"50\", \"99\", \"65\", \"63\", \"72\", \"38\", \"49\", \"75\", \"48\", \"51\", \"73\", \"74\", \"39\", \"97\", \"24\", \"53\", \"26\", \"98\"], \"tickvals\": [5.0, 15.0, 25.0, 35.0, 45.0, 55.0, 65.0, 75.0, 85.0, 95.0, 105.0, 115.0, 125.0, 135.0, 145.0, 155.0, 165.0, 175.0, 185.0, 195.0, 205.0, 215.0, 225.0, 235.0, 245.0, 255.0, 265.0, 275.0, 285.0, 295.0, 305.0, 315.0, 325.0, 335.0, 345.0, 355.0, 365.0, 375.0, 385.0, 395.0, 405.0, 415.0, 425.0, 435.0, 445.0, 455.0, 465.0, 475.0, 485.0, 495.0, 505.0, 515.0, 525.0, 535.0, 545.0, 555.0, 565.0, 575.0, 585.0, 595.0, 605.0, 615.0, 625.0, 635.0, 645.0, 655.0, 665.0, 675.0, 685.0, 695.0, 705.0, 715.0, 725.0, 735.0, 745.0, 755.0, 765.0, 775.0, 785.0, 795.0, 805.0, 815.0, 825.0, 835.0, 845.0, 855.0, 865.0, 875.0, 885.0, 895.0, 905.0, 915.0, 925.0, 935.0, 945.0, 955.0, 965.0, 975.0, 985.0, 995.0], \"type\": \"linear\", \"zeroline\": false}, \"yaxis\": {\"mirror\": \"allticks\", \"rangemode\": \"tozero\", \"showgrid\": false, \"showline\": true, \"showticklabels\": true, \"ticks\": \"outside\", \"type\": \"linear\", \"zeroline\": false}},\n",
              "                        {\"responsive\": true}\n",
              "                    ).then(function(){\n",
              "                            \n",
              "var gd = document.getElementById('29570768-ec8c-4c5b-bbd8-a5838550f203');\n",
              "var x = new MutationObserver(function (mutations, observer) {{\n",
              "        var display = window.getComputedStyle(gd).display;\n",
              "        if (!display || display === 'none') {{\n",
              "            console.log([gd, 'removed!']);\n",
              "            Plotly.purge(gd);\n",
              "            observer.disconnect();\n",
              "        }}\n",
              "}});\n",
              "\n",
              "// Listen for the removal of the full notebook cells\n",
              "var notebookContainer = gd.closest('#notebook-container');\n",
              "if (notebookContainer) {{\n",
              "    x.observe(notebookContainer, {childList: true});\n",
              "}}\n",
              "\n",
              "// Listen for the clearing of the current output cell\n",
              "var outputEl = gd.closest('.output');\n",
              "if (outputEl) {{\n",
              "    x.observe(outputEl, {childList: true});\n",
              "}}\n",
              "\n",
              "                        })\n",
              "                };\n",
              "                \n",
              "            </script>\n",
              "        </div>\n",
              "</body>\n",
              "</html>"
            ]
          },
          "metadata": {}
        }
      ]
    },
    {
      "cell_type": "markdown",
      "source": [
        "#NEW_data"
      ],
      "metadata": {
        "id": "-JaXLaEazEWe"
      }
    },
    {
      "cell_type": "code",
      "source": [
        "kmeans = KMeans(n_clusters=2)\n",
        "kmeans.fit(data)\n",
        "print(kmeans.labels_)"
      ],
      "metadata": {
        "colab": {
          "base_uri": "https://localhost:8080/"
        },
        "id": "uFSxTShHzG-2",
        "outputId": "6a5cf59c-bc59-487a-d34c-a2f6961d40b5"
      },
      "execution_count": null,
      "outputs": [
        {
          "output_type": "stream",
          "name": "stdout",
          "text": [
            "[0 1 1 1 1 1 1 1 1 1 1 1 1 1 1 1 1 1 1 1 0 1 1 0 0 0 0 0 1 1 1 1 1 1 1 1 1\n",
            " 1 0 0 0 0 1 1 0 0 0 0 0 0 0 0 0 0 1 1 1 1 1 1 1 1 0 0 0 0 0 0 1 1 1 1 0 0\n",
            " 0 0 0 0 0 0 1 1 1 1 1 1 1 1 1 0 0 1 1 1 0 0 0 0 0 0 1 1 1 1 1 1 1 1 1 0 0\n",
            " 0 0 0 0 0 0 0 0 0 0 0 0 0 0 1 0 1 1 1 1 1 1 1 0 0 0 0 0 0 0 0 0 0 0 0 0 0\n",
            " 0 1 1 1 1 1 1 1 1 1 0 0 0 0 0 0 0 1 0 1 0 0 0 0 0 0 0 1 1 1 1 1 1 1 0 0 0\n",
            " 0 0 0 0 0 0 0 0 0 0 0 0 1 1 1 1 1 1 1 1 1 0 0 0 0 0 0 0 0 0 0 0 0 0 0 0 1\n",
            " 1 1 1 1 1 1 1 1 0 0 0 0 0 0 0 1 1 0 0 0 0 0 0 0 0 1 1 1]\n"
          ]
        }
      ]
    },
    {
      "cell_type": "code",
      "source": [
        "plt.scatter(data.iloc[:,1],data.iloc[:,2], c=kmeans.labels_, cmap='rainbow')"
      ],
      "metadata": {
        "colab": {
          "base_uri": "https://localhost:8080/",
          "height": 282
        },
        "id": "fd3K4l_0zeKf",
        "outputId": "bbd81a08-02e5-4016-f316-7783943f512a"
      },
      "execution_count": null,
      "outputs": [
        {
          "output_type": "execute_result",
          "data": {
            "text/plain": [
              "<matplotlib.collections.PathCollection at 0x7f7926769190>"
            ]
          },
          "metadata": {},
          "execution_count": 90
        },
        {
          "output_type": "display_data",
          "data": {
            "image/png": "[encoded data removed]",
            "text/plain": [
              "<Figure size 432x288 with 1 Axes>"
            ]
          },
          "metadata": {
            "needs_background": "light"
          }
        }
      ]
    },
    {
      "cell_type": "code",
      "source": [
        "DBS = DBSCAN(eps=300, min_samples=50)\n",
        "DBS.fit(data_6)\n",
        "print(DBS.labels_)\n",
        "plt.scatter(data.iloc[:,1],data.iloc[:,2], c=DBS.labels_, cmap='rainbow')"
      ],
      "metadata": {
        "colab": {
          "base_uri": "https://localhost:8080/",
          "height": 466
        },
        "id": "SN1scX9m056I",
        "outputId": "f8b877fe-6665-4e87-f88d-262341401cf6"
      },
      "execution_count": null,
      "outputs": [
        {
          "output_type": "stream",
          "name": "stdout",
          "text": [
            "[ 0  0  0  0  0  0  0  0  0 -1 -1 -1 -1  0  0  0  0  0  0  0  0  0  0  0\n",
            "  0 -1  0  0  0  0  0  0  0 -1 -1 -1 -1  0  0 -1  0  0  0  0  0  0  0  0\n",
            "  0  0 -1  0  0  0  0  0  0  0  0  0  0  0  0  0  0  0  0  0  0  0  0  0\n",
            "  0  0  0  0  0  0  0  0  0  0  0  0  0  0  0  0  0  0  0  0  0  0  0  0\n",
            "  0  0  0  0  0  0  0  0  0  0  0  0  0  0 -1 -1  0  0  0  0  0  0  0  0\n",
            " -1 -1 -1  0  0  0  0  0  0  0  0  0  0  0  0  0  0  0  0  0  0  0  0  0\n",
            "  0  0  0  0  0  0  0  0  0  0  0  0  0  0  0 -1  0  0  0  0  0  0  0  0\n",
            "  0 -1 -1  0  0  0  0  0  0  0  0  0  0  0  0 -1  0  0  0  0  0  0  0  0\n",
            "  0  0  0  0  0  0  0  0  0  0  0 -1  0  0  0 -1  0  0  0  0  0  0  0  0\n",
            "  0  0  0  0  0  0  0  0  0  0  0  0  0  0  0  0  0  0  0  0  0  0  0  0\n",
            "  0  0  0  0  0  0  0  0  0  0]\n"
          ]
        },
        {
          "output_type": "execute_result",
          "data": {
            "text/plain": [
              "<matplotlib.collections.PathCollection at 0x7f792666dfd0>"
            ]
          },
          "metadata": {},
          "execution_count": 91
        },
        {
          "output_type": "display_data",
          "data": {
            "image/png": "[encoded data removed]",
            "text/plain": [
              "<Figure size 432x288 with 1 Axes>"
            ]
          },
          "metadata": {
            "needs_background": "light"
          }
        }
      ]
    },
    {
      "cell_type": "code",
      "source": [
        "#0.2 ----- 5\n",
        "scaler = preprocessing.MinMaxScaler()\n",
        "\n",
        "names = data_6.columns\n",
        "d = scaler.fit_transform(data_6)\n",
        "\n",
        "scaled_df = pd.DataFrame(d, columns=names)\n",
        "\n",
        "DBS = DBSCAN(eps=0.2, min_samples=5)\n",
        "DBS.fit(scaled_df)\n",
        "print(DBS.labels_)\n",
        "plt.scatter(data.iloc[:,1],data.iloc[:,2], c=DBS.labels_, cmap='rainbow')"
      ],
      "metadata": {
        "colab": {
          "base_uri": "https://localhost:8080/",
          "height": 466
        },
        "id": "1Pvsky3t16tf",
        "outputId": "e36f199f-6f06-4436-c738-4b8b58211ae6"
      },
      "execution_count": null,
      "outputs": [
        {
          "output_type": "stream",
          "name": "stdout",
          "text": [
            "[ 0  0  0  0  0  0  0  0  0 -1  0  0  0  0  0  0  0  0  0  0  0  0  0  0\n",
            "  0  0  0  0  0  0  0  0  0 -1  0  0  0  0  0 -1  0  0  0  0  0  0  0  0\n",
            "  0  0  2  0  0  0  0  0  0 -1  0  0  0  0  0  0  0  0  0  0  0  0  0  0\n",
            "  0  0  0  0  0  0  0  0  0 -1  0  0  0  0  0  0  0  0  0  0  0  0  0  0\n",
            "  0  0  0  0  0  0  0  0  0  1  0  0  0  0  0  2  0  0  0  0  0  0  0  0\n",
            " -1 -1  0  0  0  0  0  0  0  1  0  0  0  0  0  0  0  0  0  0  0  0  0  0\n",
            "  0  0  0  0  0  0  0  0  0  1  0  0  0  0  0  2  0  0  0  0  0  0  0  0\n",
            "  0 -1 -1  0  0  0  0  0  0  1  0  0  0  0  0  2  0  0  0  0  0  0  0  0\n",
            "  0  0  0  0  0  0  0  0  0  1  0  0  0  0  0  2  0  0  0  0  0  0  0  0\n",
            "  0  0  0  0  0  0  0  0  0  1  0  0  0  0  0  0  0  0  0  0  0  0  0  0\n",
            "  0  0  0  0  0  0  0  0  0  1]\n"
          ]
        },
        {
          "output_type": "execute_result",
          "data": {
            "text/plain": [
              "<matplotlib.collections.PathCollection at 0x7f7926276c90>"
            ]
          },
          "metadata": {},
          "execution_count": 92
        },
        {
          "output_type": "display_data",
          "data": {
            "image/png": "[encoded data removed]",
            "text/plain": [
              "<Figure size 432x288 with 1 Axes>"
            ]
          },
          "metadata": {
            "needs_background": "light"
          }
        }
      ]
    },
    {
      "cell_type": "markdown",
      "source": [
        "#Власний DBSCAN\n"
      ],
      "metadata": {
        "id": "mKgyHzJuiLyR"
      }
    },
    {
      "cell_type": "code",
      "source": [
        "import pandas as pd\n",
        "import numpy as np\n",
        "import seaborn as sns\n",
        "from matplotlib import pyplot as plt\n",
        "import plotly.graph_objects as go\n",
        "from plotly.subplots import make_subplots\n",
        "import math\n",
        "from sklearn.preprocessing import StandardScaler\n",
        "from sklearn.cluster import KMeans\n",
        "from sklearn.cluster import AgglomerativeClustering\n",
        "from sklearn.cluster import AffinityPropagation\n",
        "import plotly.figure_factory as ff\n",
        "from sklearn.cluster import DBSCAN\n",
        "from sklearn import preprocessing"
      ],
      "metadata": {
        "id": "10ThxMLXI5KA"
      },
      "execution_count": null,
      "outputs": []
    },
    {
      "cell_type": "code",
      "metadata": {
        "id": "UVYw5Z_BdJM4",
        "colab": {
          "base_uri": "https://localhost:8080/",
          "height": 417
        },
        "outputId": "30f76952-ccc5-46e0-daeb-83ea66bf087f"
      },
      "source": [
        "file_url = \"https://raw.githubusercontent.com/IvanSergeyevichZhuk/ML_KPI/main/Data/Lab3/Part2/MN/MN07-Davydenko.csv\"\n",
        "df1 = pd.read_csv(file_url,names=[0,1,2,3]).astype(\"float64\")\n",
        "df1"
      ],
      "execution_count": null,
      "outputs": [
        {
          "output_type": "execute_result",
          "data": {
            "text/html": [
              "\n",
              "  <div id=\"df-08763279-1231-488d-90f5-09808e979b5a\">\n",
              "    <div class=\"colab-df-container\">\n",
              "      <div>\n",
              "<style scoped>\n",
              "    .dataframe tbody tr th:only-of-type {\n",
              "        vertical-align: middle;\n",
              "    }\n",
              "\n",
              "    .dataframe tbody tr th {\n",
              "        vertical-align: top;\n",
              "    }\n",
              "\n",
              "    .dataframe thead th {\n",
              "        text-align: right;\n",
              "    }\n",
              "</style>\n",
              "<table border=\"1\" class=\"dataframe\">\n",
              "  <thead>\n",
              "    <tr style=\"text-align: right;\">\n",
              "      <th></th>\n",
              "      <th>0</th>\n",
              "      <th>1</th>\n",
              "      <th>2</th>\n",
              "      <th>3</th>\n",
              "    </tr>\n",
              "  </thead>\n",
              "  <tbody>\n",
              "    <tr>\n",
              "      <th>0</th>\n",
              "      <td>133175354.0</td>\n",
              "      <td>8.616806</td>\n",
              "      <td>57.118197</td>\n",
              "      <td>37.490806</td>\n",
              "    </tr>\n",
              "    <tr>\n",
              "      <th>1</th>\n",
              "      <td>133175354.0</td>\n",
              "      <td>8.617287</td>\n",
              "      <td>57.118150</td>\n",
              "      <td>37.470018</td>\n",
              "    </tr>\n",
              "    <tr>\n",
              "      <th>2</th>\n",
              "      <td>133175354.0</td>\n",
              "      <td>8.618127</td>\n",
              "      <td>57.118055</td>\n",
              "      <td>36.827342</td>\n",
              "    </tr>\n",
              "    <tr>\n",
              "      <th>3</th>\n",
              "      <td>106878580.0</td>\n",
              "      <td>9.934616</td>\n",
              "      <td>57.060994</td>\n",
              "      <td>12.752340</td>\n",
              "    </tr>\n",
              "    <tr>\n",
              "      <th>4</th>\n",
              "      <td>133175500.0</td>\n",
              "      <td>8.677361</td>\n",
              "      <td>57.105777</td>\n",
              "      <td>35.381838</td>\n",
              "    </tr>\n",
              "    <tr>\n",
              "      <th>...</th>\n",
              "      <td>...</td>\n",
              "      <td>...</td>\n",
              "      <td>...</td>\n",
              "      <td>...</td>\n",
              "    </tr>\n",
              "    <tr>\n",
              "      <th>495</th>\n",
              "      <td>32507189.0</td>\n",
              "      <td>9.964474</td>\n",
              "      <td>57.078829</td>\n",
              "      <td>2.441122</td>\n",
              "    </tr>\n",
              "    <tr>\n",
              "      <th>496</th>\n",
              "      <td>32507189.0</td>\n",
              "      <td>9.962591</td>\n",
              "      <td>57.079460</td>\n",
              "      <td>2.795519</td>\n",
              "    </tr>\n",
              "    <tr>\n",
              "      <th>497</th>\n",
              "      <td>32507189.0</td>\n",
              "      <td>9.962397</td>\n",
              "      <td>57.079485</td>\n",
              "      <td>2.780048</td>\n",
              "    </tr>\n",
              "    <tr>\n",
              "      <th>498</th>\n",
              "      <td>32507189.0</td>\n",
              "      <td>9.962162</td>\n",
              "      <td>57.079415</td>\n",
              "      <td>2.868368</td>\n",
              "    </tr>\n",
              "    <tr>\n",
              "      <th>499</th>\n",
              "      <td>32507189.0</td>\n",
              "      <td>9.961814</td>\n",
              "      <td>57.079267</td>\n",
              "      <td>2.826331</td>\n",
              "    </tr>\n",
              "  </tbody>\n",
              "</table>\n",
              "<p>500 rows × 4 columns</p>\n",
              "</div>\n",
              "      <button class=\"colab-df-convert\" onclick=\"convertToInteractive('df-08763279-1231-488d-90f5-09808e979b5a')\"\n",
              "              title=\"Convert this dataframe to an interactive table.\"\n",
              "              style=\"display:none;\">\n",
              "        \n",
              "  <svg xmlns=\"http://www.w3.org/2000/svg\" height=\"24px\"viewBox=\"0 0 24 24\"\n",
              "       width=\"24px\">\n",
              "    <path d=\"M0 0h24v24H0V0z\" fill=\"none\"/>\n",
              "    <path d=\"M18.56 5.44l.94 2.06.94-2.06 2.06-.94-2.06-.94-.94-2.06-.94 2.06-2.06.94zm-11 1L8.5 8.5l.94-2.06 2.06-.94-2.06-.94L8.5 2.5l-.94 2.06-2.06.94zm10 10l.94 2.06.94-2.06 2.06-.94-2.06-.94-.94-2.06-.94 2.06-2.06.94z\"/><path d=\"M17.41 7.96l-1.37-1.37c-.4-.4-.92-.59-1.43-.59-.52 0-1.04.2-1.43.59L10.3 9.45l-7.72 7.72c-.78.78-.78 2.05 0 2.83L4 21.41c.39.39.9.59 1.41.59.51 0 1.02-.2 1.41-.59l7.78-7.78 2.81-2.81c.8-.78.8-2.07 0-2.86zM5.41 20L4 18.59l7.72-7.72 1.47 1.35L5.41 20z\"/>\n",
              "  </svg>\n",
              "      </button>\n",
              "      \n",
              "  <style>\n",
              "    .colab-df-container {\n",
              "      display:flex;\n",
              "      flex-wrap:wrap;\n",
              "      gap: 12px;\n",
              "    }\n",
              "\n",
              "    .colab-df-convert {\n",
              "      background-color: #E8F0FE;\n",
              "      border: none;\n",
              "      border-radius: 50%;\n",
              "      cursor: pointer;\n",
              "      display: none;\n",
              "      fill: #1967D2;\n",
              "      height: 32px;\n",
              "      padding: 0 0 0 0;\n",
              "      width: 32px;\n",
              "    }\n",
              "\n",
              "    .colab-df-convert:hover {\n",
              "      background-color: #E2EBFA;\n",
              "      box-shadow: 0px 1px 2px rgba(60, 64, 67, 0.3), 0px 1px 3px 1px rgba(60, 64, 67, 0.15);\n",
              "      fill: #174EA6;\n",
              "    }\n",
              "\n",
              "    [theme=dark] .colab-df-convert {\n",
              "      background-color: #3B4455;\n",
              "      fill: #D2E3FC;\n",
              "    }\n",
              "\n",
              "    [theme=dark] .colab-df-convert:hover {\n",
              "      background-color: #434B5C;\n",
              "      box-shadow: 0px 1px 3px 1px rgba(0, 0, 0, 0.15);\n",
              "      filter: drop-shadow(0px 1px 2px rgba(0, 0, 0, 0.3));\n",
              "      fill: #FFFFFF;\n",
              "    }\n",
              "  </style>\n",
              "\n",
              "      <script>\n",
              "        const buttonEl =\n",
              "          document.querySelector('#df-08763279-1231-488d-90f5-09808e979b5a button.colab-df-convert');\n",
              "        buttonEl.style.display =\n",
              "          google.colab.kernel.accessAllowed ? 'block' : 'none';\n",
              "\n",
              "        async function convertToInteractive(key) {\n",
              "          const element = document.querySelector('#df-08763279-1231-488d-90f5-09808e979b5a');\n",
              "          const dataTable =\n",
              "            await google.colab.kernel.invokeFunction('convertToInteractive',\n",
              "                                                     [key], {});\n",
              "          if (!dataTable) return;\n",
              "\n",
              "          const docLinkHtml = 'Like what you see? Visit the ' +\n",
              "            '<a target=\"_blank\" href=https://colab.research.google.com/notebooks/data_table.ipynb>data table notebook</a>'\n",
              "            + ' to learn more about interactive tables.';\n",
              "          element.innerHTML = '';\n",
              "          dataTable['output_type'] = 'display_data';\n",
              "          await google.colab.output.renderOutput(dataTable, element);\n",
              "          const docLink = document.createElement('div');\n",
              "          docLink.innerHTML = docLinkHtml;\n",
              "          element.appendChild(docLink);\n",
              "        }\n",
              "      </script>\n",
              "    </div>\n",
              "  </div>\n",
              "  "
            ],
            "text/plain": [
              "               0         1          2          3\n",
              "0    133175354.0  8.616806  57.118197  37.490806\n",
              "1    133175354.0  8.617287  57.118150  37.470018\n",
              "2    133175354.0  8.618127  57.118055  36.827342\n",
              "3    106878580.0  9.934616  57.060994  12.752340\n",
              "4    133175500.0  8.677361  57.105777  35.381838\n",
              "..           ...       ...        ...        ...\n",
              "495   32507189.0  9.964474  57.078829   2.441122\n",
              "496   32507189.0  9.962591  57.079460   2.795519\n",
              "497   32507189.0  9.962397  57.079485   2.780048\n",
              "498   32507189.0  9.962162  57.079415   2.868368\n",
              "499   32507189.0  9.961814  57.079267   2.826331\n",
              "\n",
              "[500 rows x 4 columns]"
            ]
          },
          "metadata": {},
          "execution_count": 94
        }
      ]
    },
    {
      "cell_type": "code",
      "source": [
        "df = df1.drop(0,axis=1)\n",
        "import plotly.express as px"
      ],
      "metadata": {
        "id": "vdZZa81M-nI9"
      },
      "execution_count": null,
      "outputs": []
    },
    {
      "cell_type": "code",
      "source": [
        "scaler = preprocessing.MinMaxScaler()\n",
        "\n",
        "names = df.columns\n",
        "d = scaler.fit_transform(df)\n",
        "\n",
        "scaled_df = pd.DataFrame(d, columns=names)"
      ],
      "metadata": {
        "id": "ipCQKJP6JDYx"
      },
      "execution_count": null,
      "outputs": []
    },
    {
      "cell_type": "code",
      "source": [
        "scaled_df"
      ],
      "metadata": {
        "colab": {
          "base_uri": "https://localhost:8080/",
          "height": 417
        },
        "id": "3OsaTxFKGb8w",
        "outputId": "c5e49e53-b353-4d5a-bf12-c70db2587af1"
      },
      "execution_count": null,
      "outputs": [
        {
          "output_type": "execute_result",
          "data": {
            "text/html": [
              "\n",
              "  <div id=\"df-35cff234-2498-4d78-ab61-5275f25639be\">\n",
              "    <div class=\"colab-df-container\">\n",
              "      <div>\n",
              "<style scoped>\n",
              "    .dataframe tbody tr th:only-of-type {\n",
              "        vertical-align: middle;\n",
              "    }\n",
              "\n",
              "    .dataframe tbody tr th {\n",
              "        vertical-align: top;\n",
              "    }\n",
              "\n",
              "    .dataframe thead th {\n",
              "        text-align: right;\n",
              "    }\n",
              "</style>\n",
              "<table border=\"1\" class=\"dataframe\">\n",
              "  <thead>\n",
              "    <tr style=\"text-align: right;\">\n",
              "      <th></th>\n",
              "      <th>1</th>\n",
              "      <th>2</th>\n",
              "      <th>3</th>\n",
              "    </tr>\n",
              "  </thead>\n",
              "  <tbody>\n",
              "    <tr>\n",
              "      <th>0</th>\n",
              "      <td>0.003218</td>\n",
              "      <td>0.543789</td>\n",
              "      <td>0.493735</td>\n",
              "    </tr>\n",
              "    <tr>\n",
              "      <th>1</th>\n",
              "      <td>0.003471</td>\n",
              "      <td>0.543740</td>\n",
              "      <td>0.493451</td>\n",
              "    </tr>\n",
              "    <tr>\n",
              "      <th>2</th>\n",
              "      <td>0.003913</td>\n",
              "      <td>0.543637</td>\n",
              "      <td>0.484673</td>\n",
              "    </tr>\n",
              "    <tr>\n",
              "      <th>3</th>\n",
              "      <td>0.696712</td>\n",
              "      <td>0.482707</td>\n",
              "      <td>0.155846</td>\n",
              "    </tr>\n",
              "    <tr>\n",
              "      <th>4</th>\n",
              "      <td>0.035085</td>\n",
              "      <td>0.530528</td>\n",
              "      <td>0.464930</td>\n",
              "    </tr>\n",
              "    <tr>\n",
              "      <th>...</th>\n",
              "      <td>...</td>\n",
              "      <td>...</td>\n",
              "      <td>...</td>\n",
              "    </tr>\n",
              "    <tr>\n",
              "      <th>495</th>\n",
              "      <td>0.712425</td>\n",
              "      <td>0.501752</td>\n",
              "      <td>0.015011</td>\n",
              "    </tr>\n",
              "    <tr>\n",
              "      <th>496</th>\n",
              "      <td>0.711434</td>\n",
              "      <td>0.502426</td>\n",
              "      <td>0.019851</td>\n",
              "    </tr>\n",
              "    <tr>\n",
              "      <th>497</th>\n",
              "      <td>0.711332</td>\n",
              "      <td>0.502453</td>\n",
              "      <td>0.019640</td>\n",
              "    </tr>\n",
              "    <tr>\n",
              "      <th>498</th>\n",
              "      <td>0.711208</td>\n",
              "      <td>0.502377</td>\n",
              "      <td>0.020846</td>\n",
              "    </tr>\n",
              "    <tr>\n",
              "      <th>499</th>\n",
              "      <td>0.711025</td>\n",
              "      <td>0.502220</td>\n",
              "      <td>0.020272</td>\n",
              "    </tr>\n",
              "  </tbody>\n",
              "</table>\n",
              "<p>500 rows × 3 columns</p>\n",
              "</div>\n",
              "      <button class=\"colab-df-convert\" onclick=\"convertToInteractive('df-35cff234-2498-4d78-ab61-5275f25639be')\"\n",
              "              title=\"Convert this dataframe to an interactive table.\"\n",
              "              style=\"display:none;\">\n",
              "        \n",
              "  <svg xmlns=\"http://www.w3.org/2000/svg\" height=\"24px\"viewBox=\"0 0 24 24\"\n",
              "       width=\"24px\">\n",
              "    <path d=\"M0 0h24v24H0V0z\" fill=\"none\"/>\n",
              "    <path d=\"M18.56 5.44l.94 2.06.94-2.06 2.06-.94-2.06-.94-.94-2.06-.94 2.06-2.06.94zm-11 1L8.5 8.5l.94-2.06 2.06-.94-2.06-.94L8.5 2.5l-.94 2.06-2.06.94zm10 10l.94 2.06.94-2.06 2.06-.94-2.06-.94-.94-2.06-.94 2.06-2.06.94z\"/><path d=\"M17.41 7.96l-1.37-1.37c-.4-.4-.92-.59-1.43-.59-.52 0-1.04.2-1.43.59L10.3 9.45l-7.72 7.72c-.78.78-.78 2.05 0 2.83L4 21.41c.39.39.9.59 1.41.59.51 0 1.02-.2 1.41-.59l7.78-7.78 2.81-2.81c.8-.78.8-2.07 0-2.86zM5.41 20L4 18.59l7.72-7.72 1.47 1.35L5.41 20z\"/>\n",
              "  </svg>\n",
              "      </button>\n",
              "      \n",
              "  <style>\n",
              "    .colab-df-container {\n",
              "      display:flex;\n",
              "      flex-wrap:wrap;\n",
              "      gap: 12px;\n",
              "    }\n",
              "\n",
              "    .colab-df-convert {\n",
              "      background-color: #E8F0FE;\n",
              "      border: none;\n",
              "      border-radius: 50%;\n",
              "      cursor: pointer;\n",
              "      display: none;\n",
              "      fill: #1967D2;\n",
              "      height: 32px;\n",
              "      padding: 0 0 0 0;\n",
              "      width: 32px;\n",
              "    }\n",
              "\n",
              "    .colab-df-convert:hover {\n",
              "      background-color: #E2EBFA;\n",
              "      box-shadow: 0px 1px 2px rgba(60, 64, 67, 0.3), 0px 1px 3px 1px rgba(60, 64, 67, 0.15);\n",
              "      fill: #174EA6;\n",
              "    }\n",
              "\n",
              "    [theme=dark] .colab-df-convert {\n",
              "      background-color: #3B4455;\n",
              "      fill: #D2E3FC;\n",
              "    }\n",
              "\n",
              "    [theme=dark] .colab-df-convert:hover {\n",
              "      background-color: #434B5C;\n",
              "      box-shadow: 0px 1px 3px 1px rgba(0, 0, 0, 0.15);\n",
              "      filter: drop-shadow(0px 1px 2px rgba(0, 0, 0, 0.3));\n",
              "      fill: #FFFFFF;\n",
              "    }\n",
              "  </style>\n",
              "\n",
              "      <script>\n",
              "        const buttonEl =\n",
              "          document.querySelector('#df-35cff234-2498-4d78-ab61-5275f25639be button.colab-df-convert');\n",
              "        buttonEl.style.display =\n",
              "          google.colab.kernel.accessAllowed ? 'block' : 'none';\n",
              "\n",
              "        async function convertToInteractive(key) {\n",
              "          const element = document.querySelector('#df-35cff234-2498-4d78-ab61-5275f25639be');\n",
              "          const dataTable =\n",
              "            await google.colab.kernel.invokeFunction('convertToInteractive',\n",
              "                                                     [key], {});\n",
              "          if (!dataTable) return;\n",
              "\n",
              "          const docLinkHtml = 'Like what you see? Visit the ' +\n",
              "            '<a target=\"_blank\" href=https://colab.research.google.com/notebooks/data_table.ipynb>data table notebook</a>'\n",
              "            + ' to learn more about interactive tables.';\n",
              "          element.innerHTML = '';\n",
              "          dataTable['output_type'] = 'display_data';\n",
              "          await google.colab.output.renderOutput(dataTable, element);\n",
              "          const docLink = document.createElement('div');\n",
              "          docLink.innerHTML = docLinkHtml;\n",
              "          element.appendChild(docLink);\n",
              "        }\n",
              "      </script>\n",
              "    </div>\n",
              "  </div>\n",
              "  "
            ],
            "text/plain": [
              "            1         2         3\n",
              "0    0.003218  0.543789  0.493735\n",
              "1    0.003471  0.543740  0.493451\n",
              "2    0.003913  0.543637  0.484673\n",
              "3    0.696712  0.482707  0.155846\n",
              "4    0.035085  0.530528  0.464930\n",
              "..        ...       ...       ...\n",
              "495  0.712425  0.501752  0.015011\n",
              "496  0.711434  0.502426  0.019851\n",
              "497  0.711332  0.502453  0.019640\n",
              "498  0.711208  0.502377  0.020846\n",
              "499  0.711025  0.502220  0.020272\n",
              "\n",
              "[500 rows x 3 columns]"
            ]
          },
          "metadata": {},
          "execution_count": 97
        }
      ]
    },
    {
      "cell_type": "markdown",
      "source": [
        "Будуемо графічне зображення точок\n"
      ],
      "metadata": {
        "id": "T-NPzhSNiWb3"
      }
    },
    {
      "cell_type": "code",
      "source": [
        "fig = px.scatter_3d(scaled_df, x=1, y=2, z=3)\n",
        "fig.show()"
      ],
      "metadata": {
        "colab": {
          "base_uri": "https://localhost:8080/",
          "height": 542
        },
        "id": "RkFPpVdsBmD2",
        "outputId": "4070a2a1-953c-44a5-9d4b-233f2df7750f"
      },
      "execution_count": null,
      "outputs": [
        {
          "output_type": "display_data",
          "data": {
            "text/html": [
              "<html>\n",
              "<head><meta charset=\"utf-8\" /></head>\n",
              "<body>\n",
              "    <div>\n",
              "            <script src=\"https://cdnjs.cloudflare.com/ajax/libs/mathjax/2.7.5/MathJax.js?config=TeX-AMS-MML_SVG\"></script><script type=\"text/javascript\">if (window.MathJax) {MathJax.Hub.Config({SVG: {font: \"STIX-Web\"}});}</script>\n",
              "                <script type=\"text/javascript\">window.PlotlyConfig = {MathJaxConfig: 'local'};</script>\n",
              "        <script src=\"https://cdn.plot.ly/plotly-latest.min.js\"></script>    \n",
              "            <div id=\"de6f97c1-6777-41ad-9979-66c215deff8f\" class=\"plotly-graph-div\" style=\"height:525px; width:100%;\"></div>\n",
              "            <script type=\"text/javascript\">\n",
              "                \n",
              "                    window.PLOTLYENV=window.PLOTLYENV || {};\n",
              "                    \n",
              "                if (document.getElementById(\"de6f97c1-6777-41ad-9979-66c215deff8f\")) {\n",
              "                    Plotly.newPlot(\n",
              "                        'de6f97c1-6777-41ad-9979-66c215deff8f',\n",
              "                        [{\"hoverlabel\": {\"namelength\": 0}, \"hovertemplate\": \"1=%{x}<br>2=%{y}<br>3=%{z}\", \"legendgroup\": \"\", \"marker\": {\"color\": \"#636efa\", \"symbol\": \"circle\"}, \"mode\": \"markers\", \"name\": \"\", \"scene\": \"scene\", \"showlegend\": false, \"type\": \"scatter3d\", \"x\": [0.0032177414512517544, 0.0034705508376582372, 0.003912651515259213, 0.6967123044443877, 0.035084722456183215, 0.03509608940611386, 0.03514255707642899, 0.0353542665188753, 0.035419310732363485, 0.035545978549407664, 0.035648123224474304, 0.03573626971119914, 0.03583983525500578, 0.03589356514333186, 0.03607643621280765, 0.03620531427011642, 0.03637660789059005, 0.03668083167552183, 0.037042153333945116, 0.9181869041264612, 0.8716308768249412, 0.8718679514056573, 0.8719740955631057, 0.8719740955631057, 0.8719301012568943, 0.8718499011101679, 0.871510576604849, 0.8614895051214164, 0.8625396323707362, 0.8627768122009885, 0.8633706300852948, 0.8798616010696296, 0.8800987282751134, 0.8798729153947917, 0.8797260922915289, 0.6416001213316651, 0.6422136208792768, 0.6426266200600663, 0.6862573943719594, 0.6862684981980482, 0.6862788652773828, 0.6862833910074491, 0.6862600782351373, 0.6859730101246369, 0.6857067814223416, 0.6763471506503445, 0.6763950391894022, 0.676471345103284, 0.6765208123853874, 0.676568753549212, 0.6766040647686697, 0.006284870815929544, 0.006326286508498313, 0.006709605320027734, 0.007019986202839057, 0.007200962780658848, 0.007578913865832426, 0.008028645134821488, 0.008194939402317303, 0.00845443213428343, 0.009729109269490444, 0.009922400043068436, 0.01008422120526653, 0.010216782996348428, 0.01035565975961461, 0.010494799646719954, 0.011666490110570749, 0.012304091802014305, 0.8646643573865882, 0.8646918275155855, 0.8646847231718802, 0.8646729352238047, 0.8646400447436831, 0.864295615635851, 0.8636905360511493, 0.8633086907331311, 0.8632736426375143, 0.8631885483873427, 0.8628150177826983, 0.8627260292996812, 0.8622799291396968, 0.8618395650794453, 0.8615685475232437, 0.8614499839205019, 0.8613088442922034, 0.8611846498392648, 0.8610830314118809, 0.8610378793607714, 0.8610269860337549, 0.860975782134302, 0.8608814785496977, 0.8607329714538521, 0.8604224853215054, 0.8604168018465401, 0.8603434429196763, 0.8602417192427572, 0.8601344699651765, 0.8594908690501581, 0.8592819487204251, 0.8591181804418051, 0.8590543465979854, 0.8590222454893857, 0.8590617666903002, 0.8590592933261947, 0.8590505049899075, 0.8590222454893857, 0.8587455970829883, 0.8586289279719006, 0.8585196789531295, 0.8584633178263923, 0.8584971029275739, 0.8585479910784182, 0.8586947615569116, 0.8587060758820746, 0.858566093998677, 0.7203754524611785, 0.7195278779446381, 0.8394140463610515, 0.840114166277111, 0.8410689374464644, 0.841108458647378, 0.8417351670118061, 0.8360829511591108, 0.8367378137745218, 0.8374718766660658, 0.837573442468682, 0.8381042158806915, 0.8382284629584005, 0.838330028761014, 0.8394140463610515, 0.8865872043191887, 0.0, 0.0004705706771952478, 0.001089437951161898, 0.0021248302653891216, 0.827813705584103, 0.8278172314435723, 0.8277318740695598, 0.8276245195424439, 0.8275003777142746, 0.8274213353124455, 0.8575495413514638, 0.8580226906422999, 0.8581807754459563, 0.8585910907635688, 0.8587472284508015, 0.8588976826630699, 0.8590715022724158, 0.8591984858380695, 0.8506940601740016, 0.8509888641254264, 0.8743282119435172, 0.8715517291735759, 0.870806457206406, 0.8703095741451143, 0.8697675916574799, 0.8494972150709543, 0.8492600878654706, 0.8353595710955091, 0.8354735563434188, 0.8357672025499445, 0.8361511528586902, 0.8475775687767566, 0.847340441571272, 0.8470129050140303, 0.8468897630564554, 0.8468322968095858, 0.8615808090942343, 0.8617716265037068, 0.8628218590025636, 0.8628556967285128, 0.8618055694791913, 0.8616711131964552, 0.8606424568525579, 0.8601568881164265, 0.8597854098777429, 0.8594229304744188, 0.8396311235298546, 0.8442802060512271, 0.8458893662130782, 0.8471314686167721, 0.8471951972110556, 0.8485372866743193, 0.8493967017637019, 0.8500968216797613, 0.8527842633419178, 0.8547705852174188, 0.855278729979104, 0.001089437951161898, 0.0012562058415701571, 0.0013013052679138326, 0.0011809524230521617, 0.8450649992193116, 0.8438624706412998, 0.8439256729879006, 0.8450266883880655, 0.8426880963142711, 0.8414414681805127, 0.8413059594024119, 0.8406103125916493, 0.8401530559808075, 0.8401586868310034, 0.8343093385966514, 0.8346040899233085, 0.8528734623240073, 0.8510656962869909, 0.8574367664732234, 0.8568483689400406, 0.8569160970167076, 0.8573677227773517, 0.8575495413514638, 0.8560240019462739, 0.8628556967285128, 0.862562050521988, 0.8573575661970905, 0.8485487062490185, 0.8472726608698373, 0.847227508818726, 0.8478824766836759, 0.8463015760223449, 0.8529074052994936, 0.8539925280196634, 0.8541732414736423, 0.8542059740794601, 0.8540592036009658, 0.8541506128233198, 0.8544317869597808, 0.8545786626878122, 0.8545786626878122, 0.8542624404557335, 0.8541280894225309, 0.8541833980539044, 0.8439256729879006, 0.8438398946157442, 0.8437043858376434, 0.842292252807912, 0.8412088667050934, 0.8403731327613952, 0.8403275597121391, 0.8398537789240859, 0.8364774790462643, 0.8358575066521654, 0.8587453339591473, 0.8575495413514638, 0.029486499615654083, 0.02994259848159775, 0.030084422231881014, 0.04355846788039486, 0.043524524904908546, 0.04344011477672449, 0.7173092177175588, 0.7165913632546195, 0.7168660645445941, 0.7169188998118612, 0.7173149011925242, 0.7176313339236771, 0.7178309396694393, 0.717864093273402, 0.71667293164532, 0.716798862715609, 0.71688569358313, 0.7180408598697685, 0.7181735269103857, 0.7182497801994998, 0.7185528462395308, 0.7186280996580496, 0.7187211928729855, 0.7188285474001024, 0.7190311001328826, 0.7195779240991911, 0.7199113546304714, 0.7201531654403253, 0.7202907265843859, 0.7208639155595602, 0.7209570087744952, 0.7210220003632157, 0.7213863216334264, 0.7214708896359143, 0.7215188307997407, 0.7215696663258173, 0.7217616414801897, 0.7219818235103146, 0.722263681768764, 1.0, 0.9999972635120535, 0.9999549531984258, 0.9992350463695256, 0.9992340464989296, 0.9999549531984258, 0.9967559461646518, 0.9967011637809611, 0.9966983220434784, 0.9971631566209407, 0.9966082810650976, 0.9965497623228652, 0.9960787706475243, 0.9960477746590586, 0.9950556399042885, 0.9950578501445522, 0.9951252098478411, 0.9951275253376419, 0.7949314349263963, 0.9949276564680396, 0.995401910879008, 0.9957271845712166, 0.6875114952228021, 0.995401910879008, 0.9953883863135813, 0.99537938747822, 0.9954426424495901, 0.9955871500630522, 0.9955510494720707, 0.995492320230766, 0.9953973851489435, 0.9952845576459337, 0.9951986740242411, 0.9950812155416306, 0.9950270646551571, 0.9950134874649645, 0.9950857412716951, 0.994858349648327, 0.9947063693177824, 0.9946024880253654, 0.9944715049773292, 0.9944352991368106, 0.9937984341921213, 0.9937984341921213, 0.9936358236584013, 0.9930757908752765, 0.9927505698078338, 0.9928545037250185, 0.9930215347392668, 0.9931706733323304, 0.8584801577522141, 0.8571966396559514, 0.8564298441585896, 0.8555412223228593, 0.8552110545272065, 0.8549739799464895, 0.85487662412533, 0.8546634411893743, 0.8531140627641927, 0.8519626328360976, 0.8518250716920361, 0.8512871939363214, 0.8507168993233973, 0.8505024007682387, 0.8503672077387456, 0.8525810791119195, 0.8528529386644115, 0.8547159080832643, 0.8554369200322967, 0.8494634825945413, 0.858553990301993, 0.8585648836290076, 0.8559761660319856, 0.856131461722927, 0.8567807987376792, 0.8572538954037476, 0.8576615268581813, 0.852421994437667, 0.8525810791119195, 0.8534327057356093, 0.8590956570410171, 0.8585745665863564, 0.8585734614662242, 0.8584801577522141, 0.8584689486765882, 0.858334755517693, 0.8583276511739868, 0.8582712374224819, 0.858245872284213, 0.8582289271088541, 0.8577644082800013, 0.8564643660065263, 0.8571703798966217, 0.9946836880426888, 0.9945301815938654, 0.9944760307073945, 0.9944444032217081, 0.8521453986560372, 0.8528529386644115, 0.8545567181594755, 0.8546571262171918, 0.8547086984900218, 0.8547159080832643, 0.8548434178965989, 0.8549119353447887, 0.8571966396559514, 0.9963338955237315, 0.9960061484674165, 0.9959682060095476, 0.9955957805250364, 0.9955869395639798, 0.9954696915804426, 0.9954606927450804, 0.9955869395639798, 0.9954877945007006, 0.995067690976204, 0.9950495880559451, 0.9950514299228317, 0.8674446291398379, 0.8675377749795432, 0.8676069765497187, 0.8677113840898167, 0.867818685992165, 0.8678638380432755, 0.8679316187447101, 0.868021922846931, 0.8680628649165874, 0.8680812309606871, 0.8680825992046604, 0.8681009652487601, 0.8681235938990843, 0.8681545898875509, 0.4992913285591092, 0.4994719893883204, 0.49737168226491146, 0.49810906051685233, 0.4982389384447554, 0.4983597649125304, 0.4984817491252054, 0.4986284669789329, 0.4988340193234988, 0.4990406241634302, 0.4992913285591092, 0.4994132601470156, 0.5428457969571197, 0.5420947888902168, 0.5417738830537662, 0.5417078389696819, 0.5416573191922156, 0.5415755403024418, 0.5415207579187511, 0.5414417155169238, 0.5399584864253617, 0.5408707894067817, 0.5415755403024418, 0.541166382729731, 0.5407557516635082, 0.5407049161374324, 0.5408602118283738, 0.5409217828071613, 0.5409648298675451, 0.5410182966320303, 0.5409217828071613, 0.5419498602786099, 0.542114628427826, 0.5425197338933874, 0.5427770163850907, 0.5428994215959104, 0.5431948044197865, 0.5432766359343288, 0.5399285955570274, 0.4316630284533174, 0.43168060512589435, 0.4317478069548786, 0.43184995162994433, 0.43232357454369463, 0.43274709867812344, 0.4330576374352395, 0.5249753202993368, 0.5241724242109935, 0.5232470702870611, 0.5224113889681323, 0.5182220364217072, 0.5151280684252493, 0.5150151356727042, 0.5150032950998602, 0.8827681722665464, 0.8827527005846978, 0.8827450173685412, 0.5261152254031973, 0.5228066536020428, 0.7858087208608113, 0.7858361909898077, 0.7855272309757391, 0.7870234057602756, 0.7867815949504227, 0.7864162211848473, 0.7863596495590395, 0.7860612144986066, 0.7871221824501768, 0.7871783330778399, 0.7871545993073843, 0.7858361909898077, 0.7877406813507655, 0.78722848448193, 0.45683608631914474, 0.8366853468806319, 0.8371889659122536, 0.8372228562629704, 0.8372228562629704, 0.8372228562629704, 0.7125830925355503, 0.7124247446080529, 0.7114338728477199, 0.7113320965460312, 0.7112080073426279, 0.7110248205245435], \"y\": [0.5437893943736327, 0.5437399545281494, 0.5436374442653857, 0.48270726614098436, 0.5305276630350875, 0.5310419228533334, 0.5313732659214452, 0.5322542134921378, 0.5324496236805487, 0.5326459949026727, 0.532869381850297, 0.5332604157901599, 0.533820484882078, 0.534034688618668, 0.5344284988781496, 0.5346916085525919, 0.534928983879837, 0.5351631557613459, 0.5351439350870706, 0.06791635931385542, 0.08691727720782438, 0.08591694789360105, 0.08541795783325767, 0.08470070633843108, 0.0844005434752404, 0.08417854468743258, 0.08347314594172417, 0.07964812498051543, 0.07940893436737895, 0.07919505097536472, 0.07903327696692486, 0.047454883738417664, 0.047845383770656724, 0.052631224882311756, 0.05309721945183554, 0.29085973648881946, 0.29086101786710117, 0.29090704070383566, 0.4684209660823413, 0.4684697652386802, 0.46852860185824596, 0.4686067659336075, 0.46867670783164783, 0.4689021236282258, 0.469061121317047, 0.45528897429511517, 0.45528897429511517, 0.4553061661204296, 0.4553310462154627, 0.45537162319448043, 0.455457368758033, 0.5359105196458671, 0.5359126552763485, 0.5359327302028163, 0.5359488542128901, 0.5359569696086908, 0.5359739478709642, 0.5359941295789525, 0.5358768834659031, 0.5358909786270303, 0.5359604933989814, 0.5359746953416291, 0.5360085450846555, 0.536049869534331, 0.5361029399516184, 0.536183987128112, 0.5369645600665223, 0.5373852792699765, 0.8244658040712594, 0.824246154476981, 0.8239829380210111, 0.8238985806172678, 0.8236620595422295, 0.8221984051965734, 0.8196082057756726, 0.817973487429029, 0.8178070150335444, 0.8174308237254877, 0.8157795542426456, 0.8153857439831711, 0.8134894109034079, 0.8120870491523817, 0.8113025252976058, 0.8107403205752064, 0.8100114298942884, 0.8089426536233688, 0.8077686975515874, 0.8060450301956692, 0.8057147549427981, 0.8041419698799004, 0.8034103028793709, 0.802257382767749, 0.8000452967223453, 0.8000115537608607, 0.7995755647994969, 0.7992480658662586, 0.7990132532955911, 0.7979813166503575, 0.7976290444035925, 0.7972953521419655, 0.7969588835607126, 0.7960716358801179, 0.7949715726227424, 0.7947989068988974, 0.794168148438267, 0.7939271425392391, 0.7929258521913027, 0.7925270232002006, 0.7921532878671798, 0.7919122819681377, 0.7909357649337068, 0.7899961943064824, 0.7890381504756618, 0.7884942053938317, 0.7873105322033709, 0.4482017777842202, 0.44829788115557534, 0.0325778682905451, 0.032477066532145216, 0.03339805717424582, 0.03351017777416132, 0.03933212001046371, 0.028709494030692895, 0.030473631584094107, 0.0323510643341649, 0.03243926587275325, 0.0323510643341649, 0.03275427136773601, 0.03281727246672261, 0.0325778682905451, 0.00924994949233593, 0.5393492050542719, 0.5395244335346874, 0.5396005687611023, 0.5397670411565798, 0.8751180469744568, 0.8749521084866032, 0.8748681782089633, 0.8748312318017497, 0.874781898737794, 0.8747232756812693, 0.5017833582276552, 0.5039262498456836, 0.5048727612719546, 0.5055303218950371, 0.5058198066058424, 0.5060666854886833, 0.5063505107787378, 0.5064462938055172, 0.4762363058034893, 0.4764089715273414, 0.5112218838908973, 0.5122671682265931, 0.5128895977283676, 0.5136116543917737, 0.5138357888100558, 0.4853067555544399, 0.4855808637258434, 0.4873622998860725, 0.48790848737990444, 0.4887680786458688, 0.48936594839717884, 0.4913857209183732, 0.4913234672900373, 0.4913234672900373, 0.4912220248425001, 0.4910494659001685, 0.5153794225169648, 0.5153439710511023, 0.5142235125226904, 0.5140362177300872, 0.5145721541976371, 0.5146449791968095, 0.5145222872260575, 0.5145097937877878, 0.514570232130211, 0.514733928206077, 0.4939687659771792, 0.4907694847449662, 0.48964219219904237, 0.48880139448127125, 0.48875643945978453, 0.48781067550419266, 0.4872108836854423, 0.4869991359239023, 0.48621429172455777, 0.4855558768492969, 0.4854188761543554, 0.5396005687611023, 0.538267721782006, 0.537882347262908, 0.5374789266662887, 0.48426681029492613, 0.48589255899358363, 0.4861146645629191, 0.48812023514145864, 0.48372489406204977, 0.4856598820533904, 0.4857596159965425, 0.48616666716498, 0.48719433254925804, 0.48734393346400395, 0.489729112359349, 0.49078603588115044, 0.4837120802791901, 0.47148911960341167, 0.49574059180028485, 0.4989203320136397, 0.4992192134985558, 0.5008132480846541, 0.5017833582276552, 0.4758873437839597, 0.5140362177300872, 0.5116956735116389, 0.4769945614034228, 0.49847259708467817, 0.4965671875754083, 0.4964050932223998, 0.5039512367222443, 0.49857158355717246, 0.4908501047953777, 0.49074866234784764, 0.49082340941444613, 0.4909622253952932, 0.4914729614232485, 0.49198177538377763, 0.4922203253077626, 0.4923324459076781, 0.4925815672025138, 0.49298007584904013, 0.4935262633428721, 0.4942006954467075, 0.4861146645629191, 0.48608572676999273, 0.48609159975379157, 0.4867422195778346, 0.4871255652479931, 0.48773592843757996, 0.48778195127430735, 0.488259157903812, 0.4897913659876778, 0.4901134190632277, 0.48797266307565934, 0.5017833582276552, 0.5134491329126689, 0.5131484361418615, 0.5133942472094688, 0.5057389729923827, 0.505986492564368, 0.5061727195417376, 0.43390351819493844, 0.4343008522447036, 0.4342952996054521, 0.4343518938130302, 0.43434292416504405, 0.4343356630214217, 0.4344267476611563, 0.43444191063752413, 0.4338689209812472, 0.4337288236221184, 0.43369678916500476, 0.4336540765555199, 0.433650873109805, 0.4336914500888227, 0.4340056013316058, 0.43408750276029906, 0.4341738890129889, 0.43417719924023146, 0.43418093659354895, 0.4341701516596501, 0.43416406511280314, 0.43415925994423077, 0.43416406511280314, 0.43414911569948345, 0.43413341881549883, 0.4340804551797248, 0.43364425265533413, 0.43356277835273005, 0.43352540481942725, 0.43350981471696315, 0.43350041794288074, 0.43349422461450615, 0.4334801294533648, 0.8948880054022865, 0.894949084433847, 0.8959052061972486, 0.8947689440033386, 0.8948340807328066, 0.8959052061972486, 0.8983993022468013, 0.897861977619435, 0.8978333601710844, 0.8971265732655667, 0.8971891472384712, 0.8966064404635219, 0.8966392223913076, 0.8966681601842339, 0.8967850859527147, 0.8968257697132387, 0.8981003139803931, 0.8981442011866321, 0.48474978312672334, 0.8952541592471164, 0.8951999142330607, 0.895165423800897, 0.4731705014759342, 0.8951999142330607, 0.8950865122548777, 0.8948448656666912, 0.8947807967524639, 0.894736375638594, 0.8944898171003288, 0.8944404840363589, 0.8944257481860802, 0.8944207294544739, 0.8944503079365518, 0.8944996410005004, 0.8945983071284189, 0.894716621056709, 0.8951260214186547, 0.8949735374027767, 0.895012512658937, 0.8950273552907362, 0.8950175313905504, 0.895012512658937, 0.8949188652626461, 0.8949188652626461, 0.8949829341768734, 0.8948941987306611, 0.8948497776167841, 0.8941495043842238, 0.8941297498023459, 0.8941939254981008, 0.7863538765323597, 0.7859992550920794, 0.7857874005490117, 0.7855524811968309, 0.7854652406919627, 0.7854219941748539, 0.7839854623362186, 0.7838578584153808, 0.7832366035103746, 0.7827748802018064, 0.7827197809355582, 0.7825040822576455, 0.7822877428905883, 0.78233098940769, 0.7824393726542738, 0.7847753252671907, 0.7839905878493667, 0.7847515129873912, 0.7845889915082935, 0.7809399464981794, 0.7822372352298572, 0.7819971903645353, 0.7814405382813732, 0.7814160853124577, 0.7813109055115888, 0.7812946747199803, 0.7813294854967126, 0.784711149571443, 0.7847753252671907, 0.7851190549920517, 0.7810759861593937, 0.787210264352602, 0.7870729433130919, 0.7863538765323597, 0.7862564917827228, 0.7852029852696916, 0.7851468181882169, 0.7847789558389948, 0.7846492162876686, 0.7845719064645067, 0.7829779786599218, 0.7847621911397695, 0.7847173428998104, 0.8948251110847991, 0.8948350417665125, 0.8948695321986762, 0.8949484437447026, 0.7836848723469529, 0.7839905878493667, 0.7845477738401456, 0.7846361889417821, 0.784711149571443, 0.7847515129873912, 0.7854531743797679, 0.7858300063769761, 0.7859992550920794, 0.8941545231158372, 0.8941495043842238, 0.894071660653438, 0.8940682436446821, 0.8940070578315868, 0.8930349188396249, 0.8929854789941416, 0.8940070578315868, 0.8939626367177098, 0.8939522789099144, 0.8939029458459515, 0.893404489693232, 0.3192542250245367, 0.31933238909991246, 0.3194137566209889, 0.31947003048399125, 0.3195543878877345, 0.3195669881075247, 0.3195669881075247, 0.319604468422348, 0.3196404537958486, 0.31968423422058123, 0.3197233162582549, 0.31973111130947984, 0.31971381270263777, 0.31972491798110525, 0.011082213657871876, 0.011019212558871061, 0.009884445306290957, 0.010304417039087355, 0.010417819017284558, 0.010565284301534916, 0.010720437855511022, 0.010846440053491335, 0.010949804568454624, 0.011010349692405441, 0.011082213657871876, 0.011174259331319547, 0.40063391919372293, 0.40024993283442, 0.40008580963245777, 0.40005206667095905, 0.4000262255422129, 0.3999408003232432, 0.39976279552320193, 0.39944447980097664, 0.4006791945597783, 0.39996429225845986, 0.3999408003232432, 0.40033674621320614, 0.4008002848076728, 0.40084588051830394, 0.40127033707509696, 0.40171390752463054, 0.4018418317900583, 0.40200050913429664, 0.40171390752463054, 0.4021847072627267, 0.40205176426569267, 0.40172458567700176, 0.40151689561336923, 0.401397193525284, 0.4011080291590403, 0.40099932556789497, 0.4000311374923129, 0.0006809457767644744, 0.0005516333515487304, 0.00042872781774150326, 0.00034981627171504215, 0.00020171029830606813, 0.00012610897952214373, 0.0, 0.5756397601430621, 0.5752929337540209, 0.5748660212221779, 0.5745179134548479, 0.5726534012691573, 0.5713109439529305, 0.5712239170111033, 0.571116388016705, 0.007387572937112452, 0.007489015384656739, 0.008186832642167019, 0.5751021151711342, 0.5828575504574616, 0.41649279075220136, 0.41641035541589133, 0.417687676002636, 0.41651211820799716, 0.4165143606199919, 0.41651777762874787, 0.4164779481204164, 0.4164837143226947, 0.41715504976231443, 0.41666727176195906, 0.4165129724601897, 0.41641035541589133, 0.417197869153334, 0.417215915230841, 0.024764664199871333, 1.0, 0.9984196334489184, 0.9983028144619581, 0.998216748553844, 0.9981368759741045, 0.5018603477062626, 0.5017518576781725, 0.502425969437418, 0.502452771599863, 0.502377383844113, 0.5022195607520601], \"z\": [0.49373491692041516, 0.4934509863668187, 0.4846730399445245, 0.1558459774597932, 0.46492970480789914, 0.44409839451788413, 0.4363340427146619, 0.4179638084638054, 0.4134131417407444, 0.4040423414051653, 0.40512467144323183, 0.3897967989855552, 0.376407581755147, 0.37223809098526844, 0.37317656031819935, 0.3679866142409449, 0.3774899628553924, 0.38667069028602025, 0.3980925255399775, 0.01635483374114957, 0.057178176299975764, 0.04511723375763499, 0.04317988903460832, 0.04843873525400037, 0.05609595028610474, 0.05644930429252962, 0.05449934495449242, 0.3373455329895625, 0.33132492687654824, 0.3219271866427049, 0.31826995276098685, 0.013387712370068645, 0.019259467867111496, 0.02205034995487421, 0.028055988405192286, 0.45828928162461824, 0.4435598809520177, 0.4348648443033913, 0.0713590460978338, 0.07274934281253675, 0.06911784689914016, 0.06864896421010641, 0.07098390227822515, 0.06895614976912812, 0.07058322000187653, 0.4536354050371822, 0.4516504902470344, 0.4485806549599681, 0.451867498312988, 0.44855890170811136, 0.45353076287191185, 0.6624714129725809, 0.6607859287688458, 0.6723814003226171, 0.6765580064547729, 0.6769597980361564, 0.6784275247744713, 0.6777112058747311, 0.6727769492028154, 0.6677567785184835, 0.6259501503593372, 0.6192252148617724, 0.6160333666174552, 0.6133421714183039, 0.6051822273273622, 0.6050938067871358, 0.599708687112474, 0.5685585772311024, 0.9999999999999998, 0.9847745831900654, 0.9753123169003305, 0.9719724192011512, 0.9628966069705314, 0.9403878768445976, 0.8999303953395411, 0.8926344930749565, 0.892433698387756, 0.8927321034975159, 0.8550385061399457, 0.8377311003634315, 0.8177504535256127, 0.788715244440763, 0.7752181666066075, 0.7560446969659823, 0.7337434969200156, 0.7211316239422217, 0.6631338387077591, 0.6584650625674892, 0.6549601684402051, 0.6607787482418472, 0.6503668167014922, 0.7201411773912212, 0.7469646159317717, 0.7473434596397569, 0.7464704548616381, 0.7268001159853703, 0.7075285923478343, 0.7282905352289304, 0.7153831579895616, 0.6977393841179483, 0.6848480884129751, 0.686426708033901, 0.6708478235781945, 0.6668453479000078, 0.6447994588794442, 0.6382930857154994, 0.5912619591044875, 0.5697451942817103, 0.5476026234309487, 0.5369317647654579, 0.526618310142019, 0.5284067123525331, 0.5240523040317151, 0.5141237227211085, 0.4835691643637172, 0.4279655297354731, 0.3980027945429888, 0.5402158182539802, 0.4839065854928284, 0.3848837074535499, 0.38624921500040166, 0.4537432531236804, 0.5377877423685581, 0.5333671237076207, 0.5321637091452188, 0.5251665517875412, 0.5264670568345727, 0.539342830444239, 0.5435299539959642, 0.5368617456297511, 0.0014541802711436867, 0.49299506486973477, 0.5194398733610287, 0.5493502875223406, 0.5740362701968962, 0.401024843044091, 0.39854389919101435, 0.3978930700690412, 0.3999287015956691, 0.39997650411655783, 0.4003001333336215, 0.11903277509646107, 0.11722618264726836, 0.10877922168365767, 0.1165117521088751, 0.11557876983164925, 0.11956025395103581, 0.12016417899377471, 0.12431606955042149, 0.07191888384940502, 0.06731261535502978, 0.13521762994386888, 0.13281240586518325, 0.13444977117220397, 0.13733695566479032, 0.1265025608395712, 0.08327447130935359, 0.0829580332494946, 0.1352454959275513, 0.1284242887067559, 0.12639617996710703, 0.12563362365850606, 0.10179702945885337, 0.10294266536800772, 0.10491783575798506, 0.10179962707608166, 0.10362806127001092, 0.13154021765279253, 0.13280617586707863, 0.13608955432237688, 0.1368691209258277, 0.12822599386078873, 0.13023290415664415, 0.10734385568930382, 0.10402542507902983, 0.09455260723705024, 0.09101327456750931, 0.11010841474582808, 0.09623147055457727, 0.09579523995024539, 0.09374104635010228, 0.09490925304519741, 0.08628065504565545, 0.07892687924846822, 0.08309295164936481, 0.08081177822136903, 0.08413476376782318, 0.0864088612754895, 0.552950884782364, 0.522882056008964, 0.5169293646717271, 0.5020463381364034, 0.08515145373744135, 0.08757526414805493, 0.09192639096772072, 0.08238970567685122, 0.09658314838285682, 0.09253569904189954, 0.09493036042396458, 0.09415202459940769, 0.09337285137304613, 0.09655916355673064, 0.0933618624793192, 0.10280660842400355, 0.079412901368564, 0.04670834220385825, 0.11443184194325634, 0.11192743787667425, 0.11366281637983458, 0.11844021873846033, 0.11734651347881725, 0.0612040951806371, 0.13242936046409653, 0.13461482989214038, 0.06283493239759044, 0.12045458600035644, 0.11202896830816683, 0.11222103632761829, 0.1263373982984901, 0.11768699327002707, 0.09753804499709243, 0.08352825041889364, 0.088298707749948, 0.09052520436873837, 0.09489552812431284, 0.09390305468586416, 0.09435200140633503, 0.09627609708018217, 0.09041482327370572, 0.09960017257278644, 0.09914467888274833, 0.09183534473912498, 0.09120135048309304, 0.08801232033802951, 0.09260130205675098, 0.0903943825393056, 0.09834545119389423, 0.09357389321611391, 0.09550409810319949, 0.10118255564163454, 0.12979635628590114, 0.1110396436202089, 0.10231030131264884, 0.11951052844739674, 0.12736720666185364, 0.13208248901757735, 0.131458166702804, 0.10719027111206791, 0.10532576932231516, 0.10731996480753858, 0.13936478563946106, 0.1577348829227309, 0.14609719762543105, 0.14488850282471008, 0.14076345436927218, 0.14232115834561726, 0.14252799227480697, 0.13992483785354942, 0.14462454967335753, 0.15253237900910308, 0.14864640173124843, 0.12730802368668723, 0.12163460986298194, 0.12491918503326496, 0.11473388905779397, 0.11140061249732533, 0.11527643769928536, 0.11179837494403647, 0.11240011326559837, 0.11120746757968131, 0.10130872869383209, 0.09662437776210053, 0.09345579099628817, 0.1080339458173025, 0.11375124371736195, 0.11364415668417438, 0.11954196364377476, 0.12316514441665202, 0.12601851179702436, 0.12128319354276612, 0.12430424323062383, 0.11889145925696235, 0.11752491321667854, 0.23077616613425592, 0.22669831125604156, 0.21105938185919776, 0.22435078412838308, 0.2260885883280488, 0.21298024295306975, 0.16268235327816294, 0.17273435065967405, 0.16961941529913035, 0.18482977776831058, 0.18884593235874422, 0.20250520358835797, 0.2015698714716158, 0.1986158554150434, 0.20219474856126923, 0.1982516814067156, 0.16762779421346463, 0.16851618868603987, 0.056405777664063156, 0.22281527626155215, 0.22423898486172447, 0.2288313197532055, 0.046609930300269456, 0.2265130584360307, 0.2246463162091947, 0.22860203907853222, 0.22934755028617645, 0.22997792959839553, 0.22865634462702542, 0.23035093881557483, 0.23185472778002164, 0.23174933106640233, 0.22887175473193522, 0.2301833577260591, 0.23157935989388875, 0.22959262573053035, 0.23085439405614916, 0.22550368029063772, 0.22871845684822847, 0.2325516229826048, 0.23264571972955916, 0.23086313915703027, 0.23684087163105821, 0.23818984788236208, 0.23731468947319012, 0.24075539704917304, 0.2411328497856683, 0.2428330224899209, 0.241007848221157, 0.2449726460077793, 0.46053863696617603, 0.4636399672951605, 0.46358666784036207, 0.4664307887593846, 0.46466163534192806, 0.46726500997637466, 0.4280449670045648, 0.42717566498160464, 0.4268486113373735, 0.4296471270602358, 0.4297428495785747, 0.43581546017567474, 0.4398579518317657, 0.44015547821549555, 0.4349135463518557, 0.4137687599662852, 0.42745802238260017, 0.46319693583523247, 0.4382942620369705, 0.39948607689830357, 0.4835258404351662, 0.48296053034332065, 0.4507137158821134, 0.44577615438055707, 0.4530988124916415, 0.457622326534676, 0.4671541077884721, 0.41062715293068147, 0.4159515054633292, 0.4536488001797379, 0.5016765396843383, 0.4877496552019853, 0.479615564968077, 0.4611117832551783, 0.4643174443642687, 0.44303970955239613, 0.4400682861291306, 0.43013813437511383, 0.42641842830418475, 0.420124954311228, 0.44420269648084043, 0.44050495545901336, 0.4480838386761225, 0.23296866116128573, 0.23301620624769148, 0.23396845339722988, 0.2381151957791416, 0.4118539889652731, 0.42986544437405105, 0.45820015445415735, 0.4591599663000696, 0.4665093382757655, 0.4641238678842505, 0.4662705679492829, 0.4663043415093123, 0.46280198155753854, 0.24292968686895366, 0.24362441162362464, 0.2377697867001653, 0.2380038718047932, 0.24203578535794396, 0.23426720218246838, 0.23703342121916837, 0.2404782128482542, 0.23920303098393603, 0.23616506400544035, 0.2373604986827444, 0.24234879593903685, 0.5482423526157042, 0.5565105003992473, 0.5699298271666872, 0.5833238419567026, 0.6180704045584298, 0.6206860891058498, 0.6255206140965779, 0.622152971816929, 0.6131859015454473, 0.6019880479110902, 0.5986645573651191, 0.5824624306348528, 0.5931988371783461, 0.5798024567914475, 0.3855031695226759, 0.3753818552464015, 0.4788621911206959, 0.48347647860842113, 0.4884531082995395, 0.48121727715006535, 0.4711204036517981, 0.45434218871360676, 0.43245602561436225, 0.407805583030185, 0.3874422333226369, 0.3773712121546375, 0.029446128136224492, 0.017139855227356574, 0.017228469367496814, 0.02149631319039716, 0.02263325203501637, 0.01870068994636937, 0.02715301811004342, 0.030917337214058864, 0.008350516839855583, 0.01658189194324284, 0.023869712186300122, 0.01695103080704359, 0.008105332394996927, 0.009310437305033985, 0.006394798378611632, 0.004876437276752316, 0.005549084029883085, 0.003714205378370531, 0.007129594986165708, 0.01001241400801263, 0.006802039122991946, 0.009225752988785755, 0.01817323789634468, 0.015064502060965254, 0.02262172043541958, 0.026314543287298146, 0.013216687662555994, 0.09220805884637674, 0.08573649859789334, 0.08642248153250542, 0.09582683009079321, 0.13875802190926712, 0.16893558930982402, 0.20702215458620465, 0.041367305800928504, 0.039803660519563286, 0.035860402409925336, 0.03534057317475439, 0.029666132643319687, 0.024655852859799682, 0.022284211078348132, 0.027613447511971215, 0.002674652457655389, 0.0018125652958358995, 0.0, 0.042183948657445555, 0.0640065294072696, 0.05514016301593229, 0.05257611208289635, 0.07002610898891037, 0.03276090443975893, 0.03498177313385949, 0.03837355408928312, 0.03891676970818549, 0.04161233441635855, 0.04390364453999116, 0.0299871995628156, 0.030463450700517827, 0.053690592978490284, 0.021551705015172916, 0.03753001635028737, 0.43145852131609136, 0.24309252890532024, 0.24757546913688483, 0.24423065481056716, 0.234265632769585, 0.23434436256939578, 0.011388532389842537, 0.015010791908837508, 0.019851304762319687, 0.01963998953674974, 0.02084630005881942, 0.02027214622004129]}],\n",
              "                        {\"legend\": {\"tracegroupgap\": 0}, \"margin\": {\"t\": 60}, \"scene\": {\"domain\": {\"x\": [0.0, 1.0], \"y\": [0.0, 1.0]}, \"xaxis\": {\"title\": {\"text\": \"1\"}}, \"yaxis\": {\"title\": {\"text\": \"2\"}}, \"zaxis\": {\"title\": {\"text\": \"3\"}}}, \"template\": {\"data\": {\"bar\": [{\"error_x\": {\"color\": \"#2a3f5f\"}, \"error_y\": {\"color\": \"#2a3f5f\"}, \"marker\": {\"line\": {\"color\": \"#E5ECF6\", \"width\": 0.5}}, \"type\": \"bar\"}], \"barpolar\": [{\"marker\": {\"line\": {\"color\": \"#E5ECF6\", \"width\": 0.5}}, \"type\": \"barpolar\"}], \"carpet\": [{\"aaxis\": {\"endlinecolor\": \"#2a3f5f\", \"gridcolor\": \"white\", \"linecolor\": \"white\", \"minorgridcolor\": \"white\", \"startlinecolor\": \"#2a3f5f\"}, \"baxis\": {\"endlinecolor\": \"#2a3f5f\", \"gridcolor\": \"white\", \"linecolor\": \"white\", \"minorgridcolor\": \"white\", \"startlinecolor\": \"#2a3f5f\"}, \"type\": \"carpet\"}], \"choropleth\": [{\"colorbar\": {\"outlinewidth\": 0, \"ticks\": \"\"}, \"type\": \"choropleth\"}], \"contour\": [{\"colorbar\": {\"outlinewidth\": 0, \"ticks\": \"\"}, \"colorscale\": [[0.0, \"#0d0887\"], [0.1111111111111111, \"#46039f\"], [0.2222222222222222, \"#7201a8\"], [0.3333333333333333, \"#9c179e\"], [0.4444444444444444, \"#bd3786\"], [0.5555555555555556, \"#d8576b\"], [0.6666666666666666, \"#ed7953\"], [0.7777777777777778, \"#fb9f3a\"], [0.8888888888888888, \"#fdca26\"], [1.0, \"#f0f921\"]], \"type\": \"contour\"}], \"contourcarpet\": [{\"colorbar\": {\"outlinewidth\": 0, \"ticks\": \"\"}, \"type\": \"contourcarpet\"}], \"heatmap\": [{\"colorbar\": {\"outlinewidth\": 0, \"ticks\": \"\"}, \"colorscale\": [[0.0, \"#0d0887\"], [0.1111111111111111, \"#46039f\"], [0.2222222222222222, \"#7201a8\"], [0.3333333333333333, \"#9c179e\"], [0.4444444444444444, \"#bd3786\"], [0.5555555555555556, \"#d8576b\"], [0.6666666666666666, \"#ed7953\"], [0.7777777777777778, \"#fb9f3a\"], [0.8888888888888888, \"#fdca26\"], [1.0, \"#f0f921\"]], \"type\": \"heatmap\"}], \"heatmapgl\": [{\"colorbar\": {\"outlinewidth\": 0, \"ticks\": \"\"}, \"colorscale\": [[0.0, \"#0d0887\"], [0.1111111111111111, \"#46039f\"], [0.2222222222222222, \"#7201a8\"], [0.3333333333333333, \"#9c179e\"], [0.4444444444444444, \"#bd3786\"], [0.5555555555555556, \"#d8576b\"], [0.6666666666666666, \"#ed7953\"], [0.7777777777777778, \"#fb9f3a\"], [0.8888888888888888, \"#fdca26\"], [1.0, \"#f0f921\"]], \"type\": \"heatmapgl\"}], \"histogram\": [{\"marker\": {\"colorbar\": {\"outlinewidth\": 0, \"ticks\": \"\"}}, \"type\": \"histogram\"}], \"histogram2d\": [{\"colorbar\": {\"outlinewidth\": 0, \"ticks\": \"\"}, \"colorscale\": [[0.0, \"#0d0887\"], [0.1111111111111111, \"#46039f\"], [0.2222222222222222, \"#7201a8\"], [0.3333333333333333, \"#9c179e\"], [0.4444444444444444, \"#bd3786\"], [0.5555555555555556, \"#d8576b\"], [0.6666666666666666, \"#ed7953\"], [0.7777777777777778, \"#fb9f3a\"], [0.8888888888888888, \"#fdca26\"], [1.0, \"#f0f921\"]], \"type\": \"histogram2d\"}], \"histogram2dcontour\": [{\"colorbar\": {\"outlinewidth\": 0, \"ticks\": \"\"}, \"colorscale\": [[0.0, \"#0d0887\"], [0.1111111111111111, \"#46039f\"], [0.2222222222222222, \"#7201a8\"], [0.3333333333333333, \"#9c179e\"], [0.4444444444444444, \"#bd3786\"], [0.5555555555555556, \"#d8576b\"], [0.6666666666666666, \"#ed7953\"], [0.7777777777777778, \"#fb9f3a\"], [0.8888888888888888, \"#fdca26\"], [1.0, \"#f0f921\"]], \"type\": \"histogram2dcontour\"}], \"mesh3d\": [{\"colorbar\": {\"outlinewidth\": 0, \"ticks\": \"\"}, \"type\": \"mesh3d\"}], \"parcoords\": [{\"line\": {\"colorbar\": {\"outlinewidth\": 0, \"ticks\": \"\"}}, \"type\": \"parcoords\"}], \"pie\": [{\"automargin\": true, \"type\": \"pie\"}], \"scatter\": [{\"marker\": {\"colorbar\": {\"outlinewidth\": 0, \"ticks\": \"\"}}, \"type\": \"scatter\"}], \"scatter3d\": [{\"line\": {\"colorbar\": {\"outlinewidth\": 0, \"ticks\": \"\"}}, \"marker\": {\"colorbar\": {\"outlinewidth\": 0, \"ticks\": \"\"}}, \"type\": \"scatter3d\"}], \"scattercarpet\": [{\"marker\": {\"colorbar\": {\"outlinewidth\": 0, \"ticks\": \"\"}}, \"type\": \"scattercarpet\"}], \"scattergeo\": [{\"marker\": {\"colorbar\": {\"outlinewidth\": 0, \"ticks\": \"\"}}, \"type\": \"scattergeo\"}], \"scattergl\": [{\"marker\": {\"colorbar\": {\"outlinewidth\": 0, \"ticks\": \"\"}}, \"type\": \"scattergl\"}], \"scattermapbox\": [{\"marker\": {\"colorbar\": {\"outlinewidth\": 0, \"ticks\": \"\"}}, \"type\": \"scattermapbox\"}], \"scatterpolar\": [{\"marker\": {\"colorbar\": {\"outlinewidth\": 0, \"ticks\": \"\"}}, \"type\": \"scatterpolar\"}], \"scatterpolargl\": [{\"marker\": {\"colorbar\": {\"outlinewidth\": 0, \"ticks\": \"\"}}, \"type\": \"scatterpolargl\"}], \"scatterternary\": [{\"marker\": {\"colorbar\": {\"outlinewidth\": 0, \"ticks\": \"\"}}, \"type\": \"scatterternary\"}], \"surface\": [{\"colorbar\": {\"outlinewidth\": 0, \"ticks\": \"\"}, \"colorscale\": [[0.0, \"#0d0887\"], [0.1111111111111111, \"#46039f\"], [0.2222222222222222, \"#7201a8\"], [0.3333333333333333, \"#9c179e\"], [0.4444444444444444, \"#bd3786\"], [0.5555555555555556, \"#d8576b\"], [0.6666666666666666, \"#ed7953\"], [0.7777777777777778, \"#fb9f3a\"], [0.8888888888888888, \"#fdca26\"], [1.0, \"#f0f921\"]], \"type\": \"surface\"}], \"table\": [{\"cells\": {\"fill\": {\"color\": \"#EBF0F8\"}, \"line\": {\"color\": \"white\"}}, \"header\": {\"fill\": {\"color\": \"#C8D4E3\"}, \"line\": {\"color\": \"white\"}}, \"type\": \"table\"}]}, \"layout\": {\"annotationdefaults\": {\"arrowcolor\": \"#2a3f5f\", \"arrowhead\": 0, \"arrowwidth\": 1}, \"coloraxis\": {\"colorbar\": {\"outlinewidth\": 0, \"ticks\": \"\"}}, \"colorscale\": {\"diverging\": [[0, \"#8e0152\"], [0.1, \"#c51b7d\"], [0.2, \"#de77ae\"], [0.3, \"#f1b6da\"], [0.4, \"#fde0ef\"], [0.5, \"#f7f7f7\"], [0.6, \"#e6f5d0\"], [0.7, \"#b8e186\"], [0.8, \"#7fbc41\"], [0.9, \"#4d9221\"], [1, \"#276419\"]], \"sequential\": [[0.0, \"#0d0887\"], [0.1111111111111111, \"#46039f\"], [0.2222222222222222, \"#7201a8\"], [0.3333333333333333, \"#9c179e\"], [0.4444444444444444, \"#bd3786\"], [0.5555555555555556, \"#d8576b\"], [0.6666666666666666, \"#ed7953\"], [0.7777777777777778, \"#fb9f3a\"], [0.8888888888888888, \"#fdca26\"], [1.0, \"#f0f921\"]], \"sequentialminus\": [[0.0, \"#0d0887\"], [0.1111111111111111, \"#46039f\"], [0.2222222222222222, \"#7201a8\"], [0.3333333333333333, \"#9c179e\"], [0.4444444444444444, \"#bd3786\"], [0.5555555555555556, \"#d8576b\"], [0.6666666666666666, \"#ed7953\"], [0.7777777777777778, \"#fb9f3a\"], [0.8888888888888888, \"#fdca26\"], [1.0, \"#f0f921\"]]}, \"colorway\": [\"#636efa\", \"#EF553B\", \"#00cc96\", \"#ab63fa\", \"#FFA15A\", \"#19d3f3\", \"#FF6692\", \"#B6E880\", \"#FF97FF\", \"#FECB52\"], \"font\": {\"color\": \"#2a3f5f\"}, \"geo\": {\"bgcolor\": \"white\", \"lakecolor\": \"white\", \"landcolor\": \"#E5ECF6\", \"showlakes\": true, \"showland\": true, \"subunitcolor\": \"white\"}, \"hoverlabel\": {\"align\": \"left\"}, \"hovermode\": \"closest\", \"mapbox\": {\"style\": \"light\"}, \"paper_bgcolor\": \"white\", \"plot_bgcolor\": \"#E5ECF6\", \"polar\": {\"angularaxis\": {\"gridcolor\": \"white\", \"linecolor\": \"white\", \"ticks\": \"\"}, \"bgcolor\": \"#E5ECF6\", \"radialaxis\": {\"gridcolor\": \"white\", \"linecolor\": \"white\", \"ticks\": \"\"}}, \"scene\": {\"xaxis\": {\"backgroundcolor\": \"#E5ECF6\", \"gridcolor\": \"white\", \"gridwidth\": 2, \"linecolor\": \"white\", \"showbackground\": true, \"ticks\": \"\", \"zerolinecolor\": \"white\"}, \"yaxis\": {\"backgroundcolor\": \"#E5ECF6\", \"gridcolor\": \"white\", \"gridwidth\": 2, \"linecolor\": \"white\", \"showbackground\": true, \"ticks\": \"\", \"zerolinecolor\": \"white\"}, \"zaxis\": {\"backgroundcolor\": \"#E5ECF6\", \"gridcolor\": \"white\", \"gridwidth\": 2, \"linecolor\": \"white\", \"showbackground\": true, \"ticks\": \"\", \"zerolinecolor\": \"white\"}}, \"shapedefaults\": {\"line\": {\"color\": \"#2a3f5f\"}}, \"ternary\": {\"aaxis\": {\"gridcolor\": \"white\", \"linecolor\": \"white\", \"ticks\": \"\"}, \"baxis\": {\"gridcolor\": \"white\", \"linecolor\": \"white\", \"ticks\": \"\"}, \"bgcolor\": \"#E5ECF6\", \"caxis\": {\"gridcolor\": \"white\", \"linecolor\": \"white\", \"ticks\": \"\"}}, \"title\": {\"x\": 0.05}, \"xaxis\": {\"automargin\": true, \"gridcolor\": \"white\", \"linecolor\": \"white\", \"ticks\": \"\", \"title\": {\"standoff\": 15}, \"zerolinecolor\": \"white\", \"zerolinewidth\": 2}, \"yaxis\": {\"automargin\": true, \"gridcolor\": \"white\", \"linecolor\": \"white\", \"ticks\": \"\", \"title\": {\"standoff\": 15}, \"zerolinecolor\": \"white\", \"zerolinewidth\": 2}}}},\n",
              "                        {\"responsive\": true}\n",
              "                    ).then(function(){\n",
              "                            \n",
              "var gd = document.getElementById('de6f97c1-6777-41ad-9979-66c215deff8f');\n",
              "var x = new MutationObserver(function (mutations, observer) {{\n",
              "        var display = window.getComputedStyle(gd).display;\n",
              "        if (!display || display === 'none') {{\n",
              "            console.log([gd, 'removed!']);\n",
              "            Plotly.purge(gd);\n",
              "            observer.disconnect();\n",
              "        }}\n",
              "}});\n",
              "\n",
              "// Listen for the removal of the full notebook cells\n",
              "var notebookContainer = gd.closest('#notebook-container');\n",
              "if (notebookContainer) {{\n",
              "    x.observe(notebookContainer, {childList: true});\n",
              "}}\n",
              "\n",
              "// Listen for the clearing of the current output cell\n",
              "var outputEl = gd.closest('.output');\n",
              "if (outputEl) {{\n",
              "    x.observe(outputEl, {childList: true});\n",
              "}}\n",
              "\n",
              "                        })\n",
              "                };\n",
              "                \n",
              "            </script>\n",
              "        </div>\n",
              "</body>\n",
              "</html>"
            ]
          },
          "metadata": {}
        }
      ]
    },
    {
      "cell_type": "code",
      "source": [
        "#0.2 ----- 5\n",
        "scaler = preprocessing.MinMaxScaler()\n",
        "\n",
        "names = df.columns\n",
        "d = scaler.fit_transform(df)\n",
        "\n",
        "scaled_df = pd.DataFrame(d, columns=names)\n",
        "\n",
        "DBS = DBSCAN(eps=0.3, min_samples=10)\n",
        "DBS.fit(scaled_df)\n",
        "print(DBS.labels_)\n"
      ],
      "metadata": {
        "colab": {
          "base_uri": "https://localhost:8080/"
        },
        "id": "qz7nS-Ri7oD2",
        "outputId": "f1398a0a-3140-4e22-8489-db56d371a5c2"
      },
      "execution_count": null,
      "outputs": [
        {
          "output_type": "stream",
          "name": "stdout",
          "text": [
            "[0 0 0 1 0 0 0 0 0 0 0 0 0 0 0 0 0 0 0 1 1 1 1 1 1 1 1 1 1 1 1 1 1 1 1 1 1\n",
            " 1 1 1 1 1 1 1 1 1 1 1 1 1 1 0 0 0 0 0 0 0 0 0 0 0 0 0 0 0 0 0 2 2 2 2 2 2\n",
            " 2 2 2 2 2 2 2 2 2 2 2 2 2 2 2 2 2 2 2 2 2 2 2 2 2 2 2 2 2 2 2 2 2 2 2 2 2\n",
            " 2 2 2 2 1 1 1 1 1 1 1 1 1 1 1 1 1 1 1 1 0 0 0 0 2 2 2 2 2 2 1 1 1 1 1 1 1\n",
            " 1 1 1 1 1 1 1 1 1 1 1 1 1 1 1 1 1 1 1 1 1 1 1 1 1 1 1 1 1 1 1 1 1 1 1 1 1\n",
            " 1 1 1 0 0 0 0 1 1 1 1 1 1 1 1 1 1 1 1 1 1 1 1 1 1 1 1 1 1 1 1 1 1 1 1 1 1\n",
            " 1 1 1 1 1 1 1 1 1 1 1 1 1 1 1 1 1 1 1 1 1 1 0 0 0 0 0 0 1 1 1 1 1 1 1 1 1\n",
            " 1 1 1 1 1 1 1 1 1 1 1 1 1 1 1 1 1 1 1 1 1 1 1 1 2 2 2 2 2 2 2 2 2 2 2 2 2\n",
            " 2 2 2 2 2 1 2 2 2 1 2 2 2 2 2 2 2 2 2 2 2 2 2 2 2 2 2 2 2 2 2 2 2 2 2 2 2\n",
            " 2 2 2 2 2 2 2 2 2 2 2 2 2 2 2 2 2 2 2 2 2 2 2 2 2 2 2 2 2 2 2 2 2 2 2 2 2\n",
            " 2 2 2 2 2 2 2 2 2 2 2 2 2 2 2 2 2 2 2 2 2 2 2 2 2 2 2 2 2 2 2 1 1 1 1 1 1\n",
            " 1 1 1 1 1 1 1 1 3 3 3 3 3 3 3 3 3 3 3 3 1 1 1 1 1 1 1 1 1 1 1 1 1 1 1 1 1\n",
            " 1 1 1 1 1 1 1 1 1 1 3 3 3 3 3 3 3 1 1 1 1 1 1 1 1 1 1 1 1 1 1 1 1 1 1 1 1\n",
            " 1 1 1 1 1 1 1 3 2 2 2 2 2 1 1 1 1 1 1]\n"
          ]
        }
      ]
    },
    {
      "cell_type": "code",
      "source": [
        "pd.unique(DBS.labels_)"
      ],
      "metadata": {
        "colab": {
          "base_uri": "https://localhost:8080/"
        },
        "id": "ZmBCPBWFKSEA",
        "outputId": "1c83d03c-a4d6-414d-9ed0-7b71f7abfa74"
      },
      "execution_count": null,
      "outputs": [
        {
          "output_type": "execute_result",
          "data": {
            "text/plain": [
              "array([0, 1, 2, 3])"
            ]
          },
          "metadata": {},
          "execution_count": 100
        }
      ]
    },
    {
      "cell_type": "code",
      "source": [
        "plt.scatter(scaled_df.iloc[:,0],scaled_df.iloc[:,1], c=DBS.labels_, cmap='rainbow')"
      ],
      "metadata": {
        "colab": {
          "base_uri": "https://localhost:8080/",
          "height": 282
        },
        "id": "MBTkhdJu_WGs",
        "outputId": "17b6c84d-d946-4689-ad79-825e7eb50b2d"
      },
      "execution_count": null,
      "outputs": [
        {
          "output_type": "execute_result",
          "data": {
            "text/plain": [
              "<matplotlib.collections.PathCollection at 0x7f79250d4610>"
            ]
          },
          "metadata": {},
          "execution_count": 101
        },
        {
          "output_type": "display_data",
          "data": {
            "image/png": "[encoded data removed]",
            "text/plain": [
              "<Figure size 432x288 with 1 Axes>"
            ]
          },
          "metadata": {
            "needs_background": "light"
          }
        }
      ]
    },
    {
      "cell_type": "code",
      "source": [
        "plt.scatter(scaled_df.iloc[:,1],scaled_df.iloc[:,2], c=DBS.labels_, cmap='rainbow')"
      ],
      "metadata": {
        "colab": {
          "base_uri": "https://localhost:8080/",
          "height": 282
        },
        "id": "mihBHzla_UdU",
        "outputId": "e18dd75a-1311-44ae-c80a-220af3fd14c2"
      },
      "execution_count": null,
      "outputs": [
        {
          "output_type": "execute_result",
          "data": {
            "text/plain": [
              "<matplotlib.collections.PathCollection at 0x7f79250d4590>"
            ]
          },
          "metadata": {},
          "execution_count": 102
        },
        {
          "output_type": "display_data",
          "data": {
            "image/png": "[encoded data removed]",
            "text/plain": [
              "<Figure size 432x288 with 1 Axes>"
            ]
          },
          "metadata": {
            "needs_background": "light"
          }
        }
      ]
    },
    {
      "cell_type": "code",
      "source": [
        "plt.scatter(scaled_df.iloc[:,0],scaled_df.iloc[:,2], c=DBS.labels_, cmap='rainbow')"
      ],
      "metadata": {
        "colab": {
          "base_uri": "https://localhost:8080/",
          "height": 282
        },
        "id": "GMmz4Yy-IKh7",
        "outputId": "3a4e67f7-f263-4dae-95ed-321e503a7694"
      },
      "execution_count": null,
      "outputs": [
        {
          "output_type": "execute_result",
          "data": {
            "text/plain": [
              "<matplotlib.collections.PathCollection at 0x7f7925058c10>"
            ]
          },
          "metadata": {},
          "execution_count": 103
        },
        {
          "output_type": "display_data",
          "data": {
            "image/png": "[encoded data removed]",
            "text/plain": [
              "<Figure size 432x288 with 1 Axes>"
            ]
          },
          "metadata": {
            "needs_background": "light"
          }
        }
      ]
    },
    {
      "cell_type": "code",
      "source": [
        "from scipy.spatial import distance\n",
        "import pandas as pd\n",
        "import seaborn as sns\n",
        "import matplotlib.pyplot as plt\n",
        "from sklearn.preprocessing import StandardScaler\n",
        "from sklearn.manifold import TSNE\n",
        "from sklearn.cluster import DBSCAN\n",
        "from typing import List"
      ],
      "metadata": {
        "id": "72lsAyzDdG_t"
      },
      "execution_count": null,
      "outputs": []
    },
    {
      "cell_type": "code",
      "source": [
        "class DBS:\n",
        "  def __init__(self, min_samples: int , eps: float):\n",
        "    self.min_samples = min_samples\n",
        "    self.eps = eps\n",
        "\n",
        "  def get_neighbors(self, x_index: int, dataset: np.array) -> List:\n",
        "    neighbor_indices = []\n",
        "    for y_index , point_y in enumerate(dataset):\n",
        "      if x_index != y_index and np.linalg.norm(dataset[x_index] - point_y) <= self.eps:\n",
        "        neighbor_indices.append(y_index)\n",
        "    return neighbor_indices\n",
        "\n",
        "  def is_core(self, x_index : int , dataset: np.array) -> bool:\n",
        "    return len(self.get_neighbors(x_index, dataset)) >= self.min_samples\n",
        "\n",
        "  def visit_neighbors(self, x_index : int , dataset: np.array, cluster_index : int) -> None:\n",
        "    for neighbor_index in self.get_neighbors(x_index,dataset):\n",
        "          if self.cluster_per_point[neighbor_index] == -1:\n",
        "            self.cluster_per_point[neighbor_index] = cluster_index\n",
        "            if self.is_core(neighbor_index, dataset):\n",
        "              self.visit_neighbors(neighbor_index, dataset,cluster_index)\n",
        "              \n",
        "\n",
        "\n",
        "  def run_clustering(self, dataset: np.array) -> List:\n",
        "    cluster_index = 0 \n",
        "    self.cluster_per_point = [-1] * len(dataset)\n",
        "    for x_index, point_x in enumerate(dataset):\n",
        "      if self.cluster_per_point[x_index] != -1:\n",
        "        continue\n",
        "      if self.is_core(x_index,dataset):\n",
        "        self.cluster_per_point[x_index] = cluster_index\n",
        "        self.visit_neighbors(x_index, dataset, cluster_index)\n",
        "      cluster_index += 1\n",
        "    return self.cluster_per_point"
      ],
      "metadata": {
        "id": "-IcRFFz6zrSi"
      },
      "execution_count": null,
      "outputs": []
    },
    {
      "cell_type": "code",
      "source": [
        "X = scaled_df.to_numpy()"
      ],
      "metadata": {
        "id": "KJWhOQRD2sWz"
      },
      "execution_count": null,
      "outputs": []
    },
    {
      "cell_type": "code",
      "source": [
        "type(X)"
      ],
      "metadata": {
        "colab": {
          "base_uri": "https://localhost:8080/"
        },
        "id": "MyrDiQB23DGr",
        "outputId": "c256ac4d-b97f-4ee5-ce3d-9fbef159e9d3"
      },
      "execution_count": null,
      "outputs": [
        {
          "output_type": "execute_result",
          "data": {
            "text/plain": [
              "numpy.ndarray"
            ]
          },
          "metadata": {},
          "execution_count": 107
        }
      ]
    },
    {
      "cell_type": "code",
      "source": [
        "dbscan_instance = DBS(10 ,0.3)\n",
        "clustering = dbscan_instance.run_clustering(X)"
      ],
      "metadata": {
        "id": "2seaJRs9zybw"
      },
      "execution_count": null,
      "outputs": []
    },
    {
      "cell_type": "code",
      "source": [
        "max(clustering)"
      ],
      "metadata": {
        "id": "PpPYIhL73-a7",
        "colab": {
          "base_uri": "https://localhost:8080/"
        },
        "outputId": "8701691b-d35f-4400-b99c-f8b7d5043a66"
      },
      "execution_count": null,
      "outputs": [
        {
          "output_type": "execute_result",
          "data": {
            "text/plain": [
              "3"
            ]
          },
          "metadata": {},
          "execution_count": 109
        }
      ]
    },
    {
      "cell_type": "code",
      "source": [
        "plt.scatter(scaled_df.iloc[:,0],scaled_df.iloc[:,1], c=clustering , cmap='rainbow')"
      ],
      "metadata": {
        "colab": {
          "base_uri": "https://localhost:8080/",
          "height": 282
        },
        "id": "ITbMAXEM3nFr",
        "outputId": "df7fca3f-bd8a-4c2b-c720-2cb7bb426567"
      },
      "execution_count": null,
      "outputs": [
        {
          "output_type": "execute_result",
          "data": {
            "text/plain": [
              "<matplotlib.collections.PathCollection at 0x7f7924fc8310>"
            ]
          },
          "metadata": {},
          "execution_count": 110
        },
        {
          "output_type": "display_data",
          "data": {
            "image/png": "[encoded data removed]",
            "text/plain": [
              "<Figure size 432x288 with 1 Axes>"
            ]
          },
          "metadata": {
            "needs_background": "light"
          }
        }
      ]
    },
    {
      "cell_type": "code",
      "source": [
        "plt.scatter(scaled_df.iloc[:,0],scaled_df.iloc[:,2], c=clustering , cmap='rainbow')"
      ],
      "metadata": {
        "colab": {
          "base_uri": "https://localhost:8080/",
          "height": 282
        },
        "id": "0MKZ1T4oDfS2",
        "outputId": "c7c58c94-875a-46d9-b92a-4bac85d39440"
      },
      "execution_count": null,
      "outputs": [
        {
          "output_type": "execute_result",
          "data": {
            "text/plain": [
              "<matplotlib.collections.PathCollection at 0x7f7924fba550>"
            ]
          },
          "metadata": {},
          "execution_count": 111
        },
        {
          "output_type": "display_data",
          "data": {
            "image/png": "[encoded data removed]",
            "text/plain": [
              "<Figure size 432x288 with 1 Axes>"
            ]
          },
          "metadata": {
            "needs_background": "light"
          }
        }
      ]
    },
    {
      "cell_type": "code",
      "source": [
        "plt.scatter(scaled_df.iloc[:,1],scaled_df.iloc[:,2], c=clustering , cmap='rainbow')"
      ],
      "metadata": {
        "id": "_qN7No7ZDplU",
        "outputId": "f8ff30eb-472d-4021-f654-99976df26931",
        "colab": {
          "base_uri": "https://localhost:8080/",
          "height": 282
        }
      },
      "execution_count": null,
      "outputs": [
        {
          "output_type": "execute_result",
          "data": {
            "text/plain": [
              "<matplotlib.collections.PathCollection at 0x7f792368ec10>"
            ]
          },
          "metadata": {},
          "execution_count": 112
        },
        {
          "output_type": "display_data",
          "data": {
            "image/png": "[encoded data removed]",
            "text/plain": [
              "<Figure size 432x288 with 1 Axes>"
            ]
          },
          "metadata": {
            "needs_background": "light"
          }
        }
      ]
    },
    {
      "cell_type": "markdown",
      "source": [
        "##Affini\n"
      ],
      "metadata": {
        "id": "RK3EDy3roKoW"
      }
    },
    {
      "cell_type": "code",
      "source": [
        "affini = AffinityPropagation(damping=0.9)\n",
        "affini.fit(X)"
      ],
      "metadata": {
        "colab": {
          "base_uri": "https://localhost:8080/"
        },
        "id": "WZO04oK2oNri",
        "outputId": "f41d4a70-3546-4a92-a5a6-ffd6476d9e3a"
      },
      "execution_count": null,
      "outputs": [
        {
          "output_type": "execute_result",
          "data": {
            "text/plain": [
              "AffinityPropagation(damping=0.9)"
            ]
          },
          "metadata": {},
          "execution_count": 113
        }
      ]
    },
    {
      "cell_type": "code",
      "source": [
        "max(affini.fit_predict(X))"
      ],
      "metadata": {
        "colab": {
          "base_uri": "https://localhost:8080/"
        },
        "id": "KB5ViNXTo4bq",
        "outputId": "4c236b0a-8100-43ac-99a7-65240553b275"
      },
      "execution_count": null,
      "outputs": [
        {
          "output_type": "execute_result",
          "data": {
            "text/plain": [
              "16"
            ]
          },
          "metadata": {},
          "execution_count": 114
        }
      ]
    },
    {
      "cell_type": "code",
      "source": [
        "plt.scatter(X[:,0],X[:,1], c=affini.labels_, cmap='rainbow')"
      ],
      "metadata": {
        "colab": {
          "base_uri": "https://localhost:8080/",
          "height": 282
        },
        "id": "bTfgiNwUodi0",
        "outputId": "8788b870-b27c-4796-bbaa-1308b4d6c54f"
      },
      "execution_count": null,
      "outputs": [
        {
          "output_type": "execute_result",
          "data": {
            "text/plain": [
              "<matplotlib.collections.PathCollection at 0x7f792367b2d0>"
            ]
          },
          "metadata": {},
          "execution_count": 115
        },
        {
          "output_type": "display_data",
          "data": {
            "image/png": "[encoded data removed]",
            "text/plain": [
              "<Figure size 432x288 with 1 Axes>"
            ]
          },
          "metadata": {
            "needs_background": "light"
          }
        }
      ]
    },
    {
      "cell_type": "code",
      "source": [
        "plt.scatter(X[:,0],X[:,2], c=affini.labels_, cmap='rainbow')"
      ],
      "metadata": {
        "colab": {
          "base_uri": "https://localhost:8080/",
          "height": 282
        },
        "id": "80tL1G3lowza",
        "outputId": "34c46abc-fa3c-409b-8053-5a80471f0897"
      },
      "execution_count": null,
      "outputs": [
        {
          "output_type": "execute_result",
          "data": {
            "text/plain": [
              "<matplotlib.collections.PathCollection at 0x7f79235d8d10>"
            ]
          },
          "metadata": {},
          "execution_count": 116
        },
        {
          "output_type": "display_data",
          "data": {
            "image/png": "[encoded data removed]",
            "text/plain": [
              "<Figure size 432x288 with 1 Axes>"
            ]
          },
          "metadata": {
            "needs_background": "light"
          }
        }
      ]
    },
    {
      "cell_type": "code",
      "source": [
        "plt.scatter(X[:,1],X[:,2], c=affini.labels_, cmap='rainbow')"
      ],
      "metadata": {
        "colab": {
          "base_uri": "https://localhost:8080/",
          "height": 282
        },
        "id": "uyeXBJO_pJEx",
        "outputId": "32b4cf50-c8a1-4fda-d806-b3c02c03f485"
      },
      "execution_count": null,
      "outputs": [
        {
          "output_type": "execute_result",
          "data": {
            "text/plain": [
              "<matplotlib.collections.PathCollection at 0x7f792354f410>"
            ]
          },
          "metadata": {},
          "execution_count": 117
        },
        {
          "output_type": "display_data",
          "data": {
            "image/png": "[encoded data removed]",
            "text/plain": [
              "<Figure size 432x288 with 1 Axes>"
            ]
          },
          "metadata": {
            "needs_background": "light"
          }
        }
      ]
    },
    {
      "cell_type": "markdown",
      "source": [
        "##K- means"
      ],
      "metadata": {
        "id": "Csl-Dg1PpP8D"
      }
    },
    {
      "cell_type": "code",
      "source": [
        "kmeans = KMeans(n_clusters=4)\n",
        "kmeans.fit(X)"
      ],
      "metadata": {
        "colab": {
          "base_uri": "https://localhost:8080/"
        },
        "id": "95RLzNc6pUtq",
        "outputId": "08890520-0948-4f48-f711-d977a712aa6f"
      },
      "execution_count": null,
      "outputs": [
        {
          "output_type": "execute_result",
          "data": {
            "text/plain": [
              "KMeans(n_clusters=4)"
            ]
          },
          "metadata": {},
          "execution_count": 118
        }
      ]
    },
    {
      "cell_type": "code",
      "source": [
        "plt.scatter(X[:,0],X[:,1], c=kmeans.labels_, cmap='rainbow')"
      ],
      "metadata": {
        "colab": {
          "base_uri": "https://localhost:8080/",
          "height": 282
        },
        "id": "SgFhENiypgug",
        "outputId": "53c86a15-2eef-4ee0-98ca-a05e01d971c3"
      },
      "execution_count": null,
      "outputs": [
        {
          "output_type": "execute_result",
          "data": {
            "text/plain": [
              "<matplotlib.collections.PathCollection at 0x7f79250dced0>"
            ]
          },
          "metadata": {},
          "execution_count": 119
        },
        {
          "output_type": "display_data",
          "data": {
            "image/png": "[encoded data removed]",
            "text/plain": [
              "<Figure size 432x288 with 1 Axes>"
            ]
          },
          "metadata": {
            "needs_background": "light"
          }
        }
      ]
    },
    {
      "cell_type": "code",
      "source": [
        "plt.scatter(X[:,0],X[:,2], c=kmeans.labels_, cmap='rainbow')"
      ],
      "metadata": {
        "colab": {
          "base_uri": "https://localhost:8080/",
          "height": 282
        },
        "id": "RTHBE7XWpnNB",
        "outputId": "dd593c96-90b6-4da8-cf3c-d69830ec6751"
      },
      "execution_count": null,
      "outputs": [
        {
          "output_type": "execute_result",
          "data": {
            "text/plain": [
              "<matplotlib.collections.PathCollection at 0x7f79250dcbd0>"
            ]
          },
          "metadata": {},
          "execution_count": 120
        },
        {
          "output_type": "display_data",
          "data": {
            "image/png": "[encoded data removed]",
            "text/plain": [
              "<Figure size 432x288 with 1 Axes>"
            ]
          },
          "metadata": {
            "needs_background": "light"
          }
        }
      ]
    },
    {
      "cell_type": "code",
      "source": [
        "plt.scatter(X[:,1],X[:,2], c=kmeans.labels_, cmap='rainbow')"
      ],
      "metadata": {
        "colab": {
          "base_uri": "https://localhost:8080/",
          "height": 282
        },
        "id": "kXrkW5zNpoJ5",
        "outputId": "a098463e-5170-4faf-d6c4-bc2fd73e293a"
      },
      "execution_count": null,
      "outputs": [
        {
          "output_type": "execute_result",
          "data": {
            "text/plain": [
              "<matplotlib.collections.PathCollection at 0x7f79235a9050>"
            ]
          },
          "metadata": {},
          "execution_count": 121
        },
        {
          "output_type": "display_data",
          "data": {
            "image/png": "[encoded data removed]",
            "text/plain": [
              "<Figure size 432x288 with 1 Axes>"
            ]
          },
          "metadata": {
            "needs_background": "light"
          }
        }
      ]
    }
  ]
}